{
 "metadata": {
  "language_info": {
   "codemirror_mode": {
    "name": "ipython",
    "version": 3
   },
   "file_extension": ".py",
   "mimetype": "text/x-python",
   "name": "python",
   "nbconvert_exporter": "python",
   "pygments_lexer": "ipython3",
   "version": "3.8.3-final"
  },
  "orig_nbformat": 2,
  "kernelspec": {
   "name": "python3",
   "display_name": "Python 3.8.3 32-bit",
   "metadata": {
    "interpreter": {
     "hash": "ca585555a2867b459a38eaf8b2b47956aef7a6f770e52f1f5dfa1f8f05e57688"
    }
   }
  }
 },
 "nbformat": 4,
 "nbformat_minor": 2,
 "cells": [
  {
   "cell_type": "code",
   "execution_count": 1,
   "metadata": {},
   "outputs": [],
   "source": [
    "import numpy as np\n",
    "import pandas as pd\n",
    "import matplotlib.pyplot as plt\n",
    "from sklearn.model_selection import train_test_split\n",
    "from sklearn.ensemble import RandomForestRegressor\n",
    "from sklearn.metrics import r2_score\n",
    "\n",
    "%matplotlib inline\n",
    "%config InlineBackend.figure_format = 'svg'\n",
    "pd.options.display.float_format = '{:,.2f}'.format\n",
    "\n",
    "DATASET_PATH = 'train.csv'\n",
    "TEST_DATASET_PATH = 'test.csv'"
   ]
  },
  {
   "cell_type": "code",
   "execution_count": 2,
   "metadata": {},
   "outputs": [],
   "source": [
    "df = pd.read_csv(DATASET_PATH, index_col='Id')\n",
    "test_df = pd.read_csv(TEST_DATASET_PATH, index_col='Id')"
   ]
  },
  {
   "cell_type": "code",
   "execution_count": 3,
   "metadata": {},
   "outputs": [],
   "source": [
    "df = df.drop(['Ecology_2', 'Ecology_3'], axis=1)\n",
    "test_df = test_df.drop(['Ecology_2', 'Ecology_3'], axis=1)\n",
    "\n",
    "df['Helthcare_2'] = df['Helthcare_2'].astype('category')\n",
    "df = pd.get_dummies(df)\n",
    "test_df['Helthcare_2'] = test_df['Helthcare_2'].astype('category')\n",
    "test_df = pd.get_dummies(test_df)"
   ]
  },
  {
   "cell_type": "code",
   "execution_count": 4,
   "metadata": {},
   "outputs": [],
   "source": [
    "df[\"LifeSquare\"].fillna(df[\"LifeSquare\"].mean(), inplace=True)\n",
    "df[\"Healthcare_1\"].fillna(df[\"Healthcare_1\"].mean(), inplace=True)\n",
    "\n",
    "test_df[\"LifeSquare\"].fillna(test_df[\"LifeSquare\"].mean(), inplace=True)\n",
    "test_df[\"Healthcare_1\"].fillna(test_df[\"Healthcare_1\"].mean(), inplace=True)"
   ]
  },
  {
   "cell_type": "code",
   "execution_count": 5,
   "metadata": {},
   "outputs": [],
   "source": [
    "target = \"Price\"\n",
    "\n",
    "y = df[target]\n",
    "X = df.drop(target, axis=1)\n",
    "X_train, X_test, y_train, y_test = train_test_split(X, y, test_size=0.3, random_state = 42)"
   ]
  },
  {
   "cell_type": "code",
   "execution_count": 6,
   "metadata": {},
   "outputs": [
    {
     "output_type": "stream",
     "name": "stdout",
     "text": [
      "Random Forest Regressor\n",
      "0.7199438848360998\n"
     ]
    }
   ],
   "source": [
    "print(\"Random Forest Regressor\")\n",
    "\n",
    "randomforest = RandomForestRegressor(random_state=0,  n_jobs=-1)\n",
    "randomforest.fit(X_train, y_train)\n",
    "y_pred = randomforest.predict(X_test)\n",
    "print(r2_score(y_test, y_pred))"
   ]
  },
  {
   "cell_type": "code",
   "execution_count": 7,
   "metadata": {},
   "outputs": [
    {
     "output_type": "execute_result",
     "data": {
      "text/plain": [
       "      Id      Price\n",
       "0    725 163,675.92\n",
       "1  15856 220,690.24\n",
       "2   5480 180,950.11\n",
       "3  15664 345,748.30\n",
       "4  14275 136,413.77"
      ],
      "text/html": "<div>\n<style scoped>\n    .dataframe tbody tr th:only-of-type {\n        vertical-align: middle;\n    }\n\n    .dataframe tbody tr th {\n        vertical-align: top;\n    }\n\n    .dataframe thead th {\n        text-align: right;\n    }\n</style>\n<table border=\"1\" class=\"dataframe\">\n  <thead>\n    <tr style=\"text-align: right;\">\n      <th></th>\n      <th>Id</th>\n      <th>Price</th>\n    </tr>\n  </thead>\n  <tbody>\n    <tr>\n      <th>0</th>\n      <td>725</td>\n      <td>163,675.92</td>\n    </tr>\n    <tr>\n      <th>1</th>\n      <td>15856</td>\n      <td>220,690.24</td>\n    </tr>\n    <tr>\n      <th>2</th>\n      <td>5480</td>\n      <td>180,950.11</td>\n    </tr>\n    <tr>\n      <th>3</th>\n      <td>15664</td>\n      <td>345,748.30</td>\n    </tr>\n    <tr>\n      <th>4</th>\n      <td>14275</td>\n      <td>136,413.77</td>\n    </tr>\n  </tbody>\n</table>\n</div>"
     },
     "metadata": {},
     "execution_count": 7
    }
   ],
   "source": [
    "# Прогнозирование\n",
    "\n",
    "y_pred = randomforest.predict(test_df)\n",
    "preds = pd.DataFrame()\n",
    "preds['Id'] = test_df.index\n",
    "preds['Price'] = y_pred\n",
    "preds.head()"
   ]
  },
  {
   "cell_type": "code",
   "execution_count": 8,
   "metadata": {},
   "outputs": [],
   "source": [
    "preds.to_csv('ASolomennik_predictions.csv', index=False)"
   ]
  }
 ]
}