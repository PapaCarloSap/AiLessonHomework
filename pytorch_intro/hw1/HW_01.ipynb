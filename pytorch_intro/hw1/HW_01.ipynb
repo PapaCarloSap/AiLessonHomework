{
 "cells": [
  {
   "cell_type": "code",
   "execution_count": 1,
   "metadata": {},
   "outputs": [],
   "source": [
    "import torch"
   ]
  },
  {
   "cell_type": "code",
   "execution_count": 2,
   "metadata": {},
   "outputs": [
    {
     "data": {
      "text/plain": [
       "tensor([[[ 2.1019e-44,  0.0000e+00, -4.4592e-28,  7.5390e-43, -9.8289e-30],\n",
       "         [ 7.5390e-43,  0.0000e+00,  0.0000e+00,  2.1019e-44,  0.0000e+00],\n",
       "         [ 1.4013e-45,  0.0000e+00, -4.4598e-28,  7.5390e-43, -2.8950e+26],\n",
       "         [-4.0576e+29,  0.0000e+00,  0.0000e+00,  2.1019e-44,  0.0000e+00]],\n",
       "\n",
       "        [[ 2.9423e+26,  1.7699e+31,  7.7447e+31,  8.7654e-39,  0.0000e+00],\n",
       "         [ 0.0000e+00,  2.1019e-44,  0.0000e+00,  1.4013e-45,  0.0000e+00],\n",
       "         [ 1.7753e+28,  3.0452e+32,  1.6664e+35,  1.0510e-43,  0.0000e+00],\n",
       "         [ 0.0000e+00,  2.1019e-44,  0.0000e+00,  1.7615e+19,  4.5559e-41]],\n",
       "\n",
       "        [[-9.8160e-30,  7.5390e-43,  0.0000e+00,  0.0000e+00,  2.1019e-44],\n",
       "         [ 0.0000e+00,  1.4013e-45,  0.0000e+00, -4.4598e-28,  7.5390e-43],\n",
       "         [ 1.4956e+14,  3.9960e+02,  0.0000e+00,  0.0000e+00,  2.1019e-44],\n",
       "         [ 0.0000e+00,  6.7421e+22,  1.6630e+22, -6.3293e-30,  7.5390e-43]]])"
      ]
     },
     "execution_count": 2,
     "metadata": {},
     "output_type": "execute_result"
    }
   ],
   "source": [
    "# Создайте случайный FloatTensor размера 3x4x5\n",
    "x=torch.FloatTensor(3,4,5)\n",
    "x"
   ]
  },
  {
   "cell_type": "code",
   "execution_count": 3,
   "metadata": {},
   "outputs": [
    {
     "data": {
      "text/plain": [
       "torch.Size([3, 4, 5])"
      ]
     },
     "execution_count": 3,
     "metadata": {},
     "output_type": "execute_result"
    }
   ],
   "source": [
    "# Выведите его форму (shape)\n",
    "x.shape"
   ]
  },
  {
   "cell_type": "code",
   "execution_count": 4,
   "metadata": {},
   "outputs": [
    {
     "data": {
      "text/plain": [
       "tensor([[ 2.1019e-44,  0.0000e+00, -4.4592e-28,  7.5390e-43, -9.8289e-30,\n",
       "          7.5390e-43,  0.0000e+00,  0.0000e+00,  2.1019e-44,  0.0000e+00],\n",
       "        [ 1.4013e-45,  0.0000e+00, -4.4598e-28,  7.5390e-43, -2.8950e+26,\n",
       "         -4.0576e+29,  0.0000e+00,  0.0000e+00,  2.1019e-44,  0.0000e+00],\n",
       "        [ 2.9423e+26,  1.7699e+31,  7.7447e+31,  8.7654e-39,  0.0000e+00,\n",
       "          0.0000e+00,  2.1019e-44,  0.0000e+00,  1.4013e-45,  0.0000e+00],\n",
       "        [ 1.7753e+28,  3.0452e+32,  1.6664e+35,  1.0510e-43,  0.0000e+00,\n",
       "          0.0000e+00,  2.1019e-44,  0.0000e+00,  1.7615e+19,  4.5559e-41],\n",
       "        [-9.8160e-30,  7.5390e-43,  0.0000e+00,  0.0000e+00,  2.1019e-44,\n",
       "          0.0000e+00,  1.4013e-45,  0.0000e+00, -4.4598e-28,  7.5390e-43],\n",
       "        [ 1.4956e+14,  3.9960e+02,  0.0000e+00,  0.0000e+00,  2.1019e-44,\n",
       "          0.0000e+00,  6.7421e+22,  1.6630e+22, -6.3293e-30,  7.5390e-43]])"
      ]
     },
     "execution_count": 4,
     "metadata": {},
     "output_type": "execute_result"
    }
   ],
   "source": [
    "# Приведите его к форме 6 X 10\n",
    "x.view(6,10)"
   ]
  },
  {
   "cell_type": "code",
   "execution_count": 5,
   "metadata": {},
   "outputs": [
    {
     "data": {
      "text/plain": [
       "tensor([[[ 2.1019e-44,  0.0000e+00, -8.9183e-28,  1.5078e-42, -9.8289e-30],\n",
       "         [ 7.5390e-43,  0.0000e+00,  0.0000e+00,  4.2039e-44,  0.0000e+00],\n",
       "         [ 1.4013e-45,  0.0000e+00, -8.9196e-28,  1.5078e-42, -2.8950e+26],\n",
       "         [-4.0576e+29,  0.0000e+00,  0.0000e+00,  4.2039e-44,  0.0000e+00]],\n",
       "\n",
       "        [[ 2.9423e+26,  7.0796e+31,  1.5489e+32,  1.7531e-38,  0.0000e+00],\n",
       "         [ 0.0000e+00,  8.4078e-44,  0.0000e+00,  2.8026e-45,  0.0000e+00],\n",
       "         [ 1.7753e+28,  1.2181e+33,  3.3328e+35,  2.1019e-43,  0.0000e+00],\n",
       "         [ 0.0000e+00,  8.4078e-44,  0.0000e+00,  3.5230e+19,  4.5559e-41]],\n",
       "\n",
       "        [[-9.8160e-30,  3.0156e-42,  0.0000e+00,  0.0000e+00,  2.1019e-44],\n",
       "         [ 0.0000e+00,  5.6052e-45,  0.0000e+00, -8.9196e-28,  7.5390e-43],\n",
       "         [ 1.4956e+14,  1.5984e+03,  0.0000e+00,  0.0000e+00,  2.1019e-44],\n",
       "         [ 0.0000e+00,  2.6968e+23,  3.3259e+22, -1.2659e-29,  7.5390e-43]]])"
      ]
     },
     "execution_count": 5,
     "metadata": {},
     "output_type": "execute_result"
    }
   ],
   "source": [
    "# Умножьте его на вектор [1, 4, 2, 2, 1] поэлементно\n",
    "x*torch.Tensor([1,4,2,2,1])"
   ]
  },
  {
   "cell_type": "code",
   "execution_count": 6,
   "metadata": {},
   "outputs": [
    {
     "data": {
      "text/plain": [
       "torch.Size([6, 6])"
      ]
     },
     "execution_count": 6,
     "metadata": {},
     "output_type": "execute_result"
    }
   ],
   "source": [
    "# Умножьте тензор матрично на себя, чтобы результат был размерности 6x6\n",
    "x_6_10 = x.view(6,10)\n",
    "x_res_6_6 = torch.matmul(x_6_10, x_6_10.t())\n",
    "x_res_6_6.size()"
   ]
  },
  {
   "cell_type": "code",
   "execution_count": 7,
   "metadata": {},
   "outputs": [
    {
     "name": "stdout",
     "output_type": "stream",
     "text": [
      "x=tensor([3.])\n",
      "z=tensor([1.])\n",
      "t=tensor([75.])\n"
     ]
    }
   ],
   "source": [
    "# Посчитайте производную функции y = x**3 + z - 75t в точке (1, 0.5, 2)\n",
    "x = torch.autograd.Variable(torch.FloatTensor([1.0]), requires_grad = True)\n",
    "z = torch.autograd.Variable(torch.FloatTensor([0.5]), requires_grad = True)\n",
    "t = torch.autograd.Variable(torch.FloatTensor([2.0]), requires_grad = True)\n",
    "y= x**3 + z + 75*t\n",
    "y.backward()\n",
    "\n",
    "print(f'x={x.grad}')\n",
    "print(f'z={z.grad}')\n",
    "print(f't={t.grad}')"
   ]
  },
  {
   "cell_type": "code",
   "execution_count": 8,
   "metadata": {},
   "outputs": [
    {
     "data": {
      "text/plain": [
       "tensor([[1., 1., 1., 1., 1., 1.],\n",
       "        [1., 1., 1., 1., 1., 1.],\n",
       "        [1., 1., 1., 1., 1., 1.],\n",
       "        [1., 1., 1., 1., 1., 1.],\n",
       "        [1., 1., 1., 1., 1., 1.]])"
      ]
     },
     "execution_count": 8,
     "metadata": {},
     "output_type": "execute_result"
    }
   ],
   "source": [
    "# Создайте единичный тензор размера 5x6\n",
    "x2 = torch.ones(5,6)\n",
    "x2"
   ]
  },
  {
   "cell_type": "code",
   "execution_count": 9,
   "metadata": {},
   "outputs": [
    {
     "data": {
      "text/plain": [
       "array([[1., 1., 1., 1., 1., 1.],\n",
       "       [1., 1., 1., 1., 1., 1.],\n",
       "       [1., 1., 1., 1., 1., 1.],\n",
       "       [1., 1., 1., 1., 1., 1.],\n",
       "       [1., 1., 1., 1., 1., 1.]], dtype=float32)"
      ]
     },
     "execution_count": 9,
     "metadata": {},
     "output_type": "execute_result"
    }
   ],
   "source": [
    "# Переведите его в формат numpy\n",
    "x2.numpy()"
   ]
  },
  {
   "cell_type": "code",
   "execution_count": 10,
   "metadata": {},
   "outputs": [
    {
     "name": "stdout",
     "output_type": "stream",
     "text": [
      "loss:\t 11.916261672973633\n",
      "w1:\t tensor([0.1000, 0.2307])\n"
     ]
    }
   ],
   "source": [
    "# Давайте теперь пооптимизируем: возьмите функцию y = x**w1 - 2 * x**2 + 5\n",
    "# Посчитайте \n",
    "w1 = torch.autograd.Variable(torch.Tensor([0.1,0.2]), requires_grad = True)\n",
    "optimizer = torch.optim.SGD([w1], lr=0.01)\n",
    "criterion = torch.nn.MSELoss()\n",
    "x = torch.autograd.Variable(torch.Tensor([1.0,2.0]), requires_grad = False)\n",
    "y = torch.autograd.Variable(torch.Tensor([1.0,2.0]), requires_grad = False)\n",
    "y_func = x**w1 - 2 * x**2 + 5\n",
    "\n",
    "optimizer.zero_grad()\n",
    "pred = y_func\n",
    "loss = criterion(pred, y)\n",
    "loss.backward()     # считаем градиент для w1\n",
    "optimizer.step()    # обновляем веса w1\n",
    "\n",
    "print(f'loss:\\t {loss.item()}')\n",
    "print(f'w1:\\t {w1.data}')"
   ]
  }
 ],
 "metadata": {
  "kernelspec": {
   "display_name": "Python 3",
   "language": "python",
   "name": "python3"
  },
  "language_info": {
   "codemirror_mode": {
    "name": "ipython",
    "version": 3
   },
   "file_extension": ".py",
   "mimetype": "text/x-python",
   "name": "python",
   "nbconvert_exporter": "python",
   "pygments_lexer": "ipython3",
   "version": "3.9.7"
  }
 },
 "nbformat": 4,
 "nbformat_minor": 2
}
