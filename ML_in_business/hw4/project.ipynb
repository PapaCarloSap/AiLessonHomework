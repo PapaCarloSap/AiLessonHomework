{
 "cells": [
  {
   "cell_type": "code",
   "execution_count": 1,
   "metadata": {},
   "outputs": [],
   "source": [
    "import numpy as np\n",
    "import pandas as pd\n",
    "import matplotlib.pyplot as plt\n",
    "from sklearn.model_selection import train_test_split"
   ]
  },
  {
   "cell_type": "code",
   "execution_count": 2,
   "metadata": {},
   "outputs": [],
   "source": [
    "%matplotlib inline\n"
   ]
  },
  {
   "cell_type": "code",
   "execution_count": 3,
   "metadata": {},
   "outputs": [],
   "source": [
    "CLIENTS_PATH = 'data.csv'\r\n",
    "TARGET = 'Credit Default'\r\n",
    "\r\n",
    "TREATMENT_NAME = 'treatment'\r\n",
    "TARGET_NAME = 'target'\r\n",
    "\r\n",
    "SELECTED_FEATURE_NAMES= ['recency', \r\n",
    "                         'history',\r\n",
    "                         'used_discount',\r\n",
    "                         'used_bogo',\r\n",
    "                         #'zip_code',           # класс местности Пригородный/Городской/Сельский\r\n",
    "                         'zip_code__cat',\r\n",
    "                         'is_referral',\r\n",
    "                         #'channel'             # канал который использует покупатель Телефон/Интернет/Многоканальный\r\n",
    "                         'channel__cat'\r\n",
    "                        ]\r\n",
    "\r\n",
    "cat_features = ['used_discount',    # использование дискаунта раньше\r\n",
    "                'used_bogo',        # использовал ли покупку раньше\r\n",
    "                'zip_code__cat',         # класс местности Пригородный/Городской/Сельский\r\n",
    "                'is_referral',      # был ли клиент приобретен через реферальный канал\r\n",
    "                'channel__cat'           # канал который использует покупатель Телефон/Интернет/Многоканальный\r\n",
    "]"
   ]
  },
  {
   "cell_type": "code",
   "execution_count": 4,
   "metadata": {},
   "outputs": [],
   "source": [
    "# загрузка набора данных маркетинговых кампаний\n",
    "df_clients = pd.read_csv(CLIENTS_PATH)"
   ]
  },
  {
   "cell_type": "code",
   "execution_count": 5,
   "metadata": {},
   "outputs": [],
   "source": [
    "# переименовать поля\n",
    "df_clients = df_clients.rename(columns={\n",
    "    'offer':TREATMENT_NAME, \n",
    "    'conversion':TARGET_NAME})"
   ]
  },
  {
   "cell_type": "code",
   "execution_count": 6,
   "metadata": {},
   "outputs": [],
   "source": [
    "# приводим поле treatment к бинарному виду\n",
    "df_clients[TREATMENT_NAME] = df_clients[TREATMENT_NAME].map({'No Offer':False}).astype(bool)\n"
   ]
  },
  {
   "cell_type": "code",
   "execution_count": 7,
   "metadata": {},
   "outputs": [],
   "source": [
    "# настройка категориальных признаков если такие имеются\r\n",
    "df_clients['zip_code__cat'] = df_clients['zip_code'].map({\r\n",
    "    'Surburban':1, \r\n",
    "    'Urban':2, \r\n",
    "    'Rural':3\r\n",
    "    }).astype(int)\r\n",
    "df_clients['channel__cat'] = df_clients['channel'].map({\r\n",
    "    'Web':1, \r\n",
    "    'Phone':2, \r\n",
    "    'Multichannel':3\r\n",
    "    }).astype(int)"
   ]
  },
  {
   "cell_type": "code",
   "execution_count": 8,
   "metadata": {},
   "outputs": [],
   "source": [
    "# сделать разбиение набора данных на тренировочную и тестовую выборки\n",
    "X = df_clients[SELECTED_FEATURE_NAMES]      # признаки о клиенте\n",
    "y = df_clients[TARGET_NAME]                 # целевой признак\n",
    "treat = df_clients[TREATMENT_NAME]          # те на кого была произведена маркетинговая кампания \n",
    "\n",
    "X_train, X_valid, y_train, y_valid, treat_train, treat_valid = train_test_split(X, y, treat, test_size=0.30, random_state=21)"
   ]
  },
  {
   "cell_type": "code",
   "execution_count": 16,
   "metadata": {},
   "outputs": [],
   "source": [
    "# словарь для записывания результатов\r\n",
    "models_results = {\r\n",
    "    'approach': [],\r\n",
    "    'uplift@30%': []\r\n",
    "}\r\n",
    "\r\n",
    "# сделать feature engineering на ваше усмотрение (допускается свобода выбора методов)\r\n"
   ]
  },
  {
   "cell_type": "code",
   "execution_count": 10,
   "metadata": {},
   "outputs": [],
   "source": [
    "from sklearn.utils.validation import check_consistent_length"
   ]
  },
  {
   "cell_type": "code",
   "execution_count": 11,
   "metadata": {},
   "outputs": [],
   "source": [
    "# провести uplift-моделирование 3 способами: \r\n",
    "# одна модель с признаком коммуникации (S learner), \r\n",
    "# модель с трансформацией таргета (трансформация классов п. 2. 1) \r\n",
    "# вариант с двумя независимыми моделями"
   ]
  },
  {
   "cell_type": "markdown",
   "metadata": {},
   "source": [
    "## Uplift-моделирование S learner"
   ]
  },
  {
   "cell_type": "code",
   "execution_count": 18,
   "metadata": {},
   "outputs": [
    {
     "data": {
      "image/png": "[encoded data removed]",
      "text/plain": [
       "<Figure size 1440x504 with 3 Axes>"
      ]
     },
     "metadata": {
      "needs_background": "light"
     },
     "output_type": "display_data"
    }
   ],
   "source": [
    "from sklift.metrics import uplift_at_k\r\n",
    "from sklift.viz import plot_uplift_preds ## в новой версии проблема (беру свой вариант)\r\n",
    "from sklift.models import SoloModel\r\n",
    "\r\n",
    "# воспользуемся catboost\r\n",
    "from catboost import CatBoostClassifier\r\n",
    "\r\n",
    "N =20000\r\n",
    "sm = SoloModel(  CatBoostClassifier(iterations=20, thread_count=2, random_state=42, silent=True))\r\n",
    "sm = sm.fit(  X_train, y_train, treat_train, estimator_fit_params={'cat_features': cat_features})\r\n",
    "\r\n",
    "uplift_sm = sm.predict(X_valid)\r\n",
    "sm_score = uplift_at_k( y_true=y_valid, uplift=uplift_sm, treatment=treat_valid, strategy='by_group', k=0.3)\r\n",
    "\r\n",
    "models_results['approach'].append('SoloModel')\r\n",
    "models_results['uplift@30%'].append(sm_score)\r\n",
    "\r\n",
    "# Отрисуем распределения вероятностей и их разность (uplift)\r\n",
    "plot_uplift_preds(   sm.trmnt_preds_ , sm.ctrl_preds_, bins=100);"
   ]
  },
  {
   "cell_type": "code",
   "execution_count": 19,
   "metadata": {},
   "outputs": [
    {
     "data": {
      "text/html": [
       "<div>\n",
       "<style scoped>\n",
       "    .dataframe tbody tr th:only-of-type {\n",
       "        vertical-align: middle;\n",
       "    }\n",
       "\n",
       "    .dataframe tbody tr th {\n",
       "        vertical-align: top;\n",
       "    }\n",
       "\n",
       "    .dataframe thead th {\n",
       "        text-align: right;\n",
       "    }\n",
       "</style>\n",
       "<table border=\"1\" class=\"dataframe\">\n",
       "  <thead>\n",
       "    <tr style=\"text-align: right;\">\n",
       "      <th></th>\n",
       "      <th>feature_name</th>\n",
       "      <th>feature_score</th>\n",
       "    </tr>\n",
       "  </thead>\n",
       "  <tbody>\n",
       "    <tr>\n",
       "      <th>0</th>\n",
       "      <td>treatment</td>\n",
       "      <td>21.907619</td>\n",
       "    </tr>\n",
       "    <tr>\n",
       "      <th>1</th>\n",
       "      <td>is_referral</td>\n",
       "      <td>20.888463</td>\n",
       "    </tr>\n",
       "    <tr>\n",
       "      <th>2</th>\n",
       "      <td>used_bogo</td>\n",
       "      <td>12.325199</td>\n",
       "    </tr>\n",
       "    <tr>\n",
       "      <th>3</th>\n",
       "      <td>zip_code__cat</td>\n",
       "      <td>11.518851</td>\n",
       "    </tr>\n",
       "    <tr>\n",
       "      <th>4</th>\n",
       "      <td>recency</td>\n",
       "      <td>10.804377</td>\n",
       "    </tr>\n",
       "    <tr>\n",
       "      <th>5</th>\n",
       "      <td>used_discount</td>\n",
       "      <td>8.397037</td>\n",
       "    </tr>\n",
       "    <tr>\n",
       "      <th>6</th>\n",
       "      <td>history</td>\n",
       "      <td>8.193585</td>\n",
       "    </tr>\n",
       "    <tr>\n",
       "      <th>7</th>\n",
       "      <td>channel__cat</td>\n",
       "      <td>5.964868</td>\n",
       "    </tr>\n",
       "  </tbody>\n",
       "</table>\n",
       "</div>"
      ],
      "text/plain": [
       "    feature_name  feature_score\n",
       "0      treatment      21.907619\n",
       "1    is_referral      20.888463\n",
       "2      used_bogo      12.325199\n",
       "3  zip_code__cat      11.518851\n",
       "4        recency      10.804377\n",
       "5  used_discount       8.397037\n",
       "6        history       8.193585\n",
       "7   channel__cat       5.964868"
      ]
     },
     "execution_count": 19,
     "metadata": {},
     "output_type": "execute_result"
    }
   ],
   "source": [
    "# топ признаки\r\n",
    "pd.DataFrame({\r\n",
    "    'feature_name': sm.estimator.feature_names_,\r\n",
    "    'feature_score': sm.estimator.feature_importances_\r\n",
    "}).sort_values('feature_score', ascending=False).reset_index(drop=True)"
   ]
  },
  {
   "cell_type": "markdown",
   "metadata": {},
   "source": [
    "## Модель с трансформацией таргета"
   ]
  }
 ],
 "metadata": {
  "interpreter": {
   "hash": "e404b59586357c814bc0d3940e75d6763c00a48753b225b81f7716971b8e1741"
  },
  "kernelspec": {
   "display_name": "Python 3.8.7 64-bit",
   "name": "python3"
  },
  "language_info": {
   "codemirror_mode": {
    "name": "ipython",
    "version": 3
   },
   "file_extension": ".py",
   "mimetype": "text/x-python",
   "name": "python",
   "nbconvert_exporter": "python",
   "pygments_lexer": "ipython3",
   "version": "3.8.7"
  },
  "orig_nbformat": 4
 },
 "nbformat": 4,
 "nbformat_minor": 2
}