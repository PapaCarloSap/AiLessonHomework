{
 "metadata": {
  "language_info": {
   "codemirror_mode": {
    "name": "ipython",
    "version": 3
   },
   "file_extension": ".py",
   "mimetype": "text/x-python",
   "name": "python",
   "nbconvert_exporter": "python",
   "pygments_lexer": "ipython3",
   "version": "3.8.7"
  },
  "orig_nbformat": 4,
  "kernelspec": {
   "name": "python3",
   "display_name": "Python 3.8.7 64-bit"
  },
  "interpreter": {
   "hash": "e404b59586357c814bc0d3940e75d6763c00a48753b225b81f7716971b8e1741"
  }
 },
 "nbformat": 4,
 "nbformat_minor": 2,
 "cells": [
  {
   "cell_type": "code",
   "execution_count": 1,
   "metadata": {},
   "outputs": [],
   "source": [
    "import numpy as np\n",
    "import pandas as pd\n",
    "import matplotlib.pyplot as plt\n",
    "from sklearn.model_selection import train_test_split"
   ]
  },
  {
   "cell_type": "code",
   "execution_count": 2,
   "metadata": {},
   "outputs": [],
   "source": [
    "%matplotlib inline\n"
   ]
  },
  {
   "cell_type": "code",
   "execution_count": 3,
   "metadata": {},
   "outputs": [],
   "source": [
    "CLIENTS_PATH = 'data.csv'\n",
    "TARGET = 'Credit Default'\n",
    "\n",
    "TREATMENT_NAME = 'treatment'\n",
    "TARGET_NAME = 'target'\n",
    "\n",
    "SELECTED_FEATURE_NAMES= ['recency', \n",
    "                         'history',\n",
    "                         'used_discount',\n",
    "                         'used_bogo',\n",
    "                         'zip_code',\n",
    "                         'is_referral',\n",
    "                         'channel'\n",
    "                        ]"
   ]
  },
  {
   "cell_type": "code",
   "execution_count": 4,
   "metadata": {},
   "outputs": [],
   "source": [
    "# загрузка набора данных маркетинговых кампаний\n",
    "df_clients = pd.read_csv(CLIENTS_PATH)"
   ]
  },
  {
   "cell_type": "code",
   "execution_count": 5,
   "metadata": {},
   "outputs": [],
   "source": [
    "# переименовать поля\n",
    "df_clients = df_clients.rename(columns={\n",
    "    'offer':TREATMENT_NAME, \n",
    "    'conversion':TARGET_NAME})"
   ]
  },
  {
   "cell_type": "code",
   "execution_count": 6,
   "metadata": {},
   "outputs": [],
   "source": [
    "# приводим поле treatment к бинарному виду\n",
    "df_clients[TREATMENT_NAME] = df_clients[TREATMENT_NAME].map({'No Offer':False}).astype(bool)\n"
   ]
  },
  {
   "cell_type": "code",
   "execution_count": 7,
   "metadata": {},
   "outputs": [],
   "source": [
    "# сделать разбиение набора данных на тренировочную и тестовую выборки\n",
    "X = df_clients[SELECTED_FEATURE_NAMES]      # признаки о клиенте\n",
    "y = df_clients[TARGET_NAME]                 # целевой признак\n",
    "treat = df_clients[TREATMENT_NAME]          # те на кого была произведена маркетинговая кампания \n",
    "\n",
    "X_train, X_valid, y_train, y_valid, treat_train, treat_valid = train_test_split(X, y, treat, test_size=0.30, random_state=21)"
   ]
  },
  {
   "cell_type": "code",
   "execution_count": 8,
   "metadata": {},
   "outputs": [],
   "source": [
    "# сделать feature engineering на ваше усмотрение (допускается свобода выбора методов)"
   ]
  },
  {
   "cell_type": "code",
   "execution_count": 9,
   "metadata": {},
   "outputs": [],
   "source": [
    "# провести uplift-моделирование 3 способами: одна модель с признаком коммуникации (S learner), модель с трансформацией таргета (трансформация классов п. 2. 1) и вариант с двумя независимыми моделями"
   ]
  }
 ]
}