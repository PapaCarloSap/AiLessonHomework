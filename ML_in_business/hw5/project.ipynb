{
 "cells": [
  {
   "cell_type": "code",
   "execution_count": 1,
   "metadata": {},
   "outputs": [],
   "source": [
    "import pandas as pd\r\n",
    "import numpy as np\r\n",
    "from sklearn.pipeline import Pipeline, make_pipeline\r\n",
    "from sklearn.base import BaseEstimator, TransformerMixin\r\n",
    "from sklearn.linear_model import LogisticRegression\r\n",
    "from sklearn.model_selection import train_test_split\r\n",
    "#from sklearn.feature_extraction.text import TfidfVectorizer\r\n",
    "from sklearn.pipeline import Pipeline\r\n",
    "from sklearn.pipeline import FeatureUnion\r\n",
    "from metrictool import MetricRegressionManager\r\n",
    "\r\n",
    "import matplotlib.pyplot as plt\r\n",
    "\r\n",
    "%matplotlib inline"
   ]
  },
  {
   "cell_type": "code",
   "execution_count": 2,
   "metadata": {},
   "outputs": [],
   "source": [
    "metric_manager = MetricRegressionManager()"
   ]
  },
  {
   "cell_type": "markdown",
   "metadata": {},
   "source": [
    "## Данные"
   ]
  },
  {
   "cell_type": "code",
   "execution_count": 3,
   "metadata": {},
   "outputs": [
    {
     "name": "stdout",
     "output_type": "stream",
     "text": [
      "<class 'pandas.core.frame.DataFrame'>\n",
      "RangeIndex: 10000 entries, 0 to 9999\n",
      "Data columns (total 14 columns):\n",
      " #   Column           Non-Null Count  Dtype  \n",
      "---  ------           --------------  -----  \n",
      " 0   RowNumber        10000 non-null  int64  \n",
      " 1   CustomerId       10000 non-null  int64  \n",
      " 2   Surname          10000 non-null  object \n",
      " 3   CreditScore      10000 non-null  int64  \n",
      " 4   Geography        10000 non-null  object \n",
      " 5   Gender           10000 non-null  object \n",
      " 6   Age              10000 non-null  int64  \n",
      " 7   Tenure           10000 non-null  int64  \n",
      " 8   Balance          10000 non-null  float64\n",
      " 9   NumOfProducts    10000 non-null  int64  \n",
      " 10  HasCrCard        10000 non-null  int64  \n",
      " 11  IsActiveMember   10000 non-null  int64  \n",
      " 12  EstimatedSalary  10000 non-null  float64\n",
      " 13  Exited           10000 non-null  int64  \n",
      "dtypes: float64(2), int64(9), object(3)\n",
      "memory usage: 1.1+ MB\n"
     ]
    }
   ],
   "source": [
    "df = pd.read_csv(\"Churn_Modelling.csv\")\r\n",
    "df.info()"
   ]
  },
  {
   "cell_type": "code",
   "execution_count": 4,
   "metadata": {},
   "outputs": [
    {
     "data": {
      "text/plain": [
       "0    7963\n",
       "1    2037\n",
       "Name: Exited, dtype: int64"
      ]
     },
     "execution_count": 4,
     "metadata": {},
     "output_type": "execute_result"
    }
   ],
   "source": [
    "df['Exited'].value_counts()"
   ]
  },
  {
   "cell_type": "code",
   "execution_count": 5,
   "metadata": {},
   "outputs": [],
   "source": [
    "#разделим данные на train/test\r\n",
    "X_train, X_test, y_train, y_test = train_test_split(df, df['Exited'], random_state=0)"
   ]
  },
  {
   "cell_type": "code",
   "execution_count": 6,
   "metadata": {},
   "outputs": [],
   "source": [
    "#соберем наш простой pipeline, но нам понадобится написать класс для выбора нужного поля\r\n",
    "class FeatureSelector(BaseEstimator, TransformerMixin):\r\n",
    "    def __init__(self, column):\r\n",
    "        self.column = column\r\n",
    "\r\n",
    "    def fit(self, X, y=None):\r\n",
    "        return self\r\n",
    "\r\n",
    "    def transform(self, X, y=None):\r\n",
    "        return X[self.column]\r\n",
    "    \r\n",
    "class NumberSelector(BaseEstimator, TransformerMixin):\r\n",
    "    \"\"\"\r\n",
    "    Transformer to select a single column from the data frame to perform additional transformations on\r\n",
    "    Use on numeric columns in the data\r\n",
    "    \"\"\"\r\n",
    "    def __init__(self, key):\r\n",
    "        self.key = key\r\n",
    "\r\n",
    "    def fit(self, X, y=None):\r\n",
    "        return self\r\n",
    "\r\n",
    "    def transform(self, X):\r\n",
    "        return X[[self.key]]\r\n",
    "    \r\n",
    "class OHEEncoder(BaseEstimator, TransformerMixin):\r\n",
    "    def __init__(self, key):\r\n",
    "        self.key = key\r\n",
    "        self.columns = []\r\n",
    "\r\n",
    "    def fit(self, X, y=None):\r\n",
    "        self.columns = [col for col in pd.get_dummies(X, prefix=self.key).columns]\r\n",
    "        return self\r\n",
    "\r\n",
    "    def transform(self, X):\r\n",
    "        X = pd.get_dummies(X, prefix=self.key)\r\n",
    "        test_columns = [col for col in X.columns]\r\n",
    "        for col_ in self.columns:\r\n",
    "            if col_ not in test_columns:\r\n",
    "                X[col_] = 0\r\n",
    "        return X[self.columns]"
   ]
  },
  {
   "cell_type": "code",
   "execution_count": 7,
   "metadata": {},
   "outputs": [],
   "source": [
    "# Зададим списки признаков\r\n",
    "categorical_columns = ['Geography', 'Gender', 'Tenure', 'HasCrCard', 'IsActiveMember']\r\n",
    "continuous_columns = ['CreditScore', 'Age', 'Balance', 'NumOfProducts', 'EstimatedSalary']"
   ]
  },
  {
   "cell_type": "code",
   "execution_count": 8,
   "metadata": {},
   "outputs": [],
   "source": [
    "# Теперь нам нужно под каждый признак создать трансформер и объединить их в список\r\n",
    "final_transformers = list()\r\n",
    "\r\n",
    "for cat_col in categorical_columns:\r\n",
    "    cat_transformer = Pipeline([\r\n",
    "                ('selector', FeatureSelector(column=cat_col)),\r\n",
    "                ('ohe', OHEEncoder(key=cat_col))\r\n",
    "            ])\r\n",
    "    final_transformers.append((cat_col, cat_transformer))\r\n",
    "    \r\n",
    "for cont_col in continuous_columns:\r\n",
    "    cont_transformer = Pipeline([\r\n",
    "                ('selector', NumberSelector(key=cont_col)), \r\n",
    "            ])\r\n",
    "    final_transformers.append((cont_col, cont_transformer))"
   ]
  },
  {
   "cell_type": "code",
   "execution_count": 9,
   "metadata": {},
   "outputs": [],
   "source": [
    "# Объединим все это в единый пайплайн\r\n",
    "feats = FeatureUnion(final_transformers)\r\n",
    "# пайплайн, который готовит признаки для моделирования.\r\n",
    "feature_processing = Pipeline([('feats', feats)])"
   ]
  },
  {
   "cell_type": "markdown",
   "metadata": {},
   "source": [
    "## Модели"
   ]
  },
  {
   "cell_type": "markdown",
   "metadata": {},
   "source": [
    "### RandomForestClassifier"
   ]
  },
  {
   "cell_type": "code",
   "execution_count": 10,
   "metadata": {},
   "outputs": [
    {
     "data": {
      "text/plain": [
       "Pipeline(steps=[('features',\n",
       "                 FeatureUnion(transformer_list=[('Geography',\n",
       "                                                 Pipeline(steps=[('selector',\n",
       "                                                                  FeatureSelector(column='Geography')),\n",
       "                                                                 ('ohe',\n",
       "                                                                  OHEEncoder(key='Geography'))])),\n",
       "                                                ('Gender',\n",
       "                                                 Pipeline(steps=[('selector',\n",
       "                                                                  FeatureSelector(column='Gender')),\n",
       "                                                                 ('ohe',\n",
       "                                                                  OHEEncoder(key='Gender'))])),\n",
       "                                                ('Tenure',\n",
       "                                                 Pipeline(steps=[('selector',\n",
       "                                                                  FeatureSelector(column='Tenu...\n",
       "                                                 Pipeline(steps=[('selector',\n",
       "                                                                  NumberSelector(key='Age'))])),\n",
       "                                                ('Balance',\n",
       "                                                 Pipeline(steps=[('selector',\n",
       "                                                                  NumberSelector(key='Balance'))])),\n",
       "                                                ('NumOfProducts',\n",
       "                                                 Pipeline(steps=[('selector',\n",
       "                                                                  NumberSelector(key='NumOfProducts'))])),\n",
       "                                                ('EstimatedSalary',\n",
       "                                                 Pipeline(steps=[('selector',\n",
       "                                                                  NumberSelector(key='EstimatedSalary'))]))])),\n",
       "                ('classifier', RandomForestClassifier(random_state=42))])"
      ]
     },
     "execution_count": 10,
     "metadata": {},
     "output_type": "execute_result"
    }
   ],
   "source": [
    "# Обучим модель\r\n",
    "from sklearn.ensemble import RandomForestClassifier\r\n",
    "\r\n",
    "model_name = 'RandomForestClassifier'\r\n",
    "pipeline = Pipeline([\r\n",
    "    ('features',feats),\r\n",
    "    ('classifier', RandomForestClassifier(random_state = 42)),\r\n",
    "])\r\n",
    "pipeline.fit(X_train, y_train)"
   ]
  },
  {
   "cell_type": "code",
   "execution_count": 11,
   "metadata": {},
   "outputs": [
    {
     "data": {
      "text/plain": [
       "array([0.37, 0.26, 0.16, 0.02, 0.02, 0.67, 0.04, 0.12, 0.15, 0.75])"
      ]
     },
     "execution_count": 11,
     "metadata": {},
     "output_type": "execute_result"
    }
   ],
   "source": [
    "#наши прогнозы для тестовой выборки\r\n",
    "preds = pipeline.predict_proba(X_test)[:, 1]\r\n",
    "preds[:10]"
   ]
  },
  {
   "cell_type": "code",
   "execution_count": 12,
   "metadata": {},
   "outputs": [
    {
     "name": "stdout",
     "output_type": "stream",
     "text": [
      "  Threshold    F-Score    Precision    Recall    Roc-AUC\n",
      "-----------  ---------  -----------  --------  ---------\n",
      "      0.380      0.641        0.653     0.629      0.864\n",
      "Confusion matrix, without normalization\n"
     ]
    },
    {
     "data": {
      "image/png": "[encoded data removed]",
      "text/plain": [
       "<Figure size 720x576 with 2 Axes>"
      ]
     },
     "metadata": {
      "needs_background": "light"
     },
     "output_type": "display_data"
    }
   ],
   "source": [
    "# Строим метрики\r\n",
    "# Также нам нужно от вероятностей перейти к меткам классов. Для этого нужно подобрать порог, \r\n",
    "# после которого мы считаем, что объект можно отнести к классу 1 (если вероятность больше порога - \r\n",
    "# размечаем объект как класс 1, если нет - класс 0)\r\n",
    "metric_manager.apply(model_name, y_test, preds)\r\n",
    "metric = metric_manager.calc_metric(name=model_name)\r\n",
    "metric.show_table()\r\n",
    "metric_manager.show_confusion_matrix(model_name)"
   ]
  },
  {
   "cell_type": "markdown",
   "metadata": {},
   "source": [
    "### Бустинг"
   ]
  },
  {
   "cell_type": "code",
   "execution_count": 13,
   "metadata": {},
   "outputs": [
    {
     "name": "stdout",
     "output_type": "stream",
     "text": [
      "Wall time: 11.6 s\n"
     ]
    }
   ],
   "source": [
    "%%time\r\n",
    "# Тренируем модель\r\n",
    "from catboost import CatBoostClassifier\r\n",
    "\r\n",
    "model_name = 'CatBoostClassifier'\r\n",
    "pipeline = Pipeline([\r\n",
    "    ('features',feats),\r\n",
    "    ('classifier', CatBoostClassifier(silent=True, random_state = 42)),\r\n",
    "])\r\n",
    "\r\n",
    "pipeline.fit(X_train, y_train)\r\n",
    "\r\n",
    "preds = pipeline.predict_proba(X_test)[:, 1]"
   ]
  },
  {
   "cell_type": "code",
   "execution_count": 14,
   "metadata": {},
   "outputs": [
    {
     "name": "stdout",
     "output_type": "stream",
     "text": [
      "  Threshold    F-Score    Precision    Recall    Roc-AUC\n",
      "-----------  ---------  -----------  --------  ---------\n",
      "      0.355      0.646        0.641     0.650      0.875\n",
      "Confusion matrix, without normalization\n"
     ]
    },
    {
     "data": {
      "image/png": "[encoded data removed]",
      "text/plain": [
       "<Figure size 720x576 with 2 Axes>"
      ]
     },
     "metadata": {
      "needs_background": "light"
     },
     "output_type": "display_data"
    }
   ],
   "source": [
    "# Строим метрики\r\n",
    "metric_manager.apply(model_name, y_test, preds)\r\n",
    "metric = metric_manager.calc_metric(name=model_name)\r\n",
    "metric.show_table()\r\n",
    "metric_manager.show_confusion_matrix(model_name)"
   ]
  },
  {
   "cell_type": "markdown",
   "metadata": {},
   "source": [
    "### Логическая регрессия"
   ]
  },
  {
   "cell_type": "code",
   "execution_count": 15,
   "metadata": {},
   "outputs": [],
   "source": [
    "# Нормализация данных\r\n",
    "from sklearn.preprocessing import StandardScaler\r\n",
    "\r\n",
    "class FeatureSelector(BaseEstimator, TransformerMixin):\r\n",
    "    def __init__(self, column):\r\n",
    "        self.column = column\r\n",
    "\r\n",
    "    def fit(self, X, y=None):\r\n",
    "        return self\r\n",
    "\r\n",
    "    def transform(self, X, y=None):\r\n",
    "        return X[self.column]\r\n",
    "\r\n",
    "class MyStandardScaler(BaseEstimator, TransformerMixin):\r\n",
    "    __scaler = None\r\n",
    "\r\n",
    "    def __init__(self, column):\r\n",
    "        self.column = column\r\n",
    "\r\n",
    "    def fit(self, X, y=None):\r\n",
    "        if self.__scaler is None:\r\n",
    "            self.__scaler = StandardScaler().fit(X[[self.column]])  \r\n",
    "        return self\r\n",
    "\r\n",
    "    def transform(self, X, y=None):\r\n",
    "        return self.__scaler.transform(X[[self.column]])"
   ]
  },
  {
   "cell_type": "code",
   "execution_count": 16,
   "metadata": {},
   "outputs": [],
   "source": [
    "# Делаем Pipeline\r\n",
    "# Теперь нам нужно под каждый признак создать трансформер и объединить их в список\r\n",
    "final_transformers_v2 = list()\r\n",
    "\r\n",
    "for cat_col in categorical_columns:\r\n",
    "    cat_transformer = Pipeline([\r\n",
    "                ('selector', FeatureSelector(column=cat_col)),\r\n",
    "                ('ohe', OHEEncoder(key=cat_col))\r\n",
    "            ])\r\n",
    "    final_transformers_v2.append((cat_col, cat_transformer))\r\n",
    "    \r\n",
    "for cont_col in continuous_columns:\r\n",
    "    cont_transformer = Pipeline([\r\n",
    "                    ('selector', NumberSelector(key=cont_col))\r\n",
    "                ,   ('scaler', MyStandardScaler(column=cont_col))\r\n",
    "                #,   ('scaler', StandardScaler())\r\n",
    "            ])\r\n",
    "    final_transformers_v2.append((cont_col, cont_transformer))\r\n",
    "    \r\n",
    "# Объединим все это в единый пайплайн\r\n",
    "feats_v2 = FeatureUnion(final_transformers_v2)"
   ]
  },
  {
   "cell_type": "code",
   "execution_count": 17,
   "metadata": {},
   "outputs": [],
   "source": [
    "# Тренируем модель\r\n",
    "from sklearn.linear_model           import LogisticRegression\r\n",
    "\r\n",
    "model_name = 'LogisticRegression'\r\n",
    "pipeline = Pipeline([\r\n",
    "    ('features',feats_v2),\r\n",
    "    ('classifier', LogisticRegression(random_state = 42)),\r\n",
    "])\r\n",
    "pipeline.fit(X_train, y_train)\r\n",
    "\r\n",
    "y_test_pred = pipeline.predict_proba(X_test)[:, 1]"
   ]
  },
  {
   "cell_type": "code",
   "execution_count": 18,
   "metadata": {},
   "outputs": [
    {
     "name": "stdout",
     "output_type": "stream",
     "text": [
      "  Threshold    F-Score    Precision    Recall    Roc-AUC\n",
      "-----------  ---------  -----------  --------  ---------\n",
      "      0.290      0.510        0.462     0.568      0.772\n",
      "Confusion matrix, without normalization\n"
     ]
    },
    {
     "data": {
      "image/png": "[encoded data removed]",
      "text/plain": [
       "<Figure size 720x576 with 2 Axes>"
      ]
     },
     "metadata": {
      "needs_background": "light"
     },
     "output_type": "display_data"
    }
   ],
   "source": [
    "# Строим метрики\r\n",
    "metric_manager.apply(model_name, y_test, y_test_pred)\r\n",
    "metric = metric_manager.calc_metric(name=model_name)\r\n",
    "metric.show_table()\r\n",
    "metric_manager.show_confusion_matrix(model_name)"
   ]
  },
  {
   "cell_type": "code",
   "execution_count": 19,
   "metadata": {},
   "outputs": [
    {
     "name": "stdout",
     "output_type": "stream",
     "text": [
      "Name model                Threshold    F-Score    Precision    Recall    Roc-AUC    Profit $\n",
      "----------------------  -----------  ---------  -----------  --------  ---------  ----------\n",
      "RandomForestClassifier        0.38       0.641        0.653     0.629      0.864        1673\n",
      "CatBoostClassifier            0.355      0.646        0.641     0.65       0.875        1621\n",
      "LogisticRegression            0.29       0.51         0.462     0.568      0.772        1319\n"
     ]
    }
   ],
   "source": [
    "# Смотрим итоговые метрики\r\n",
    "metric_manager.calc_metrics()"
   ]
  },
  {
   "cell_type": "markdown",
   "metadata": {},
   "source": [
    "По метрикам(f-score) лучшая модель оказалась CatBoostClassifier. Но по прибыльности RandomForestClassifier. Поэтому предпочтение отдадим RandomForestClassifier. Думаю причиной стал Precision. Можно бы было попробовать поэксперементировать с максимизацией Precision и посмотреть как будет менятся Profit"
   ]
  }
 ],
 "metadata": {
  "interpreter": {
   "hash": "e404b59586357c814bc0d3940e75d6763c00a48753b225b81f7716971b8e1741"
  },
  "kernelspec": {
   "display_name": "Python 3.8.7 64-bit",
   "name": "python3"
  },
  "language_info": {
   "codemirror_mode": {
    "name": "ipython",
    "version": 3
   },
   "file_extension": ".py",
   "mimetype": "text/x-python",
   "name": "python",
   "nbconvert_exporter": "python",
   "pygments_lexer": "ipython3",
   "version": "3.8.7"
  },
  "orig_nbformat": 4
 },
 "nbformat": 4,
 "nbformat_minor": 2
}