{
 "cells": [
  {
   "cell_type": "markdown",
   "source": [
    "## 1. Mетрики hit_rate@k, precision@k \r\n",
    "### Сравните метрики hit_rate@k, precision@k\r\n",
    "* hit_rate@k - покажет если ли среди рекомендованных товаров, товар который пользователю будет интересен\r\n",
    "* precision@k - покажет долю(процент) товара от рекомендованных товаров, который будет интересен пользователю\r\n",
    "### Какую метрику использовать предпочтительно и почему?\r\n",
    "* precision@k. Показывает как процент от количества, так и процент от пораченных денег. Т.е. хорошо пересчитывается в экономические показатели\r\n",
    "### Приведите пример 2-3 задач (опишите, что является клиентом, что товаром), в которой более уместно использовать метрику hit_rate?\r\n",
    "* --"
   ],
   "metadata": {}
  },
  {
   "cell_type": "markdown",
   "source": [
    "## Метрика NDCG@k\r\n",
    "### В метрике NDCG@k мы используем логарифм в знаменателе. Как Вы думаете, почему именно логарифм?\r\n",
    "* --\r\n",
    "### Какую функцию можно использовать вместо логарифма?\r\n",
    "* --\r\n",
    "### Привидите пример метрик/подходов к предобработке данных/функций ошибок в ML, где также в логарифм.\r\n",
    "* --"
   ],
   "metadata": {}
  },
  {
   "cell_type": "markdown",
   "source": [
    "## Остальные метрики\r\n",
    "### Какие еще метрики (Вы можете вспомнить уже пройденные Вами или посмотреть в интернете) могут использоваться для рекомендательных систем (приведите примеры метрики и чем являются интеракции, чтобы она могла быть использована).\r\n",
    "* --"
   ],
   "metadata": {}
  },
  {
   "cell_type": "markdown",
   "source": [
    "## Посчитайте pr@8, rec@8, AP@8, NDCG@8, MRR@8\r\n"
   ],
   "metadata": {}
  },
  {
   "cell_type": "code",
   "execution_count": 3,
   "source": [
    "import numpy as  np\r\n",
    "from Recommendation_systems.hw1.helpers_lib import Experement\r\n",
    "\r\n",
    "experement = Experement(\r\n",
    "        recommended =   np.array([2, 5, 7, 4, 11, 9, 8, 10, 12, 3]),\r\n",
    "        boughted =      np.array([1, 3, 5, 7, 9, 11])\r\n",
    "        )\r\n",
    "\r\n",
    "print(f'pr@8 = {experement.precision_at_k(k=8):.3f}')\r\n",
    "print(f'rec@8 = {experement.recall_at_k(k=8):.3f}')\r\n",
    "print(f'AP@8 = {experement.ap_k(k=8):.3f}')\r\n",
    "print(f'NDCG@8 = {experement.ndcg_k(k=8):.3f}')\r\n",
    "print(f'MRR@8 = {experement.mrr(k=8):.3f}')"
   ],
   "outputs": [
    {
     "output_type": "stream",
     "name": "stdout",
     "text": [
      "pr@8 = 0.500\n",
      "rec@8 = 0.667\n",
      "AP@8 = 0.243\n",
      "NDCG@8 = 0.447\n",
      "MRR@8 = 0.150\n"
     ]
    }
   ],
   "metadata": {}
  }
 ],
 "metadata": {
  "orig_nbformat": 4,
  "language_info": {
   "name": "python",
   "version": "3.8.10",
   "mimetype": "text/x-python",
   "codemirror_mode": {
    "name": "ipython",
    "version": 3
   },
   "pygments_lexer": "ipython3",
   "nbconvert_exporter": "python",
   "file_extension": ".py"
  },
  "kernelspec": {
   "name": "python3",
   "display_name": "Python 3.8.10 64-bit ('.venv': pipenv)"
  },
  "interpreter": {
   "hash": "cb89ae556f7e5c21ccb32678716835f376b6d23d88a9dc122dcf759661171a84"
  }
 },
 "nbformat": 4,
 "nbformat_minor": 2
}