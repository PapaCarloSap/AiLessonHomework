{
 "cells": [
  {
   "cell_type": "code",
   "execution_count": 1,
   "source": [
    "import zipfile\r\n",
    "\r\n",
    "with zipfile.ZipFile('Recommendation_systems/hw2/data.zip', 'r') as zip_ref:\r\n",
    "    zip_ref.extractall('Recommendation_systems/hw2/temp_data')"
   ],
   "outputs": [],
   "metadata": {}
  },
  {
   "cell_type": "code",
   "execution_count": 2,
   "source": [
    "import pandas as pd\r\n",
    "import numpy as np\r\n",
    "import matplotlib.pyplot as plt\r\n",
    "%matplotlib inline\r\n",
    "\r\n",
    "# Для работы с матрицами\r\n",
    "from scipy.sparse import csr_matrix, coo_matrix\r\n",
    "\r\n",
    "# Детерминированные алгоритмы\r\n",
    "from implicit.nearest_neighbours import ItemItemRecommender, CosineRecommender, TFIDFRecommender, BM25Recommender\r\n",
    "\r\n",
    "# Метрики\r\n",
    "from implicit.evaluation import train_test_split\r\n",
    "from implicit.evaluation import precision_at_k, mean_average_precision_at_k, AUC_at_k, ndcg_at_k"
   ],
   "outputs": [],
   "metadata": {
    "colab": {},
    "colab_type": "code",
    "id": "rgIzW-DSC8Yi"
   }
  },
  {
   "cell_type": "code",
   "execution_count": 3,
   "source": [
    "data = pd.read_csv('Recommendation_systems/hw2/temp_data/data/retail_train.csv')\r\n",
    "data.head(2)"
   ],
   "outputs": [
    {
     "output_type": "execute_result",
     "data": {
      "text/plain": [
       "   user_id    basket_id  day  item_id  quantity  sales_value  store_id  \\\n",
       "0     2375  26984851472    1  1004906         1         1.39       364   \n",
       "1     2375  26984851472    1  1033142         1         0.82       364   \n",
       "\n",
       "   retail_disc  trans_time  week_no  coupon_disc  coupon_match_disc  \n",
       "0         -0.6        1631        1          0.0                0.0  \n",
       "1          0.0        1631        1          0.0                0.0  "
      ],
      "text/html": [
       "<div>\n",
       "<style scoped>\n",
       "    .dataframe tbody tr th:only-of-type {\n",
       "        vertical-align: middle;\n",
       "    }\n",
       "\n",
       "    .dataframe tbody tr th {\n",
       "        vertical-align: top;\n",
       "    }\n",
       "\n",
       "    .dataframe thead th {\n",
       "        text-align: right;\n",
       "    }\n",
       "</style>\n",
       "<table border=\"1\" class=\"dataframe\">\n",
       "  <thead>\n",
       "    <tr style=\"text-align: right;\">\n",
       "      <th></th>\n",
       "      <th>user_id</th>\n",
       "      <th>basket_id</th>\n",
       "      <th>day</th>\n",
       "      <th>item_id</th>\n",
       "      <th>quantity</th>\n",
       "      <th>sales_value</th>\n",
       "      <th>store_id</th>\n",
       "      <th>retail_disc</th>\n",
       "      <th>trans_time</th>\n",
       "      <th>week_no</th>\n",
       "      <th>coupon_disc</th>\n",
       "      <th>coupon_match_disc</th>\n",
       "    </tr>\n",
       "  </thead>\n",
       "  <tbody>\n",
       "    <tr>\n",
       "      <th>0</th>\n",
       "      <td>2375</td>\n",
       "      <td>26984851472</td>\n",
       "      <td>1</td>\n",
       "      <td>1004906</td>\n",
       "      <td>1</td>\n",
       "      <td>1.39</td>\n",
       "      <td>364</td>\n",
       "      <td>-0.6</td>\n",
       "      <td>1631</td>\n",
       "      <td>1</td>\n",
       "      <td>0.0</td>\n",
       "      <td>0.0</td>\n",
       "    </tr>\n",
       "    <tr>\n",
       "      <th>1</th>\n",
       "      <td>2375</td>\n",
       "      <td>26984851472</td>\n",
       "      <td>1</td>\n",
       "      <td>1033142</td>\n",
       "      <td>1</td>\n",
       "      <td>0.82</td>\n",
       "      <td>364</td>\n",
       "      <td>0.0</td>\n",
       "      <td>1631</td>\n",
       "      <td>1</td>\n",
       "      <td>0.0</td>\n",
       "      <td>0.0</td>\n",
       "    </tr>\n",
       "  </tbody>\n",
       "</table>\n",
       "</div>"
      ]
     },
     "metadata": {},
     "execution_count": 3
    }
   ],
   "metadata": {
    "colab": {},
    "colab_type": "code",
    "id": "9qFkcgyrC8Yt",
    "outputId": "24a33bf1-942a-4b18-c54a-a7500c8f8712"
   }
  },
  {
   "cell_type": "code",
   "execution_count": 4,
   "source": [
    "test_size_weeks = 3\r\n",
    "\r\n",
    "data_train = data[data['week_no'] < data['week_no'].max() - test_size_weeks]\r\n",
    "data_test = data[data['week_no'] >= data['week_no'].max() - test_size_weeks]"
   ],
   "outputs": [],
   "metadata": {
    "colab": {},
    "colab_type": "code",
    "id": "epcBZlgJC8Y0"
   }
  },
  {
   "cell_type": "markdown",
   "source": [
    "\n"
   ],
   "metadata": {}
  },
  {
   "cell_type": "markdown",
   "source": [
    "### Задание 0. Товар 999999\r\n",
    "\r\n",
    "#### На вебинаре мы использовали товар 999999 - что это за товар?  \r\n",
    "> Это пустой товар который необходим чтобы ввести пользователя(произвести холодный старт). \r\n",
    "#### Зачем он нужен?  \r\n",
    "> Необходим чтобы пометить что пользователь не проивзаимодействовал ни с одним товаром\r\n",
    "#### Используя этот товар мы смещаем качество рекомендаций. В какую сторону?   \r\n",
    "> Думаю что смещение идет в худшую сторону. Почему не знаю, но кажется что этот товар может иметь влияние на сегметирование пользователей и мешать подбору подходящего пользователя\r\n",
    "*Можно ли удалить этот товар?\r\n",
    "> Думаю да, когда пользователь провзаимодействует с настоящим товаром. Удалить товар и переобучить модель    \r\n",
    "#### Уберите этот товар (**внимание**: это можно сделать разными способами!) и сравните с качеством на семинаре.\r\n",
    "\r\n",
    ">т.к. в коде выше он не задан то как вариант убрать 999999\r\n",
    "```python\r\n",
    "# добавил\r\n",
    "data_train.loc[~data_train['item_id'].isin(top_5000), 'item_id'] = 999999\r\n",
    "# удалил\r\n",
    "data_train.loc[data_train['item_id']==999999] = 0\r\n",
    "```"
   ],
   "metadata": {}
  },
  {
   "cell_type": "markdown",
   "source": [
    "- Не вводить его вообще\n",
    "- Фильтровать выходы (в ручную, ignore_items)\n",
    "- Разные товары 999999"
   ],
   "metadata": {}
  },
  {
   "cell_type": "markdown",
   "source": [
    "### Задание 1. Weighted Random Recommendation\r\n",
    "\r\n",
    "Напишите код для случайных рекоммендаций, в которых вероятность рекомендовать товар прямо пропорциональна логарифму продаж\r\n",
    "- Можно сэмплировать товары случайно, но пропорционально какому-либо весу\r\n",
    "- Например, прямопропорционально популярности. вес = log(sales_sum товара)\r\n",
    "- Придумайте пример 3 весов, посчитайте weighted_random_recommendation для разных весов"
   ],
   "metadata": {
    "colab_type": "text",
    "id": "zlUUzLFeC8Y4"
   }
  },
  {
   "cell_type": "code",
   "execution_count": 5,
   "source": [
    "def weighted_random_recommendation(items_weights, n=5):\r\n",
    "    \"\"\"Случайные рекоммендации\r\n",
    "    \r\n",
    "    Input\r\n",
    "    -----\r\n",
    "    items_weights: pd.DataFrame\r\n",
    "        Датафрейм со столбцами item_id, weight. Сумма weight по всем товарам = 1\r\n",
    "    \"\"\"\r\n",
    "    \r\n",
    "    #! реализовал через клас WeightRandomRecommendation\r\n",
    "    #! код разместил только для примера\r\n",
    "    recs = np.random.choice(\r\n",
    "            items_weights['item_id'], \r\n",
    "            replace=False,\r\n",
    "            p=items_weights['weights'], \r\n",
    "            size=n)\r\n",
    "    \r\n",
    "    return recs.tolist()"
   ],
   "outputs": [],
   "metadata": {
    "colab": {},
    "colab_type": "code",
    "id": "brMuCHolC8Y4"
   }
  },
  {
   "cell_type": "code",
   "execution_count": 6,
   "source": [
    "%%time\r\n",
    "\r\n",
    "from Recommendation_systems.hw2.baseline import WeightRandomRecommendation\r\n",
    "model = WeightRandomRecommendation(\r\n",
    "    item_tag='item_id',\r\n",
    "    weight_tag='sales_sum'\r\n",
    ")\r\n",
    "# расчитаем потраченые деньги на каждый товар\r\n",
    "data_train['sales_sum'] = data_train['quantity']*data_train['sales_value'] \r\n",
    "model.fit(data_train)\r\n",
    "model.recommend()"
   ],
   "outputs": [
    {
     "output_type": "stream",
     "name": "stderr",
     "text": [
      "<timed exec>:7: SettingWithCopyWarning: \n",
      "A value is trying to be set on a copy of a slice from a DataFrame.\n",
      "Try using .loc[row_indexer,col_indexer] = value instead\n",
      "\n",
      "See the caveats in the documentation: https://pandas.pydata.org/pandas-docs/stable/user_guide/indexing.html#returning-a-view-versus-a-copy\n"
     ]
    },
    {
     "output_type": "stream",
     "name": "stdout",
     "text": [
      "Wall time: 242 ms\n"
     ]
    },
    {
     "output_type": "execute_result",
     "data": {
      "text/plain": [
       "array([6534178, 6533889, 6534166,  397896, 1426702], dtype=int64)"
      ]
     },
     "metadata": {},
     "execution_count": 6
    }
   ],
   "metadata": {}
  },
  {
   "cell_type": "markdown",
   "source": [
    "### Сделайте предсказания"
   ],
   "metadata": {}
  },
  {
   "cell_type": "markdown",
   "source": [
    "#### Weight Random Recommendation"
   ],
   "metadata": {}
  },
  {
   "cell_type": "markdown",
   "source": [
    "### Задание 2. Расчет метрик\n",
    "Рассчитайте Precision@5 для каждого алгоритма (с вебинара и weighted_random_recommendation) с помощью функции из вебинара 1. Какой алгоритм показывает лучшее качество? Почему?"
   ],
   "metadata": {
    "colab_type": "text",
    "id": "hyNG6O-wC8Y_"
   }
  },
  {
   "cell_type": "code",
   "execution_count": 7,
   "source": [
    "result = pd.read_csv('Recommendation_systems/hw2/preds.csv')# закгрузка predict с семианара\r\n",
    "result.head(2)"
   ],
   "outputs": [
    {
     "output_type": "execute_result",
     "data": {
      "text/plain": [
       "   user_id                                             actual  \\\n",
       "0        1  [821867, 834484, 856942, 865456, 889248, 90795...   \n",
       "1        3  [835476, 851057, 872021, 878302, 879948, 90963...   \n",
       "\n",
       "                           random_recommendation  \\\n",
       "0  [6423444, 1102955, 922898, 14050576, 1978019]   \n",
       "1  [15778681, 2409151, 9796599, 6533394, 851774]   \n",
       "\n",
       "                          popular_recommendation  \\\n",
       "0  [6534178, 6533889, 1029743, 6534166, 1082185]   \n",
       "1  [6534178, 6533889, 1029743, 6534166, 1082185]   \n",
       "\n",
       "                                     itemitem  \\\n",
       "0  [999999, 1082185, 981760, 1127831, 995242]   \n",
       "1  [999999, 1082185, 981760, 1098066, 995242]   \n",
       "\n",
       "                                        cosine  \\\n",
       "0  [1082185, 999999, 981760, 1127831, 1098066]   \n",
       "1   [1082185, 1098066, 981760, 999999, 826249]   \n",
       "\n",
       "                                         tfidf  \\\n",
       "0  [1082185, 981760, 1127831, 999999, 1098066]   \n",
       "1   [1082185, 981760, 1098066, 826249, 999999]   \n",
       "\n",
       "                                  own_purchases  \n",
       "0   [999999, 1082185, 1029743, 995785, 1004906]  \n",
       "1  [999999, 1082185, 1098066, 6534178, 1127831]  "
      ],
      "text/html": [
       "<div>\n",
       "<style scoped>\n",
       "    .dataframe tbody tr th:only-of-type {\n",
       "        vertical-align: middle;\n",
       "    }\n",
       "\n",
       "    .dataframe tbody tr th {\n",
       "        vertical-align: top;\n",
       "    }\n",
       "\n",
       "    .dataframe thead th {\n",
       "        text-align: right;\n",
       "    }\n",
       "</style>\n",
       "<table border=\"1\" class=\"dataframe\">\n",
       "  <thead>\n",
       "    <tr style=\"text-align: right;\">\n",
       "      <th></th>\n",
       "      <th>user_id</th>\n",
       "      <th>actual</th>\n",
       "      <th>random_recommendation</th>\n",
       "      <th>popular_recommendation</th>\n",
       "      <th>itemitem</th>\n",
       "      <th>cosine</th>\n",
       "      <th>tfidf</th>\n",
       "      <th>own_purchases</th>\n",
       "    </tr>\n",
       "  </thead>\n",
       "  <tbody>\n",
       "    <tr>\n",
       "      <th>0</th>\n",
       "      <td>1</td>\n",
       "      <td>[821867, 834484, 856942, 865456, 889248, 90795...</td>\n",
       "      <td>[6423444, 1102955, 922898, 14050576, 1978019]</td>\n",
       "      <td>[6534178, 6533889, 1029743, 6534166, 1082185]</td>\n",
       "      <td>[999999, 1082185, 981760, 1127831, 995242]</td>\n",
       "      <td>[1082185, 999999, 981760, 1127831, 1098066]</td>\n",
       "      <td>[1082185, 981760, 1127831, 999999, 1098066]</td>\n",
       "      <td>[999999, 1082185, 1029743, 995785, 1004906]</td>\n",
       "    </tr>\n",
       "    <tr>\n",
       "      <th>1</th>\n",
       "      <td>3</td>\n",
       "      <td>[835476, 851057, 872021, 878302, 879948, 90963...</td>\n",
       "      <td>[15778681, 2409151, 9796599, 6533394, 851774]</td>\n",
       "      <td>[6534178, 6533889, 1029743, 6534166, 1082185]</td>\n",
       "      <td>[999999, 1082185, 981760, 1098066, 995242]</td>\n",
       "      <td>[1082185, 1098066, 981760, 999999, 826249]</td>\n",
       "      <td>[1082185, 981760, 1098066, 826249, 999999]</td>\n",
       "      <td>[999999, 1082185, 1098066, 6534178, 1127831]</td>\n",
       "    </tr>\n",
       "  </tbody>\n",
       "</table>\n",
       "</div>"
      ]
     },
     "metadata": {},
     "execution_count": 7
    }
   ],
   "metadata": {
    "colab": {},
    "colab_type": "code",
    "id": "36HtRgm8C8ZA",
    "outputId": "971ccba1-6f06-4ac8-fd2d-10ba527e0fe5"
   }
  },
  {
   "cell_type": "code",
   "execution_count": 8,
   "source": [
    "type(result['actual'][0])"
   ],
   "outputs": [
    {
     "output_type": "execute_result",
     "data": {
      "text/plain": [
       "str"
      ]
     },
     "metadata": {},
     "execution_count": 8
    }
   ],
   "metadata": {}
  },
  {
   "cell_type": "code",
   "execution_count": 10,
   "source": [
    "# файл с предсказаниями сохранил предсказания как строки\r\n",
    "# нужно перевести обратно в список\r\n",
    "for a in result.columns[1:]:\r\n",
    "    result.loc[:, a]=  result[a].map(lambda x: x[1:-1].split(', ')).apply(lambda x: list(map(int, x)))"
   ],
   "outputs": [],
   "metadata": {}
  },
  {
   "cell_type": "code",
   "execution_count": 11,
   "source": [
    "type(result['own_purchases'][0])"
   ],
   "outputs": [
    {
     "output_type": "execute_result",
     "data": {
      "text/plain": [
       "list"
      ]
     },
     "metadata": {},
     "execution_count": 11
    }
   ],
   "metadata": {}
  },
  {
   "cell_type": "code",
   "execution_count": 12,
   "source": [
    "result['weight_random_recommendation'] = result['user_id'].apply(lambda user_id: model.recommend())\r\n",
    "result.head(2)"
   ],
   "outputs": [
    {
     "output_type": "execute_result",
     "data": {
      "text/plain": [
       "   user_id                                             actual  \\\n",
       "0        1  [821867, 834484, 856942, 865456, 889248, 90795...   \n",
       "1        3  [835476, 851057, 872021, 878302, 879948, 90963...   \n",
       "\n",
       "                           random_recommendation  \\\n",
       "0  [6423444, 1102955, 922898, 14050576, 1978019]   \n",
       "1  [15778681, 2409151, 9796599, 6533394, 851774]   \n",
       "\n",
       "                          popular_recommendation  \\\n",
       "0  [6534178, 6533889, 1029743, 6534166, 1082185]   \n",
       "1  [6534178, 6533889, 1029743, 6534166, 1082185]   \n",
       "\n",
       "                                     itemitem  \\\n",
       "0  [999999, 1082185, 981760, 1127831, 995242]   \n",
       "1  [999999, 1082185, 981760, 1098066, 995242]   \n",
       "\n",
       "                                        cosine  \\\n",
       "0  [1082185, 999999, 981760, 1127831, 1098066]   \n",
       "1   [1082185, 1098066, 981760, 999999, 826249]   \n",
       "\n",
       "                                         tfidf  \\\n",
       "0  [1082185, 981760, 1127831, 999999, 1098066]   \n",
       "1   [1082185, 981760, 1098066, 826249, 999999]   \n",
       "\n",
       "                                  own_purchases  \\\n",
       "0   [999999, 1082185, 1029743, 995785, 1004906]   \n",
       "1  [999999, 1082185, 1098066, 6534178, 1127831]   \n",
       "\n",
       "                    weight_random_recommendation  \n",
       "0   [6533889, 6534178, 6534166, 480014, 6544236]  \n",
       "1  [6544236, 6534178, 6533889, 6534166, 1404121]  "
      ],
      "text/html": [
       "<div>\n",
       "<style scoped>\n",
       "    .dataframe tbody tr th:only-of-type {\n",
       "        vertical-align: middle;\n",
       "    }\n",
       "\n",
       "    .dataframe tbody tr th {\n",
       "        vertical-align: top;\n",
       "    }\n",
       "\n",
       "    .dataframe thead th {\n",
       "        text-align: right;\n",
       "    }\n",
       "</style>\n",
       "<table border=\"1\" class=\"dataframe\">\n",
       "  <thead>\n",
       "    <tr style=\"text-align: right;\">\n",
       "      <th></th>\n",
       "      <th>user_id</th>\n",
       "      <th>actual</th>\n",
       "      <th>random_recommendation</th>\n",
       "      <th>popular_recommendation</th>\n",
       "      <th>itemitem</th>\n",
       "      <th>cosine</th>\n",
       "      <th>tfidf</th>\n",
       "      <th>own_purchases</th>\n",
       "      <th>weight_random_recommendation</th>\n",
       "    </tr>\n",
       "  </thead>\n",
       "  <tbody>\n",
       "    <tr>\n",
       "      <th>0</th>\n",
       "      <td>1</td>\n",
       "      <td>[821867, 834484, 856942, 865456, 889248, 90795...</td>\n",
       "      <td>[6423444, 1102955, 922898, 14050576, 1978019]</td>\n",
       "      <td>[6534178, 6533889, 1029743, 6534166, 1082185]</td>\n",
       "      <td>[999999, 1082185, 981760, 1127831, 995242]</td>\n",
       "      <td>[1082185, 999999, 981760, 1127831, 1098066]</td>\n",
       "      <td>[1082185, 981760, 1127831, 999999, 1098066]</td>\n",
       "      <td>[999999, 1082185, 1029743, 995785, 1004906]</td>\n",
       "      <td>[6533889, 6534178, 6534166, 480014, 6544236]</td>\n",
       "    </tr>\n",
       "    <tr>\n",
       "      <th>1</th>\n",
       "      <td>3</td>\n",
       "      <td>[835476, 851057, 872021, 878302, 879948, 90963...</td>\n",
       "      <td>[15778681, 2409151, 9796599, 6533394, 851774]</td>\n",
       "      <td>[6534178, 6533889, 1029743, 6534166, 1082185]</td>\n",
       "      <td>[999999, 1082185, 981760, 1098066, 995242]</td>\n",
       "      <td>[1082185, 1098066, 981760, 999999, 826249]</td>\n",
       "      <td>[1082185, 981760, 1098066, 826249, 999999]</td>\n",
       "      <td>[999999, 1082185, 1098066, 6534178, 1127831]</td>\n",
       "      <td>[6544236, 6534178, 6533889, 6534166, 1404121]</td>\n",
       "    </tr>\n",
       "  </tbody>\n",
       "</table>\n",
       "</div>"
      ]
     },
     "metadata": {},
     "execution_count": 12
    }
   ],
   "metadata": {}
  },
  {
   "cell_type": "code",
   "execution_count": 13,
   "source": [
    "def precision_at_k(recommended_list, bought_list, k=5):\r\n",
    "    \r\n",
    "    bought_list = np.array(bought_list)\r\n",
    "    recommended_list = np.array(recommended_list)\r\n",
    "    \r\n",
    "    bought_list = bought_list  # Тут нет [:k] !!\r\n",
    "    recommended_list = recommended_list[:k]\r\n",
    "    \r\n",
    "    flags = np.isin(bought_list, recommended_list)\r\n",
    "    precision = flags.sum() / len(recommended_list)\r\n",
    "    \r\n",
    "    \r\n",
    "    return precision"
   ],
   "outputs": [],
   "metadata": {}
  },
  {
   "cell_type": "code",
   "execution_count": 14,
   "source": [
    "result.apply(lambda x: precision_at_k(x['own_purchases'], x['actual'],  5), axis=1).mean()"
   ],
   "outputs": [
    {
     "output_type": "execute_result",
     "data": {
      "text/plain": [
       "0.17969311132876264"
      ]
     },
     "metadata": {},
     "execution_count": 14
    }
   ],
   "metadata": {
    "colab": {},
    "colab_type": "code",
    "id": "_0cu0VeTC8ZD"
   }
  },
  {
   "cell_type": "code",
   "execution_count": 15,
   "source": [
    "from Recommendation_systems.hw2.metric import MetricManager\r\n",
    "\r\n",
    "metrics = MetricManager()\r\n",
    "for index in result.index:\r\n",
    "    item = result.iloc[index]\r\n",
    "    if len(item['random_recommendation'])==5:           # на некторых позициях длинна списка меньше 5\r\n",
    "        metrics.apply(        \r\n",
    "            recommended = item['random_recommendation'],\r\n",
    "            boughted = item['actual'],\r\n",
    "            name = 'random_recommendation',\r\n",
    "            user = item['user_id']\r\n",
    "            )\r\n",
    "    if len(item['popular_recommendation'])==5:          # на некторых позициях длинна списка меньше 5\r\n",
    "        metrics.apply(        \r\n",
    "            recommended = item['popular_recommendation'],\r\n",
    "            boughted = item['actual'],\r\n",
    "            name = 'popular_recommendation',\r\n",
    "            user = item['user_id']\r\n",
    "            )\r\n",
    "    if len(item['itemitem'])==5:                        # на некторых позициях длинна списка меньше 5\r\n",
    "        metrics.apply(        \r\n",
    "            recommended = item['itemitem'],\r\n",
    "            boughted = item['actual'],\r\n",
    "            name = 'itemitem',\r\n",
    "            user = item['user_id']\r\n",
    "            )\r\n",
    "    if len(item['cosine'])==5:                          # на некторых позициях длинна списка меньше 5\r\n",
    "        metrics.apply(        \r\n",
    "            recommended = item['cosine'],\r\n",
    "            boughted = item['actual'],\r\n",
    "            name = 'cosine',\r\n",
    "            user = item['user_id']\r\n",
    "            )\r\n",
    "    if len(item['tfidf'])==5:                           # на некторых позициях длинна списка меньше 5\r\n",
    "        metrics.apply(        \r\n",
    "            recommended = item['tfidf'],\r\n",
    "            boughted = item['actual'],\r\n",
    "            name = 'tfidf',\r\n",
    "            user = item['user_id']\r\n",
    "            )\r\n",
    "    if len(item['own_purchases'])==5:                   # на некторых позициях длинна списка меньше 5\r\n",
    "        metrics.apply(        \r\n",
    "            recommended = item['own_purchases'],\r\n",
    "            boughted = item['actual'],\r\n",
    "            name = 'own_purchases',\r\n",
    "            user = item['user_id']\r\n",
    "            )\r\n",
    "    if len(item['weight_random_recommendation'])==5:    # на некторых позициях длинна списка меньше 5 \r\n",
    "        metrics.apply(        \r\n",
    "            recommended = item['weight_random_recommendation'],\r\n",
    "            boughted = item['actual'],\r\n",
    "            name = 'weight_random_recommendation',\r\n",
    "            user = item['user_id']\r\n",
    "            )\r\n",
    "metrics.show_table()\r\n"
   ],
   "outputs": [
    {
     "output_type": "stream",
     "name": "stdout",
     "text": [
      "Name model                      Hit rate    Precision    Average precision    DCG    NDCG    MRR\n",
      "----------------------------  ----------  -----------  -------------------  -----  ------  -----\n",
      "random_recommendation              0.003        0.001                0      0.001   0.001  0\n",
      "popular_recommendation             0.531        0.155                0.083  0.202   0.174  0.069\n",
      "itemitem                           0.487        0.137                0.065  0.137   0.118  0.053\n",
      "cosine                             0.476        0.133                0.105  0.142   0.123  0.091\n",
      "tfidf                              0.485        0.139                0.111  0.146   0.126  0.094\n",
      "own_purchases                      0.581        0.181                0.086  0.194   0.168  0.066\n",
      "weight_random_recommendation       0.22         0.046                0.039  0.046   0.039  0.038\n"
     ]
    }
   ],
   "metadata": {}
  },
  {
   "cell_type": "markdown",
   "source": [
    "### weight_random_recommendation \r\n",
    "* Только в ~22% был хотя бы один релевантный товар\r\n",
    "* Только ~5% проценов куплено товаров из рекомендованых\r\n",
    "\r\n",
    "В некоторых рекомендациях коллекции длинной меньше 5 и чтобы Average precision был расчитан все что меньше 5 не брал в ращёт. С этими рекомендациями надо разбираться"
   ],
   "metadata": {}
  },
  {
   "cell_type": "markdown",
   "source": [
    "### Задание 3. Улучшение бейзлайнов и ItemItem\n",
    "\n",
    "- Попробуйте улучшить бейзлайны, считая их на топ-5000 товаров\n",
    "- Попробуйте улучшить разные варианты ItemItemRecommender, выбирая число соседей $K$.\n",
    "- Попробуйте стратегии ансамблирования изученных алгоритмов\n"
   ],
   "metadata": {
    "colab_type": "text",
    "id": "igDU0j1cC8ZH"
   }
  },
  {
   "cell_type": "code",
   "execution_count": 16,
   "source": [
    "# your_code"
   ],
   "outputs": [],
   "metadata": {
    "colab": {},
    "colab_type": "code",
    "id": "zYBR3cMPC8ZH"
   }
  },
  {
   "cell_type": "markdown",
   "source": [
    "### Задание 4*. Улучшение детерминированных алгоритмов\n",
    "На семинаре мы рассматривали \n",
    "\n"
   ],
   "metadata": {}
  },
  {
   "cell_type": "markdown",
   "source": [
    "Далее $U \\equiv N_i(u) $\r\n",
    "\r\n",
    "$$r_{u,i} =  \\frac{1}{S}\\sum\\limits_{v \\in U}\\operatorname{sim}(u,v)r_{v, i}$$\r\n",
    "$$ S = \\sum\\limits_{v \\in U} \\operatorname{sim}(u,v)$$\r\n",
    "\r\n",
    "Предлагается улучшить эту формулу и учесть средние предпочтения всех пользователей\r\n",
    "\r\n",
    "$$r_{u,i} = \\mu + \\bar{r_u} + \\frac{1}{S}\\sum\\limits_{v \\in U}\\operatorname{sim}(u,v)(r_{v, i}-\\bar{r_{v}} - \\mu)$$"
   ],
   "metadata": {}
  },
  {
   "cell_type": "markdown",
   "source": [
    "Какие смысл имееют $ \\mu $ и $ \\bar{r_u}$ ?\n",
    "\n",
    "Реализуйте алгоритм, прогнозирующий рейтинги на основе данной формулы, на numpy (векторизованно!)\n",
    "\n",
    "В качестве схожести возьмите CosineSimilarity.\n",
    "\n",
    "Примените к user_item_matrix. В качестве рейтингов возьмите количество или стоимость купленного товара. \n",
    "Данный алгоритм предсказывает рейтинги. Как на основании предсказанных рейтингов предсказать факт покупки?\n",
    "\n",
    "Предложите вариант.\n",
    "Посчитайте accuracy@5 и сравните с алгоритмами, разобранными на вебинаре."
   ],
   "metadata": {}
  }
 ],
 "metadata": {
  "colab": {
   "name": "hw_webinar_2.ipynb",
   "provenance": []
  },
  "kernelspec": {
   "name": "python3",
   "display_name": "Python 3.8.10 64-bit ('.venv': pipenv)"
  },
  "language_info": {
   "codemirror_mode": {
    "name": "ipython",
    "version": 3
   },
   "file_extension": ".py",
   "mimetype": "text/x-python",
   "name": "python",
   "nbconvert_exporter": "python",
   "pygments_lexer": "ipython3",
   "version": "3.8.10"
  },
  "interpreter": {
   "hash": "cb89ae556f7e5c21ccb32678716835f376b6d23d88a9dc122dcf759661171a84"
  }
 },
 "nbformat": 4,
 "nbformat_minor": 1
}