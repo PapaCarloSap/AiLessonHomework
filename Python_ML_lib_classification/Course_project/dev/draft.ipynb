{
 "metadata": {
  "language_info": {
   "codemirror_mode": {
    "name": "ipython",
    "version": 3
   },
   "file_extension": ".py",
   "mimetype": "text/x-python",
   "name": "python",
   "nbconvert_exporter": "python",
   "pygments_lexer": "ipython3",
   "version": "3.8.3-final"
  },
  "orig_nbformat": 2,
  "kernelspec": {
   "name": "python3",
   "display_name": "Python 3.8.3 32-bit",
   "metadata": {
    "interpreter": {
     "hash": "ca585555a2867b459a38eaf8b2b47956aef7a6f770e52f1f5dfa1f8f05e57688"
    }
   }
  }
 },
 "nbformat": 4,
 "nbformat_minor": 2,
 "cells": [
  {
   "cell_type": "code",
   "execution_count": 1,
   "metadata": {},
   "outputs": [],
   "source": [
    "import numpy as np\n",
    "import pandas as pd\n",
    "import matplotlib.pyplot as plt\n",
    "from sklearn.model_selection import train_test_split\n",
    "from sklearn.ensemble import RandomForestRegressor\n",
    "from sklearn.metrics import r2_score\n",
    "\n",
    "import sys\n",
    "sys.path.append('/Python_ML_lib_classification/Course_project/dev/')\n",
    "import ml_helper as mlhp\n",
    "\n",
    "%matplotlib inline\n",
    "%config InlineBackend.figure_format = 'svg'\n",
    "pd.options.display.float_format = '{:,.2f}'.format"
   ]
  },
  {
   "source": [
    "## Обзор данных\n",
    "\n",
    "### Описание датасета\n",
    "\n",
    "    Home Ownership - домовладение\n",
    "    Annual Income - годовой доход\n",
    "    Years in current job - количество лет на текущем месте работы\n",
    "    Tax Liens - налоговые обременения\n",
    "    Number of Open Accounts - количество открытых счетов\n",
    "    Years of Credit History - количество лет кредитной истории\n",
    "    Maximum Open Credit - наибольший открытый кредит\n",
    "    Number of Credit Problems - количество проблем с кредитом\n",
    "    Months since last delinquent - количество месяцев с последней просрочки платежа\n",
    "    Bankruptcies - банкротства\n",
    "    Purpose - цель кредита\n",
    "    Term - срок кредита\n",
    "    Current Loan Amount - текущая сумма кредита\n",
    "    Current Credit Balance - текущий кредитный баланс\n",
    "    Monthly Debt - ежемесячный долг\n",
    "    Credit Default - факт невыполнения кредитных обязательств (0 - погашен вовремя, 1 - просрочка)\n",
    "\n"
   ],
   "cell_type": "markdown",
   "metadata": {}
  },
  {
   "source": [
    "### Настраиваем константы и загружаем данные\n"
   ],
   "cell_type": "markdown",
   "metadata": {}
  },
  {
   "cell_type": "code",
   "execution_count": 2,
   "metadata": {},
   "outputs": [],
   "source": [
    "TRAIN_DATASET_PATH = 'course_project_train.csv'\n",
    "TEST_DATASET_PATH = 'course_project_test.csv'\n",
    "TARGET = 'Credit Default'\n",
    "\n",
    "df_train = pd.read_csv(TRAIN_DATASET_PATH)\n",
    "df_test = pd.read_csv(TEST_DATASET_PATH)"
   ]
  },
  {
   "source": [
    "### Анализируем обучающий данные"
   ],
   "cell_type": "markdown",
   "metadata": {}
  },
  {
   "cell_type": "code",
   "execution_count": 3,
   "metadata": {},
   "outputs": [
    {
     "output_type": "execute_result",
     "data": {
      "text/plain": [
       "  Home Ownership  Annual Income Years in current job  Tax Liens  \\\n",
       "0       Own Home     482,087.00                  NaN       0.00   \n",
       "1       Own Home   1,025,487.00            10+ years       0.00   \n",
       "2  Home Mortgage     751,412.00              8 years       0.00   \n",
       "3       Own Home     805,068.00              6 years       0.00   \n",
       "4           Rent     776,264.00              8 years       0.00   \n",
       "\n",
       "   Number of Open Accounts  Years of Credit History  Maximum Open Credit  \\\n",
       "0                    11.00                    26.30           685,960.00   \n",
       "1                    15.00                    15.30         1,181,730.00   \n",
       "2                    11.00                    35.00         1,182,434.00   \n",
       "3                     8.00                    22.50           147,400.00   \n",
       "4                    13.00                    13.60           385,836.00   \n",
       "\n",
       "   Number of Credit Problems  Months since last delinquent  Bankruptcies  \\\n",
       "0                       1.00                           nan          1.00   \n",
       "1                       0.00                           nan          0.00   \n",
       "2                       0.00                           nan          0.00   \n",
       "3                       1.00                           nan          1.00   \n",
       "4                       1.00                           nan          0.00   \n",
       "\n",
       "              Purpose        Term  Current Loan Amount  \\\n",
       "0  debt consolidation  Short Term        99,999,999.00   \n",
       "1  debt consolidation   Long Term           264,968.00   \n",
       "2  debt consolidation  Short Term        99,999,999.00   \n",
       "3  debt consolidation  Short Term           121,396.00   \n",
       "4  debt consolidation  Short Term           125,840.00   \n",
       "\n",
       "   Current Credit Balance  Monthly Debt  Credit Score  Credit Default  \n",
       "0               47,386.00      7,914.00        749.00               0  \n",
       "1              394,972.00     18,373.00        737.00               1  \n",
       "2              308,389.00     13,651.00        742.00               0  \n",
       "3               95,855.00     11,338.00        694.00               0  \n",
       "4               93,309.00      7,180.00        719.00               0  "
      ],
      "text/html": "<div>\n<style scoped>\n    .dataframe tbody tr th:only-of-type {\n        vertical-align: middle;\n    }\n\n    .dataframe tbody tr th {\n        vertical-align: top;\n    }\n\n    .dataframe thead th {\n        text-align: right;\n    }\n</style>\n<table border=\"1\" class=\"dataframe\">\n  <thead>\n    <tr style=\"text-align: right;\">\n      <th></th>\n      <th>Home Ownership</th>\n      <th>Annual Income</th>\n      <th>Years in current job</th>\n      <th>Tax Liens</th>\n      <th>Number of Open Accounts</th>\n      <th>Years of Credit History</th>\n      <th>Maximum Open Credit</th>\n      <th>Number of Credit Problems</th>\n      <th>Months since last delinquent</th>\n      <th>Bankruptcies</th>\n      <th>Purpose</th>\n      <th>Term</th>\n      <th>Current Loan Amount</th>\n      <th>Current Credit Balance</th>\n      <th>Monthly Debt</th>\n      <th>Credit Score</th>\n      <th>Credit Default</th>\n    </tr>\n  </thead>\n  <tbody>\n    <tr>\n      <th>0</th>\n      <td>Own Home</td>\n      <td>482,087.00</td>\n      <td>NaN</td>\n      <td>0.00</td>\n      <td>11.00</td>\n      <td>26.30</td>\n      <td>685,960.00</td>\n      <td>1.00</td>\n      <td>nan</td>\n      <td>1.00</td>\n      <td>debt consolidation</td>\n      <td>Short Term</td>\n      <td>99,999,999.00</td>\n      <td>47,386.00</td>\n      <td>7,914.00</td>\n      <td>749.00</td>\n      <td>0</td>\n    </tr>\n    <tr>\n      <th>1</th>\n      <td>Own Home</td>\n      <td>1,025,487.00</td>\n      <td>10+ years</td>\n      <td>0.00</td>\n      <td>15.00</td>\n      <td>15.30</td>\n      <td>1,181,730.00</td>\n      <td>0.00</td>\n      <td>nan</td>\n      <td>0.00</td>\n      <td>debt consolidation</td>\n      <td>Long Term</td>\n      <td>264,968.00</td>\n      <td>394,972.00</td>\n      <td>18,373.00</td>\n      <td>737.00</td>\n      <td>1</td>\n    </tr>\n    <tr>\n      <th>2</th>\n      <td>Home Mortgage</td>\n      <td>751,412.00</td>\n      <td>8 years</td>\n      <td>0.00</td>\n      <td>11.00</td>\n      <td>35.00</td>\n      <td>1,182,434.00</td>\n      <td>0.00</td>\n      <td>nan</td>\n      <td>0.00</td>\n      <td>debt consolidation</td>\n      <td>Short Term</td>\n      <td>99,999,999.00</td>\n      <td>308,389.00</td>\n      <td>13,651.00</td>\n      <td>742.00</td>\n      <td>0</td>\n    </tr>\n    <tr>\n      <th>3</th>\n      <td>Own Home</td>\n      <td>805,068.00</td>\n      <td>6 years</td>\n      <td>0.00</td>\n      <td>8.00</td>\n      <td>22.50</td>\n      <td>147,400.00</td>\n      <td>1.00</td>\n      <td>nan</td>\n      <td>1.00</td>\n      <td>debt consolidation</td>\n      <td>Short Term</td>\n      <td>121,396.00</td>\n      <td>95,855.00</td>\n      <td>11,338.00</td>\n      <td>694.00</td>\n      <td>0</td>\n    </tr>\n    <tr>\n      <th>4</th>\n      <td>Rent</td>\n      <td>776,264.00</td>\n      <td>8 years</td>\n      <td>0.00</td>\n      <td>13.00</td>\n      <td>13.60</td>\n      <td>385,836.00</td>\n      <td>1.00</td>\n      <td>nan</td>\n      <td>0.00</td>\n      <td>debt consolidation</td>\n      <td>Short Term</td>\n      <td>125,840.00</td>\n      <td>93,309.00</td>\n      <td>7,180.00</td>\n      <td>719.00</td>\n      <td>0</td>\n    </tr>\n  </tbody>\n</table>\n</div>"
     },
     "metadata": {},
     "execution_count": 3
    }
   ],
   "source": [
    "df_train.head()"
   ]
  },
  {
   "cell_type": "code",
   "execution_count": 4,
   "metadata": {},
   "outputs": [
    {
     "output_type": "execute_result",
     "data": {
      "text/plain": [
       "0    5387\n",
       "1    2113\n",
       "Name: Credit Default, dtype: int64"
      ]
     },
     "metadata": {},
     "execution_count": 4
    }
   ],
   "source": [
    "df_train[TARGET].value_counts()"
   ]
  },
  {
   "cell_type": "code",
   "execution_count": 5,
   "metadata": {},
   "outputs": [
    {
     "output_type": "execute_result",
     "data": {
      "text/plain": [
       "<pandas.io.formats.style.Styler at 0x5f78ac0>"
      ],
      "text/html": "<style  type=\"text/css\" >\n#T_944fa8e5_4219_11eb_b865_b0360e9c9af9row0_col0,#T_944fa8e5_4219_11eb_b865_b0360e9c9af9row1_col1,#T_944fa8e5_4219_11eb_b865_b0360e9c9af9row2_col2,#T_944fa8e5_4219_11eb_b865_b0360e9c9af9row3_col3,#T_944fa8e5_4219_11eb_b865_b0360e9c9af9row4_col4,#T_944fa8e5_4219_11eb_b865_b0360e9c9af9row5_col5,#T_944fa8e5_4219_11eb_b865_b0360e9c9af9row6_col6,#T_944fa8e5_4219_11eb_b865_b0360e9c9af9row7_col7,#T_944fa8e5_4219_11eb_b865_b0360e9c9af9row8_col8,#T_944fa8e5_4219_11eb_b865_b0360e9c9af9row9_col9,#T_944fa8e5_4219_11eb_b865_b0360e9c9af9row10_col10,#T_944fa8e5_4219_11eb_b865_b0360e9c9af9row11_col11,#T_944fa8e5_4219_11eb_b865_b0360e9c9af9row12_col12{\n            background-color:  #b40426;\n            color:  #f1f1f1;\n        }#T_944fa8e5_4219_11eb_b865_b0360e9c9af9row0_col1,#T_944fa8e5_4219_11eb_b865_b0360e9c9af9row0_col4{\n            background-color:  #516ddb;\n            color:  #000000;\n        }#T_944fa8e5_4219_11eb_b865_b0360e9c9af9row0_col2{\n            background-color:  #80a3fa;\n            color:  #000000;\n        }#T_944fa8e5_4219_11eb_b865_b0360e9c9af9row0_col3,#T_944fa8e5_4219_11eb_b865_b0360e9c9af9row3_col7,#T_944fa8e5_4219_11eb_b865_b0360e9c9af9row4_col9,#T_944fa8e5_4219_11eb_b865_b0360e9c9af9row5_col12,#T_944fa8e5_4219_11eb_b865_b0360e9c9af9row10_col12{\n            background-color:  #7b9ff9;\n            color:  #000000;\n        }#T_944fa8e5_4219_11eb_b865_b0360e9c9af9row0_col5,#T_944fa8e5_4219_11eb_b865_b0360e9c9af9row2_col5,#T_944fa8e5_4219_11eb_b865_b0360e9c9af9row6_col11,#T_944fa8e5_4219_11eb_b865_b0360e9c9af9row11_col5,#T_944fa8e5_4219_11eb_b865_b0360e9c9af9row11_col8,#T_944fa8e5_4219_11eb_b865_b0360e9c9af9row12_col6{\n            background-color:  #5875e1;\n            color:  #000000;\n        }#T_944fa8e5_4219_11eb_b865_b0360e9c9af9row0_col6,#T_944fa8e5_4219_11eb_b865_b0360e9c9af9row6_col0,#T_944fa8e5_4219_11eb_b865_b0360e9c9af9row6_col2,#T_944fa8e5_4219_11eb_b865_b0360e9c9af9row7_col4,#T_944fa8e5_4219_11eb_b865_b0360e9c9af9row7_col9,#T_944fa8e5_4219_11eb_b865_b0360e9c9af9row7_col10,#T_944fa8e5_4219_11eb_b865_b0360e9c9af9row8_col1,#T_944fa8e5_4219_11eb_b865_b0360e9c9af9row8_col11,#T_944fa8e5_4219_11eb_b865_b0360e9c9af9row8_col12,#T_944fa8e5_4219_11eb_b865_b0360e9c9af9row9_col1,#T_944fa8e5_4219_11eb_b865_b0360e9c9af9row9_col5,#T_944fa8e5_4219_11eb_b865_b0360e9c9af9row9_col7,#T_944fa8e5_4219_11eb_b865_b0360e9c9af9row12_col0,#T_944fa8e5_4219_11eb_b865_b0360e9c9af9row12_col3,#T_944fa8e5_4219_11eb_b865_b0360e9c9af9row12_col4,#T_944fa8e5_4219_11eb_b865_b0360e9c9af9row12_col8{\n            background-color:  #3b4cc0;\n            color:  #f1f1f1;\n        }#T_944fa8e5_4219_11eb_b865_b0360e9c9af9row0_col7,#T_944fa8e5_4219_11eb_b865_b0360e9c9af9row7_col1,#T_944fa8e5_4219_11eb_b865_b0360e9c9af9row9_col6{\n            background-color:  #4f69d9;\n            color:  #000000;\n        }#T_944fa8e5_4219_11eb_b865_b0360e9c9af9row0_col8,#T_944fa8e5_4219_11eb_b865_b0360e9c9af9row2_col12,#T_944fa8e5_4219_11eb_b865_b0360e9c9af9row10_col3{\n            background-color:  #7ea1fa;\n            color:  #000000;\n        }#T_944fa8e5_4219_11eb_b865_b0360e9c9af9row0_col9{\n            background-color:  #d3dbe7;\n            color:  #000000;\n        }#T_944fa8e5_4219_11eb_b865_b0360e9c9af9row0_col10{\n            background-color:  #f3c7b1;\n            color:  #000000;\n        }#T_944fa8e5_4219_11eb_b865_b0360e9c9af9row0_col11,#T_944fa8e5_4219_11eb_b865_b0360e9c9af9row2_col6,#T_944fa8e5_4219_11eb_b865_b0360e9c9af9row8_col10{\n            background-color:  #4e68d8;\n            color:  #000000;\n        }#T_944fa8e5_4219_11eb_b865_b0360e9c9af9row0_col12,#T_944fa8e5_4219_11eb_b865_b0360e9c9af9row7_col3,#T_944fa8e5_4219_11eb_b865_b0360e9c9af9row8_col5{\n            background-color:  #5a78e4;\n            color:  #000000;\n        }#T_944fa8e5_4219_11eb_b865_b0360e9c9af9row1_col0{\n            background-color:  #6b8df0;\n            color:  #000000;\n        }#T_944fa8e5_4219_11eb_b865_b0360e9c9af9row1_col2,#T_944fa8e5_4219_11eb_b865_b0360e9c9af9row10_col4{\n            background-color:  #4257c9;\n            color:  #f1f1f1;\n        }#T_944fa8e5_4219_11eb_b865_b0360e9c9af9row1_col3,#T_944fa8e5_4219_11eb_b865_b0360e9c9af9row8_col3{\n            background-color:  #4358cb;\n            color:  #f1f1f1;\n        }#T_944fa8e5_4219_11eb_b865_b0360e9c9af9row1_col4,#T_944fa8e5_4219_11eb_b865_b0360e9c9af9row5_col4,#T_944fa8e5_4219_11eb_b865_b0360e9c9af9row6_col4{\n            background-color:  #3d50c3;\n            color:  #f1f1f1;\n        }#T_944fa8e5_4219_11eb_b865_b0360e9c9af9row1_col5{\n            background-color:  #f5c0a7;\n            color:  #000000;\n        }#T_944fa8e5_4219_11eb_b865_b0360e9c9af9row1_col6,#T_944fa8e5_4219_11eb_b865_b0360e9c9af9row8_col9{\n            background-color:  #6687ed;\n            color:  #000000;\n        }#T_944fa8e5_4219_11eb_b865_b0360e9c9af9row1_col7,#T_944fa8e5_4219_11eb_b865_b0360e9c9af9row3_col2,#T_944fa8e5_4219_11eb_b865_b0360e9c9af9row3_col5,#T_944fa8e5_4219_11eb_b865_b0360e9c9af9row4_col12{\n            background-color:  #7295f4;\n            color:  #000000;\n        }#T_944fa8e5_4219_11eb_b865_b0360e9c9af9row1_col8,#T_944fa8e5_4219_11eb_b865_b0360e9c9af9row5_col8,#T_944fa8e5_4219_11eb_b865_b0360e9c9af9row10_col8{\n            background-color:  #7396f5;\n            color:  #000000;\n        }#T_944fa8e5_4219_11eb_b865_b0360e9c9af9row1_col9,#T_944fa8e5_4219_11eb_b865_b0360e9c9af9row4_col7{\n            background-color:  #5e7de7;\n            color:  #000000;\n        }#T_944fa8e5_4219_11eb_b865_b0360e9c9af9row1_col10,#T_944fa8e5_4219_11eb_b865_b0360e9c9af9row6_col9,#T_944fa8e5_4219_11eb_b865_b0360e9c9af9row9_col4,#T_944fa8e5_4219_11eb_b865_b0360e9c9af9row10_col11,#T_944fa8e5_4219_11eb_b865_b0360e9c9af9row11_col7{\n            background-color:  #5977e3;\n            color:  #000000;\n        }#T_944fa8e5_4219_11eb_b865_b0360e9c9af9row1_col11,#T_944fa8e5_4219_11eb_b865_b0360e9c9af9row2_col7,#T_944fa8e5_4219_11eb_b865_b0360e9c9af9row4_col5,#T_944fa8e5_4219_11eb_b865_b0360e9c9af9row12_col9{\n            background-color:  #5b7ae5;\n            color:  #000000;\n        }#T_944fa8e5_4219_11eb_b865_b0360e9c9af9row1_col12{\n            background-color:  #7da0f9;\n            color:  #000000;\n        }#T_944fa8e5_4219_11eb_b865_b0360e9c9af9row2_col0{\n            background-color:  #92b4fe;\n            color:  #000000;\n        }#T_944fa8e5_4219_11eb_b865_b0360e9c9af9row2_col1,#T_944fa8e5_4219_11eb_b865_b0360e9c9af9row4_col1,#T_944fa8e5_4219_11eb_b865_b0360e9c9af9row6_col3,#T_944fa8e5_4219_11eb_b865_b0360e9c9af9row11_col3,#T_944fa8e5_4219_11eb_b865_b0360e9c9af9row11_col4{\n            background-color:  #3c4ec2;\n            color:  #f1f1f1;\n        }#T_944fa8e5_4219_11eb_b865_b0360e9c9af9row2_col3{\n            background-color:  #6e90f2;\n            color:  #000000;\n        }#T_944fa8e5_4219_11eb_b865_b0360e9c9af9row2_col4,#T_944fa8e5_4219_11eb_b865_b0360e9c9af9row10_col1{\n            background-color:  #455cce;\n            color:  #f1f1f1;\n        }#T_944fa8e5_4219_11eb_b865_b0360e9c9af9row2_col8,#T_944fa8e5_4219_11eb_b865_b0360e9c9af9row6_col8,#T_944fa8e5_4219_11eb_b865_b0360e9c9af9row6_col12,#T_944fa8e5_4219_11eb_b865_b0360e9c9af9row7_col12{\n            background-color:  #7699f6;\n            color:  #000000;\n        }#T_944fa8e5_4219_11eb_b865_b0360e9c9af9row2_col9{\n            background-color:  #b2ccfb;\n            color:  #000000;\n        }#T_944fa8e5_4219_11eb_b865_b0360e9c9af9row2_col10{\n            background-color:  #d2dbe8;\n            color:  #000000;\n        }#T_944fa8e5_4219_11eb_b865_b0360e9c9af9row2_col11{\n            background-color:  #5d7ce6;\n            color:  #000000;\n        }#T_944fa8e5_4219_11eb_b865_b0360e9c9af9row3_col0{\n            background-color:  #90b2fe;\n            color:  #000000;\n        }#T_944fa8e5_4219_11eb_b865_b0360e9c9af9row3_col1,#T_944fa8e5_4219_11eb_b865_b0360e9c9af9row5_col9{\n            background-color:  #3f53c6;\n            color:  #f1f1f1;\n        }#T_944fa8e5_4219_11eb_b865_b0360e9c9af9row3_col4,#T_944fa8e5_4219_11eb_b865_b0360e9c9af9row10_col6{\n            background-color:  #465ecf;\n            color:  #f1f1f1;\n        }#T_944fa8e5_4219_11eb_b865_b0360e9c9af9row3_col6,#T_944fa8e5_4219_11eb_b865_b0360e9c9af9row5_col0,#T_944fa8e5_4219_11eb_b865_b0360e9c9af9row5_col11{\n            background-color:  #536edd;\n            color:  #000000;\n        }#T_944fa8e5_4219_11eb_b865_b0360e9c9af9row3_col8{\n            background-color:  #799cf8;\n            color:  #000000;\n        }#T_944fa8e5_4219_11eb_b865_b0360e9c9af9row3_col9{\n            background-color:  #a3c2fe;\n            color:  #000000;\n        }#T_944fa8e5_4219_11eb_b865_b0360e9c9af9row3_col10{\n            background-color:  #8db0fe;\n            color:  #000000;\n        }#T_944fa8e5_4219_11eb_b865_b0360e9c9af9row3_col11,#T_944fa8e5_4219_11eb_b865_b0360e9c9af9row4_col10{\n            background-color:  #5470de;\n            color:  #000000;\n        }#T_944fa8e5_4219_11eb_b865_b0360e9c9af9row3_col12{\n            background-color:  #6f92f3;\n            color:  #000000;\n        }#T_944fa8e5_4219_11eb_b865_b0360e9c9af9row4_col0{\n            background-color:  #6a8bef;\n            color:  #000000;\n        }#T_944fa8e5_4219_11eb_b865_b0360e9c9af9row4_col2,#T_944fa8e5_4219_11eb_b865_b0360e9c9af9row10_col7,#T_944fa8e5_4219_11eb_b865_b0360e9c9af9row11_col0{\n            background-color:  #4b64d5;\n            color:  #f1f1f1;\n        }#T_944fa8e5_4219_11eb_b865_b0360e9c9af9row4_col3,#T_944fa8e5_4219_11eb_b865_b0360e9c9af9row11_col2{\n            background-color:  #4961d2;\n            color:  #f1f1f1;\n        }#T_944fa8e5_4219_11eb_b865_b0360e9c9af9row4_col6,#T_944fa8e5_4219_11eb_b865_b0360e9c9af9row4_col11,#T_944fa8e5_4219_11eb_b865_b0360e9c9af9row11_col6{\n            background-color:  #5572df;\n            color:  #000000;\n        }#T_944fa8e5_4219_11eb_b865_b0360e9c9af9row4_col8,#T_944fa8e5_4219_11eb_b865_b0360e9c9af9row7_col8{\n            background-color:  #7597f6;\n            color:  #000000;\n        }#T_944fa8e5_4219_11eb_b865_b0360e9c9af9row5_col1{\n            background-color:  #f2cbb7;\n            color:  #000000;\n        }#T_944fa8e5_4219_11eb_b865_b0360e9c9af9row5_col2,#T_944fa8e5_4219_11eb_b865_b0360e9c9af9row7_col2,#T_944fa8e5_4219_11eb_b865_b0360e9c9af9row8_col4{\n            background-color:  #3e51c5;\n            color:  #f1f1f1;\n        }#T_944fa8e5_4219_11eb_b865_b0360e9c9af9row5_col3,#T_944fa8e5_4219_11eb_b865_b0360e9c9af9row8_col6,#T_944fa8e5_4219_11eb_b865_b0360e9c9af9row9_col11,#T_944fa8e5_4219_11eb_b865_b0360e9c9af9row12_col10{\n            background-color:  #5673e0;\n            color:  #000000;\n        }#T_944fa8e5_4219_11eb_b865_b0360e9c9af9row5_col6{\n            background-color:  #82a6fb;\n            color:  #000000;\n        }#T_944fa8e5_4219_11eb_b865_b0360e9c9af9row5_col7{\n            background-color:  #f39475;\n            color:  #000000;\n        }#T_944fa8e5_4219_11eb_b865_b0360e9c9af9row5_col10,#T_944fa8e5_4219_11eb_b865_b0360e9c9af9row7_col0,#T_944fa8e5_4219_11eb_b865_b0360e9c9af9row8_col2,#T_944fa8e5_4219_11eb_b865_b0360e9c9af9row12_col1{\n            background-color:  #445acc;\n            color:  #f1f1f1;\n        }#T_944fa8e5_4219_11eb_b865_b0360e9c9af9row6_col1,#T_944fa8e5_4219_11eb_b865_b0360e9c9af9row12_col2{\n            background-color:  #4c66d6;\n            color:  #000000;\n        }#T_944fa8e5_4219_11eb_b865_b0360e9c9af9row6_col5{\n            background-color:  #88abfd;\n            color:  #000000;\n        }#T_944fa8e5_4219_11eb_b865_b0360e9c9af9row6_col7{\n            background-color:  #93b5fe;\n            color:  #000000;\n        }#T_944fa8e5_4219_11eb_b865_b0360e9c9af9row6_col10,#T_944fa8e5_4219_11eb_b865_b0360e9c9af9row11_col1{\n            background-color:  #4055c8;\n            color:  #f1f1f1;\n        }#T_944fa8e5_4219_11eb_b865_b0360e9c9af9row7_col5{\n            background-color:  #f39577;\n            color:  #000000;\n        }#T_944fa8e5_4219_11eb_b865_b0360e9c9af9row7_col6{\n            background-color:  #89acfd;\n            color:  #000000;\n        }#T_944fa8e5_4219_11eb_b865_b0360e9c9af9row7_col11,#T_944fa8e5_4219_11eb_b865_b0360e9c9af9row10_col5,#T_944fa8e5_4219_11eb_b865_b0360e9c9af9row11_col10{\n            background-color:  #506bda;\n            color:  #000000;\n        }#T_944fa8e5_4219_11eb_b865_b0360e9c9af9row8_col0{\n            background-color:  #6180e9;\n            color:  #000000;\n        }#T_944fa8e5_4219_11eb_b865_b0360e9c9af9row8_col7,#T_944fa8e5_4219_11eb_b865_b0360e9c9af9row11_col9{\n            background-color:  #5f7fe8;\n            color:  #000000;\n        }#T_944fa8e5_4219_11eb_b865_b0360e9c9af9row9_col0{\n            background-color:  #cdd9ec;\n            color:  #000000;\n        }#T_944fa8e5_4219_11eb_b865_b0360e9c9af9row9_col2{\n            background-color:  #9bbcff;\n            color:  #000000;\n        }#T_944fa8e5_4219_11eb_b865_b0360e9c9af9row9_col3{\n            background-color:  #86a9fc;\n            color:  #000000;\n        }#T_944fa8e5_4219_11eb_b865_b0360e9c9af9row9_col8{\n            background-color:  #7a9df8;\n            color:  #000000;\n        }#T_944fa8e5_4219_11eb_b865_b0360e9c9af9row9_col10{\n            background-color:  #e7d7ce;\n            color:  #000000;\n        }#T_944fa8e5_4219_11eb_b865_b0360e9c9af9row9_col12{\n            background-color:  #7093f3;\n            color:  #000000;\n        }#T_944fa8e5_4219_11eb_b865_b0360e9c9af9row10_col0{\n            background-color:  #f4c5ad;\n            color:  #000000;\n        }#T_944fa8e5_4219_11eb_b865_b0360e9c9af9row10_col2{\n            background-color:  #cad8ef;\n            color:  #000000;\n        }#T_944fa8e5_4219_11eb_b865_b0360e9c9af9row10_col9{\n            background-color:  #edd2c3;\n            color:  #000000;\n        }#T_944fa8e5_4219_11eb_b865_b0360e9c9af9row11_col12{\n            background-color:  #e8d6cc;\n            color:  #000000;\n        }#T_944fa8e5_4219_11eb_b865_b0360e9c9af9row12_col5,#T_944fa8e5_4219_11eb_b865_b0360e9c9af9row12_col7{\n            background-color:  #6282ea;\n            color:  #000000;\n        }#T_944fa8e5_4219_11eb_b865_b0360e9c9af9row12_col11{\n            background-color:  #dcdddd;\n            color:  #000000;\n        }</style><table id=\"T_944fa8e5_4219_11eb_b865_b0360e9c9af9\" ><thead>    <tr>        <th class=\"blank level0\" ></th>        <th class=\"col_heading level0 col0\" >Annual Income</th>        <th class=\"col_heading level0 col1\" >Tax Liens</th>        <th class=\"col_heading level0 col2\" >Number of Open Accounts</th>        <th class=\"col_heading level0 col3\" >Years of Credit History</th>        <th class=\"col_heading level0 col4\" >Maximum Open Credit</th>        <th class=\"col_heading level0 col5\" >Number of Credit Problems</th>        <th class=\"col_heading level0 col6\" >Months since last delinquent</th>        <th class=\"col_heading level0 col7\" >Bankruptcies</th>        <th class=\"col_heading level0 col8\" >Current Loan Amount</th>        <th class=\"col_heading level0 col9\" >Current Credit Balance</th>        <th class=\"col_heading level0 col10\" >Monthly Debt</th>        <th class=\"col_heading level0 col11\" >Credit Score</th>        <th class=\"col_heading level0 col12\" >Credit Default</th>    </tr></thead><tbody>\n                <tr>\n                        <th id=\"T_944fa8e5_4219_11eb_b865_b0360e9c9af9level0_row0\" class=\"row_heading level0 row0\" >Annual Income</th>\n                        <td id=\"T_944fa8e5_4219_11eb_b865_b0360e9c9af9row0_col0\" class=\"data row0 col0\" >1.00</td>\n                        <td id=\"T_944fa8e5_4219_11eb_b865_b0360e9c9af9row0_col1\" class=\"data row0 col1\" >0.07</td>\n                        <td id=\"T_944fa8e5_4219_11eb_b865_b0360e9c9af9row0_col2\" class=\"data row0 col2\" >0.19</td>\n                        <td id=\"T_944fa8e5_4219_11eb_b865_b0360e9c9af9row0_col3\" class=\"data row0 col3\" >0.19</td>\n                        <td id=\"T_944fa8e5_4219_11eb_b865_b0360e9c9af9row0_col4\" class=\"data row0 col4\" >0.06</td>\n                        <td id=\"T_944fa8e5_4219_11eb_b865_b0360e9c9af9row0_col5\" class=\"data row0 col5\" >-0.02</td>\n                        <td id=\"T_944fa8e5_4219_11eb_b865_b0360e9c9af9row0_col6\" class=\"data row0 col6\" >-0.10</td>\n                        <td id=\"T_944fa8e5_4219_11eb_b865_b0360e9c9af9row0_col7\" class=\"data row0 col7\" >-0.07</td>\n                        <td id=\"T_944fa8e5_4219_11eb_b865_b0360e9c9af9row0_col8\" class=\"data row0 col8\" >0.03</td>\n                        <td id=\"T_944fa8e5_4219_11eb_b865_b0360e9c9af9row0_col9\" class=\"data row0 col9\" >0.39</td>\n                        <td id=\"T_944fa8e5_4219_11eb_b865_b0360e9c9af9row0_col10\" class=\"data row0 col10\" >0.58</td>\n                        <td id=\"T_944fa8e5_4219_11eb_b865_b0360e9c9af9row0_col11\" class=\"data row0 col11\" >-0.04</td>\n                        <td id=\"T_944fa8e5_4219_11eb_b865_b0360e9c9af9row0_col12\" class=\"data row0 col12\" >-0.10</td>\n            </tr>\n            <tr>\n                        <th id=\"T_944fa8e5_4219_11eb_b865_b0360e9c9af9level0_row1\" class=\"row_heading level0 row1\" >Tax Liens</th>\n                        <td id=\"T_944fa8e5_4219_11eb_b865_b0360e9c9af9row1_col0\" class=\"data row1 col0\" >0.07</td>\n                        <td id=\"T_944fa8e5_4219_11eb_b865_b0360e9c9af9row1_col1\" class=\"data row1 col1\" >1.00</td>\n                        <td id=\"T_944fa8e5_4219_11eb_b865_b0360e9c9af9row1_col2\" class=\"data row1 col2\" >-0.01</td>\n                        <td id=\"T_944fa8e5_4219_11eb_b865_b0360e9c9af9row1_col3\" class=\"data row1 col3\" >0.01</td>\n                        <td id=\"T_944fa8e5_4219_11eb_b865_b0360e9c9af9row1_col4\" class=\"data row1 col4\" >-0.00</td>\n                        <td id=\"T_944fa8e5_4219_11eb_b865_b0360e9c9af9row1_col5\" class=\"data row1 col5\" >0.60</td>\n                        <td id=\"T_944fa8e5_4219_11eb_b865_b0360e9c9af9row1_col6\" class=\"data row1 col6\" >0.05</td>\n                        <td id=\"T_944fa8e5_4219_11eb_b865_b0360e9c9af9row1_col7\" class=\"data row1 col7\" >0.06</td>\n                        <td id=\"T_944fa8e5_4219_11eb_b865_b0360e9c9af9row1_col8\" class=\"data row1 col8\" >-0.01</td>\n                        <td id=\"T_944fa8e5_4219_11eb_b865_b0360e9c9af9row1_col9\" class=\"data row1 col9\" >-0.01</td>\n                        <td id=\"T_944fa8e5_4219_11eb_b865_b0360e9c9af9row1_col10\" class=\"data row1 col10\" >0.03</td>\n                        <td id=\"T_944fa8e5_4219_11eb_b865_b0360e9c9af9row1_col11\" class=\"data row1 col11\" >0.01</td>\n                        <td id=\"T_944fa8e5_4219_11eb_b865_b0360e9c9af9row1_col12\" class=\"data row1 col12\" >0.02</td>\n            </tr>\n            <tr>\n                        <th id=\"T_944fa8e5_4219_11eb_b865_b0360e9c9af9level0_row2\" class=\"row_heading level0 row2\" >Number of Open Accounts</th>\n                        <td id=\"T_944fa8e5_4219_11eb_b865_b0360e9c9af9row2_col0\" class=\"data row2 col0\" >0.19</td>\n                        <td id=\"T_944fa8e5_4219_11eb_b865_b0360e9c9af9row2_col1\" class=\"data row2 col1\" >-0.01</td>\n                        <td id=\"T_944fa8e5_4219_11eb_b865_b0360e9c9af9row2_col2\" class=\"data row2 col2\" >1.00</td>\n                        <td id=\"T_944fa8e5_4219_11eb_b865_b0360e9c9af9row2_col3\" class=\"data row2 col3\" >0.14</td>\n                        <td id=\"T_944fa8e5_4219_11eb_b865_b0360e9c9af9row2_col4\" class=\"data row2 col4\" >0.02</td>\n                        <td id=\"T_944fa8e5_4219_11eb_b865_b0360e9c9af9row2_col5\" class=\"data row2 col5\" >-0.02</td>\n                        <td id=\"T_944fa8e5_4219_11eb_b865_b0360e9c9af9row2_col6\" class=\"data row2 col6\" >-0.03</td>\n                        <td id=\"T_944fa8e5_4219_11eb_b865_b0360e9c9af9row2_col7\" class=\"data row2 col7\" >-0.02</td>\n                        <td id=\"T_944fa8e5_4219_11eb_b865_b0360e9c9af9row2_col8\" class=\"data row2 col8\" >0.00</td>\n                        <td id=\"T_944fa8e5_4219_11eb_b865_b0360e9c9af9row2_col9\" class=\"data row2 col9\" >0.27</td>\n                        <td id=\"T_944fa8e5_4219_11eb_b865_b0360e9c9af9row2_col10\" class=\"data row2 col10\" >0.41</td>\n                        <td id=\"T_944fa8e5_4219_11eb_b865_b0360e9c9af9row2_col11\" class=\"data row2 col11\" >0.02</td>\n                        <td id=\"T_944fa8e5_4219_11eb_b865_b0360e9c9af9row2_col12\" class=\"data row2 col12\" >0.03</td>\n            </tr>\n            <tr>\n                        <th id=\"T_944fa8e5_4219_11eb_b865_b0360e9c9af9level0_row3\" class=\"row_heading level0 row3\" >Years of Credit History</th>\n                        <td id=\"T_944fa8e5_4219_11eb_b865_b0360e9c9af9row3_col0\" class=\"data row3 col0\" >0.19</td>\n                        <td id=\"T_944fa8e5_4219_11eb_b865_b0360e9c9af9row3_col1\" class=\"data row3 col1\" >0.01</td>\n                        <td id=\"T_944fa8e5_4219_11eb_b865_b0360e9c9af9row3_col2\" class=\"data row3 col2\" >0.14</td>\n                        <td id=\"T_944fa8e5_4219_11eb_b865_b0360e9c9af9row3_col3\" class=\"data row3 col3\" >1.00</td>\n                        <td id=\"T_944fa8e5_4219_11eb_b865_b0360e9c9af9row3_col4\" class=\"data row3 col4\" >0.03</td>\n                        <td id=\"T_944fa8e5_4219_11eb_b865_b0360e9c9af9row3_col5\" class=\"data row3 col5\" >0.07</td>\n                        <td id=\"T_944fa8e5_4219_11eb_b865_b0360e9c9af9row3_col6\" class=\"data row3 col6\" >-0.02</td>\n                        <td id=\"T_944fa8e5_4219_11eb_b865_b0360e9c9af9row3_col7\" class=\"data row3 col7\" >0.09</td>\n                        <td id=\"T_944fa8e5_4219_11eb_b865_b0360e9c9af9row3_col8\" class=\"data row3 col8\" >0.01</td>\n                        <td id=\"T_944fa8e5_4219_11eb_b865_b0360e9c9af9row3_col9\" class=\"data row3 col9\" >0.22</td>\n                        <td id=\"T_944fa8e5_4219_11eb_b865_b0360e9c9af9row3_col10\" class=\"data row3 col10\" >0.19</td>\n                        <td id=\"T_944fa8e5_4219_11eb_b865_b0360e9c9af9row3_col11\" class=\"data row3 col11\" >-0.02</td>\n                        <td id=\"T_944fa8e5_4219_11eb_b865_b0360e9c9af9row3_col12\" class=\"data row3 col12\" >-0.02</td>\n            </tr>\n            <tr>\n                        <th id=\"T_944fa8e5_4219_11eb_b865_b0360e9c9af9level0_row4\" class=\"row_heading level0 row4\" >Maximum Open Credit</th>\n                        <td id=\"T_944fa8e5_4219_11eb_b865_b0360e9c9af9row4_col0\" class=\"data row4 col0\" >0.06</td>\n                        <td id=\"T_944fa8e5_4219_11eb_b865_b0360e9c9af9row4_col1\" class=\"data row4 col1\" >-0.00</td>\n                        <td id=\"T_944fa8e5_4219_11eb_b865_b0360e9c9af9row4_col2\" class=\"data row4 col2\" >0.02</td>\n                        <td id=\"T_944fa8e5_4219_11eb_b865_b0360e9c9af9row4_col3\" class=\"data row4 col3\" >0.03</td>\n                        <td id=\"T_944fa8e5_4219_11eb_b865_b0360e9c9af9row4_col4\" class=\"data row4 col4\" >1.00</td>\n                        <td id=\"T_944fa8e5_4219_11eb_b865_b0360e9c9af9row4_col5\" class=\"data row4 col5\" >-0.00</td>\n                        <td id=\"T_944fa8e5_4219_11eb_b865_b0360e9c9af9row4_col6\" class=\"data row4 col6\" >-0.00</td>\n                        <td id=\"T_944fa8e5_4219_11eb_b865_b0360e9c9af9row4_col7\" class=\"data row4 col7\" >-0.01</td>\n                        <td id=\"T_944fa8e5_4219_11eb_b865_b0360e9c9af9row4_col8\" class=\"data row4 col8\" >-0.00</td>\n                        <td id=\"T_944fa8e5_4219_11eb_b865_b0360e9c9af9row4_col9\" class=\"data row4 col9\" >0.09</td>\n                        <td id=\"T_944fa8e5_4219_11eb_b865_b0360e9c9af9row4_col10\" class=\"data row4 col10\" >0.01</td>\n                        <td id=\"T_944fa8e5_4219_11eb_b865_b0360e9c9af9row4_col11\" class=\"data row4 col11\" >-0.01</td>\n                        <td id=\"T_944fa8e5_4219_11eb_b865_b0360e9c9af9row4_col12\" class=\"data row4 col12\" >-0.01</td>\n            </tr>\n            <tr>\n                        <th id=\"T_944fa8e5_4219_11eb_b865_b0360e9c9af9level0_row5\" class=\"row_heading level0 row5\" >Number of Credit Problems</th>\n                        <td id=\"T_944fa8e5_4219_11eb_b865_b0360e9c9af9row5_col0\" class=\"data row5 col0\" >-0.02</td>\n                        <td id=\"T_944fa8e5_4219_11eb_b865_b0360e9c9af9row5_col1\" class=\"data row5 col1\" >0.60</td>\n                        <td id=\"T_944fa8e5_4219_11eb_b865_b0360e9c9af9row5_col2\" class=\"data row5 col2\" >-0.02</td>\n                        <td id=\"T_944fa8e5_4219_11eb_b865_b0360e9c9af9row5_col3\" class=\"data row5 col3\" >0.07</td>\n                        <td id=\"T_944fa8e5_4219_11eb_b865_b0360e9c9af9row5_col4\" class=\"data row5 col4\" >-0.00</td>\n                        <td id=\"T_944fa8e5_4219_11eb_b865_b0360e9c9af9row5_col5\" class=\"data row5 col5\" >1.00</td>\n                        <td id=\"T_944fa8e5_4219_11eb_b865_b0360e9c9af9row5_col6\" class=\"data row5 col6\" >0.14</td>\n                        <td id=\"T_944fa8e5_4219_11eb_b865_b0360e9c9af9row5_col7\" class=\"data row5 col7\" >0.73</td>\n                        <td id=\"T_944fa8e5_4219_11eb_b865_b0360e9c9af9row5_col8\" class=\"data row5 col8\" >-0.01</td>\n                        <td id=\"T_944fa8e5_4219_11eb_b865_b0360e9c9af9row5_col9\" class=\"data row5 col9\" >-0.12</td>\n                        <td id=\"T_944fa8e5_4219_11eb_b865_b0360e9c9af9row5_col10\" class=\"data row5 col10\" >-0.04</td>\n                        <td id=\"T_944fa8e5_4219_11eb_b865_b0360e9c9af9row5_col11\" class=\"data row5 col11\" >-0.02</td>\n                        <td id=\"T_944fa8e5_4219_11eb_b865_b0360e9c9af9row5_col12\" class=\"data row5 col12\" >0.02</td>\n            </tr>\n            <tr>\n                        <th id=\"T_944fa8e5_4219_11eb_b865_b0360e9c9af9level0_row6\" class=\"row_heading level0 row6\" >Months since last delinquent</th>\n                        <td id=\"T_944fa8e5_4219_11eb_b865_b0360e9c9af9row6_col0\" class=\"data row6 col0\" >-0.10</td>\n                        <td id=\"T_944fa8e5_4219_11eb_b865_b0360e9c9af9row6_col1\" class=\"data row6 col1\" >0.05</td>\n                        <td id=\"T_944fa8e5_4219_11eb_b865_b0360e9c9af9row6_col2\" class=\"data row6 col2\" >-0.03</td>\n                        <td id=\"T_944fa8e5_4219_11eb_b865_b0360e9c9af9row6_col3\" class=\"data row6 col3\" >-0.02</td>\n                        <td id=\"T_944fa8e5_4219_11eb_b865_b0360e9c9af9row6_col4\" class=\"data row6 col4\" >-0.00</td>\n                        <td id=\"T_944fa8e5_4219_11eb_b865_b0360e9c9af9row6_col5\" class=\"data row6 col5\" >0.14</td>\n                        <td id=\"T_944fa8e5_4219_11eb_b865_b0360e9c9af9row6_col6\" class=\"data row6 col6\" >1.00</td>\n                        <td id=\"T_944fa8e5_4219_11eb_b865_b0360e9c9af9row6_col7\" class=\"data row6 col7\" >0.16</td>\n                        <td id=\"T_944fa8e5_4219_11eb_b865_b0360e9c9af9row6_col8\" class=\"data row6 col8\" >0.00</td>\n                        <td id=\"T_944fa8e5_4219_11eb_b865_b0360e9c9af9row6_col9\" class=\"data row6 col9\" >-0.03</td>\n                        <td id=\"T_944fa8e5_4219_11eb_b865_b0360e9c9af9row6_col10\" class=\"data row6 col10\" >-0.06</td>\n                        <td id=\"T_944fa8e5_4219_11eb_b865_b0360e9c9af9row6_col11\" class=\"data row6 col11\" >-0.00</td>\n                        <td id=\"T_944fa8e5_4219_11eb_b865_b0360e9c9af9row6_col12\" class=\"data row6 col12\" >0.00</td>\n            </tr>\n            <tr>\n                        <th id=\"T_944fa8e5_4219_11eb_b865_b0360e9c9af9level0_row7\" class=\"row_heading level0 row7\" >Bankruptcies</th>\n                        <td id=\"T_944fa8e5_4219_11eb_b865_b0360e9c9af9row7_col0\" class=\"data row7 col0\" >-0.07</td>\n                        <td id=\"T_944fa8e5_4219_11eb_b865_b0360e9c9af9row7_col1\" class=\"data row7 col1\" >0.06</td>\n                        <td id=\"T_944fa8e5_4219_11eb_b865_b0360e9c9af9row7_col2\" class=\"data row7 col2\" >-0.02</td>\n                        <td id=\"T_944fa8e5_4219_11eb_b865_b0360e9c9af9row7_col3\" class=\"data row7 col3\" >0.09</td>\n                        <td id=\"T_944fa8e5_4219_11eb_b865_b0360e9c9af9row7_col4\" class=\"data row7 col4\" >-0.01</td>\n                        <td id=\"T_944fa8e5_4219_11eb_b865_b0360e9c9af9row7_col5\" class=\"data row7 col5\" >0.73</td>\n                        <td id=\"T_944fa8e5_4219_11eb_b865_b0360e9c9af9row7_col6\" class=\"data row7 col6\" >0.16</td>\n                        <td id=\"T_944fa8e5_4219_11eb_b865_b0360e9c9af9row7_col7\" class=\"data row7 col7\" >1.00</td>\n                        <td id=\"T_944fa8e5_4219_11eb_b865_b0360e9c9af9row7_col8\" class=\"data row7 col8\" >-0.01</td>\n                        <td id=\"T_944fa8e5_4219_11eb_b865_b0360e9c9af9row7_col9\" class=\"data row7 col9\" >-0.14</td>\n                        <td id=\"T_944fa8e5_4219_11eb_b865_b0360e9c9af9row7_col10\" class=\"data row7 col10\" >-0.08</td>\n                        <td id=\"T_944fa8e5_4219_11eb_b865_b0360e9c9af9row7_col11\" class=\"data row7 col11\" >-0.03</td>\n                        <td id=\"T_944fa8e5_4219_11eb_b865_b0360e9c9af9row7_col12\" class=\"data row7 col12\" >0.00</td>\n            </tr>\n            <tr>\n                        <th id=\"T_944fa8e5_4219_11eb_b865_b0360e9c9af9level0_row8\" class=\"row_heading level0 row8\" >Current Loan Amount</th>\n                        <td id=\"T_944fa8e5_4219_11eb_b865_b0360e9c9af9row8_col0\" class=\"data row8 col0\" >0.03</td>\n                        <td id=\"T_944fa8e5_4219_11eb_b865_b0360e9c9af9row8_col1\" class=\"data row8 col1\" >-0.01</td>\n                        <td id=\"T_944fa8e5_4219_11eb_b865_b0360e9c9af9row8_col2\" class=\"data row8 col2\" >0.00</td>\n                        <td id=\"T_944fa8e5_4219_11eb_b865_b0360e9c9af9row8_col3\" class=\"data row8 col3\" >0.01</td>\n                        <td id=\"T_944fa8e5_4219_11eb_b865_b0360e9c9af9row8_col4\" class=\"data row8 col4\" >-0.00</td>\n                        <td id=\"T_944fa8e5_4219_11eb_b865_b0360e9c9af9row8_col5\" class=\"data row8 col5\" >-0.01</td>\n                        <td id=\"T_944fa8e5_4219_11eb_b865_b0360e9c9af9row8_col6\" class=\"data row8 col6\" >0.00</td>\n                        <td id=\"T_944fa8e5_4219_11eb_b865_b0360e9c9af9row8_col7\" class=\"data row8 col7\" >-0.01</td>\n                        <td id=\"T_944fa8e5_4219_11eb_b865_b0360e9c9af9row8_col8\" class=\"data row8 col8\" >1.00</td>\n                        <td id=\"T_944fa8e5_4219_11eb_b865_b0360e9c9af9row8_col9\" class=\"data row8 col9\" >0.02</td>\n                        <td id=\"T_944fa8e5_4219_11eb_b865_b0360e9c9af9row8_col10\" class=\"data row8 col10\" >-0.01</td>\n                        <td id=\"T_944fa8e5_4219_11eb_b865_b0360e9c9af9row8_col11\" class=\"data row8 col11\" >-0.11</td>\n                        <td id=\"T_944fa8e5_4219_11eb_b865_b0360e9c9af9row8_col12\" class=\"data row8 col12\" >-0.23</td>\n            </tr>\n            <tr>\n                        <th id=\"T_944fa8e5_4219_11eb_b865_b0360e9c9af9level0_row9\" class=\"row_heading level0 row9\" >Current Credit Balance</th>\n                        <td id=\"T_944fa8e5_4219_11eb_b865_b0360e9c9af9row9_col0\" class=\"data row9 col0\" >0.39</td>\n                        <td id=\"T_944fa8e5_4219_11eb_b865_b0360e9c9af9row9_col1\" class=\"data row9 col1\" >-0.01</td>\n                        <td id=\"T_944fa8e5_4219_11eb_b865_b0360e9c9af9row9_col2\" class=\"data row9 col2\" >0.27</td>\n                        <td id=\"T_944fa8e5_4219_11eb_b865_b0360e9c9af9row9_col3\" class=\"data row9 col3\" >0.22</td>\n                        <td id=\"T_944fa8e5_4219_11eb_b865_b0360e9c9af9row9_col4\" class=\"data row9 col4\" >0.09</td>\n                        <td id=\"T_944fa8e5_4219_11eb_b865_b0360e9c9af9row9_col5\" class=\"data row9 col5\" >-0.12</td>\n                        <td id=\"T_944fa8e5_4219_11eb_b865_b0360e9c9af9row9_col6\" class=\"data row9 col6\" >-0.03</td>\n                        <td id=\"T_944fa8e5_4219_11eb_b865_b0360e9c9af9row9_col7\" class=\"data row9 col7\" >-0.14</td>\n                        <td id=\"T_944fa8e5_4219_11eb_b865_b0360e9c9af9row9_col8\" class=\"data row9 col8\" >0.02</td>\n                        <td id=\"T_944fa8e5_4219_11eb_b865_b0360e9c9af9row9_col9\" class=\"data row9 col9\" >1.00</td>\n                        <td id=\"T_944fa8e5_4219_11eb_b865_b0360e9c9af9row9_col10\" class=\"data row9 col10\" >0.50</td>\n                        <td id=\"T_944fa8e5_4219_11eb_b865_b0360e9c9af9row9_col11\" class=\"data row9 col11\" >-0.01</td>\n                        <td id=\"T_944fa8e5_4219_11eb_b865_b0360e9c9af9row9_col12\" class=\"data row9 col12\" >-0.02</td>\n            </tr>\n            <tr>\n                        <th id=\"T_944fa8e5_4219_11eb_b865_b0360e9c9af9level0_row10\" class=\"row_heading level0 row10\" >Monthly Debt</th>\n                        <td id=\"T_944fa8e5_4219_11eb_b865_b0360e9c9af9row10_col0\" class=\"data row10 col0\" >0.58</td>\n                        <td id=\"T_944fa8e5_4219_11eb_b865_b0360e9c9af9row10_col1\" class=\"data row10 col1\" >0.03</td>\n                        <td id=\"T_944fa8e5_4219_11eb_b865_b0360e9c9af9row10_col2\" class=\"data row10 col2\" >0.41</td>\n                        <td id=\"T_944fa8e5_4219_11eb_b865_b0360e9c9af9row10_col3\" class=\"data row10 col3\" >0.19</td>\n                        <td id=\"T_944fa8e5_4219_11eb_b865_b0360e9c9af9row10_col4\" class=\"data row10 col4\" >0.01</td>\n                        <td id=\"T_944fa8e5_4219_11eb_b865_b0360e9c9af9row10_col5\" class=\"data row10 col5\" >-0.04</td>\n                        <td id=\"T_944fa8e5_4219_11eb_b865_b0360e9c9af9row10_col6\" class=\"data row10 col6\" >-0.06</td>\n                        <td id=\"T_944fa8e5_4219_11eb_b865_b0360e9c9af9row10_col7\" class=\"data row10 col7\" >-0.08</td>\n                        <td id=\"T_944fa8e5_4219_11eb_b865_b0360e9c9af9row10_col8\" class=\"data row10 col8\" >-0.01</td>\n                        <td id=\"T_944fa8e5_4219_11eb_b865_b0360e9c9af9row10_col9\" class=\"data row10 col9\" >0.50</td>\n                        <td id=\"T_944fa8e5_4219_11eb_b865_b0360e9c9af9row10_col10\" class=\"data row10 col10\" >1.00</td>\n                        <td id=\"T_944fa8e5_4219_11eb_b865_b0360e9c9af9row10_col11\" class=\"data row10 col11\" >0.00</td>\n                        <td id=\"T_944fa8e5_4219_11eb_b865_b0360e9c9af9row10_col12\" class=\"data row10 col12\" >0.02</td>\n            </tr>\n            <tr>\n                        <th id=\"T_944fa8e5_4219_11eb_b865_b0360e9c9af9level0_row11\" class=\"row_heading level0 row11\" >Credit Score</th>\n                        <td id=\"T_944fa8e5_4219_11eb_b865_b0360e9c9af9row11_col0\" class=\"data row11 col0\" >-0.04</td>\n                        <td id=\"T_944fa8e5_4219_11eb_b865_b0360e9c9af9row11_col1\" class=\"data row11 col1\" >0.01</td>\n                        <td id=\"T_944fa8e5_4219_11eb_b865_b0360e9c9af9row11_col2\" class=\"data row11 col2\" >0.02</td>\n                        <td id=\"T_944fa8e5_4219_11eb_b865_b0360e9c9af9row11_col3\" class=\"data row11 col3\" >-0.02</td>\n                        <td id=\"T_944fa8e5_4219_11eb_b865_b0360e9c9af9row11_col4\" class=\"data row11 col4\" >-0.01</td>\n                        <td id=\"T_944fa8e5_4219_11eb_b865_b0360e9c9af9row11_col5\" class=\"data row11 col5\" >-0.02</td>\n                        <td id=\"T_944fa8e5_4219_11eb_b865_b0360e9c9af9row11_col6\" class=\"data row11 col6\" >-0.00</td>\n                        <td id=\"T_944fa8e5_4219_11eb_b865_b0360e9c9af9row11_col7\" class=\"data row11 col7\" >-0.03</td>\n                        <td id=\"T_944fa8e5_4219_11eb_b865_b0360e9c9af9row11_col8\" class=\"data row11 col8\" >-0.11</td>\n                        <td id=\"T_944fa8e5_4219_11eb_b865_b0360e9c9af9row11_col9\" class=\"data row11 col9\" >-0.01</td>\n                        <td id=\"T_944fa8e5_4219_11eb_b865_b0360e9c9af9row11_col10\" class=\"data row11 col10\" >0.00</td>\n                        <td id=\"T_944fa8e5_4219_11eb_b865_b0360e9c9af9row11_col11\" class=\"data row11 col11\" >1.00</td>\n                        <td id=\"T_944fa8e5_4219_11eb_b865_b0360e9c9af9row11_col12\" class=\"data row11 col12\" >0.44</td>\n            </tr>\n            <tr>\n                        <th id=\"T_944fa8e5_4219_11eb_b865_b0360e9c9af9level0_row12\" class=\"row_heading level0 row12\" >Credit Default</th>\n                        <td id=\"T_944fa8e5_4219_11eb_b865_b0360e9c9af9row12_col0\" class=\"data row12 col0\" >-0.10</td>\n                        <td id=\"T_944fa8e5_4219_11eb_b865_b0360e9c9af9row12_col1\" class=\"data row12 col1\" >0.02</td>\n                        <td id=\"T_944fa8e5_4219_11eb_b865_b0360e9c9af9row12_col2\" class=\"data row12 col2\" >0.03</td>\n                        <td id=\"T_944fa8e5_4219_11eb_b865_b0360e9c9af9row12_col3\" class=\"data row12 col3\" >-0.02</td>\n                        <td id=\"T_944fa8e5_4219_11eb_b865_b0360e9c9af9row12_col4\" class=\"data row12 col4\" >-0.01</td>\n                        <td id=\"T_944fa8e5_4219_11eb_b865_b0360e9c9af9row12_col5\" class=\"data row12 col5\" >0.02</td>\n                        <td id=\"T_944fa8e5_4219_11eb_b865_b0360e9c9af9row12_col6\" class=\"data row12 col6\" >0.00</td>\n                        <td id=\"T_944fa8e5_4219_11eb_b865_b0360e9c9af9row12_col7\" class=\"data row12 col7\" >0.00</td>\n                        <td id=\"T_944fa8e5_4219_11eb_b865_b0360e9c9af9row12_col8\" class=\"data row12 col8\" >-0.23</td>\n                        <td id=\"T_944fa8e5_4219_11eb_b865_b0360e9c9af9row12_col9\" class=\"data row12 col9\" >-0.02</td>\n                        <td id=\"T_944fa8e5_4219_11eb_b865_b0360e9c9af9row12_col10\" class=\"data row12 col10\" >0.02</td>\n                        <td id=\"T_944fa8e5_4219_11eb_b865_b0360e9c9af9row12_col11\" class=\"data row12 col11\" >0.44</td>\n                        <td id=\"T_944fa8e5_4219_11eb_b865_b0360e9c9af9row12_col12\" class=\"data row12 col12\" >1.00</td>\n            </tr>\n    </tbody></table>"
     },
     "metadata": {},
     "execution_count": 5
    }
   ],
   "source": [
    "df_train.corr().style.background_gradient(cmap='coolwarm').set_precision(2)"
   ]
  },
  {
   "cell_type": "code",
   "execution_count": 6,
   "metadata": {},
   "outputs": [
    {
     "output_type": "execute_result",
     "data": {
      "text/plain": [
       "       Annual Income  Tax Liens  Number of Open Accounts  \\\n",
       "count       5,943.00   7,500.00                 7,500.00   \n",
       "mean    1,366,391.72       0.03                    11.13   \n",
       "std       845,339.20       0.27                     4.91   \n",
       "min       164,597.00       0.00                     2.00   \n",
       "25%       844,341.00       0.00                     8.00   \n",
       "50%     1,168,386.00       0.00                    10.00   \n",
       "75%     1,640,137.00       0.00                    14.00   \n",
       "max    10,149,344.00       7.00                    43.00   \n",
       "\n",
       "       Years of Credit History  Maximum Open Credit  \\\n",
       "count                 7,500.00             7,500.00   \n",
       "mean                     18.32           945,153.73   \n",
       "std                       7.04        16,026,216.67   \n",
       "min                       4.00                 0.00   \n",
       "25%                      13.50           279,229.50   \n",
       "50%                      17.00           478,159.00   \n",
       "75%                      21.80           793,501.50   \n",
       "max                      57.70     1,304,726,170.00   \n",
       "\n",
       "       Number of Credit Problems  Months since last delinquent  Bankruptcies  \\\n",
       "count                   7,500.00                      3,419.00      7,486.00   \n",
       "mean                        0.17                         34.69          0.12   \n",
       "std                         0.50                         21.69          0.35   \n",
       "min                         0.00                          0.00          0.00   \n",
       "25%                         0.00                         16.00          0.00   \n",
       "50%                         0.00                         32.00          0.00   \n",
       "75%                         0.00                         50.00          0.00   \n",
       "max                         7.00                        118.00          4.00   \n",
       "\n",
       "       Current Loan Amount  Current Credit Balance  Monthly Debt  \\\n",
       "count             7,500.00                7,500.00      7,500.00   \n",
       "mean         11,873,177.45              289,833.24     18,314.45   \n",
       "std          31,926,122.97              317,871.38     11,926.76   \n",
       "min              11,242.00                    0.00          0.00   \n",
       "25%             180,169.00              114,256.50     10,067.50   \n",
       "50%             309,573.00              209,323.00     16,076.50   \n",
       "75%             519,882.00              360,406.25     23,818.00   \n",
       "max          99,999,999.00            6,506,797.00    136,679.00   \n",
       "\n",
       "       Credit Score  Credit Default  \n",
       "count      5,943.00        7,500.00  \n",
       "mean       1,151.09            0.28  \n",
       "std        1,604.45            0.45  \n",
       "min          585.00            0.00  \n",
       "25%          711.00            0.00  \n",
       "50%          731.00            0.00  \n",
       "75%          743.00            1.00  \n",
       "max        7,510.00            1.00  "
      ],
      "text/html": "<div>\n<style scoped>\n    .dataframe tbody tr th:only-of-type {\n        vertical-align: middle;\n    }\n\n    .dataframe tbody tr th {\n        vertical-align: top;\n    }\n\n    .dataframe thead th {\n        text-align: right;\n    }\n</style>\n<table border=\"1\" class=\"dataframe\">\n  <thead>\n    <tr style=\"text-align: right;\">\n      <th></th>\n      <th>Annual Income</th>\n      <th>Tax Liens</th>\n      <th>Number of Open Accounts</th>\n      <th>Years of Credit History</th>\n      <th>Maximum Open Credit</th>\n      <th>Number of Credit Problems</th>\n      <th>Months since last delinquent</th>\n      <th>Bankruptcies</th>\n      <th>Current Loan Amount</th>\n      <th>Current Credit Balance</th>\n      <th>Monthly Debt</th>\n      <th>Credit Score</th>\n      <th>Credit Default</th>\n    </tr>\n  </thead>\n  <tbody>\n    <tr>\n      <th>count</th>\n      <td>5,943.00</td>\n      <td>7,500.00</td>\n      <td>7,500.00</td>\n      <td>7,500.00</td>\n      <td>7,500.00</td>\n      <td>7,500.00</td>\n      <td>3,419.00</td>\n      <td>7,486.00</td>\n      <td>7,500.00</td>\n      <td>7,500.00</td>\n      <td>7,500.00</td>\n      <td>5,943.00</td>\n      <td>7,500.00</td>\n    </tr>\n    <tr>\n      <th>mean</th>\n      <td>1,366,391.72</td>\n      <td>0.03</td>\n      <td>11.13</td>\n      <td>18.32</td>\n      <td>945,153.73</td>\n      <td>0.17</td>\n      <td>34.69</td>\n      <td>0.12</td>\n      <td>11,873,177.45</td>\n      <td>289,833.24</td>\n      <td>18,314.45</td>\n      <td>1,151.09</td>\n      <td>0.28</td>\n    </tr>\n    <tr>\n      <th>std</th>\n      <td>845,339.20</td>\n      <td>0.27</td>\n      <td>4.91</td>\n      <td>7.04</td>\n      <td>16,026,216.67</td>\n      <td>0.50</td>\n      <td>21.69</td>\n      <td>0.35</td>\n      <td>31,926,122.97</td>\n      <td>317,871.38</td>\n      <td>11,926.76</td>\n      <td>1,604.45</td>\n      <td>0.45</td>\n    </tr>\n    <tr>\n      <th>min</th>\n      <td>164,597.00</td>\n      <td>0.00</td>\n      <td>2.00</td>\n      <td>4.00</td>\n      <td>0.00</td>\n      <td>0.00</td>\n      <td>0.00</td>\n      <td>0.00</td>\n      <td>11,242.00</td>\n      <td>0.00</td>\n      <td>0.00</td>\n      <td>585.00</td>\n      <td>0.00</td>\n    </tr>\n    <tr>\n      <th>25%</th>\n      <td>844,341.00</td>\n      <td>0.00</td>\n      <td>8.00</td>\n      <td>13.50</td>\n      <td>279,229.50</td>\n      <td>0.00</td>\n      <td>16.00</td>\n      <td>0.00</td>\n      <td>180,169.00</td>\n      <td>114,256.50</td>\n      <td>10,067.50</td>\n      <td>711.00</td>\n      <td>0.00</td>\n    </tr>\n    <tr>\n      <th>50%</th>\n      <td>1,168,386.00</td>\n      <td>0.00</td>\n      <td>10.00</td>\n      <td>17.00</td>\n      <td>478,159.00</td>\n      <td>0.00</td>\n      <td>32.00</td>\n      <td>0.00</td>\n      <td>309,573.00</td>\n      <td>209,323.00</td>\n      <td>16,076.50</td>\n      <td>731.00</td>\n      <td>0.00</td>\n    </tr>\n    <tr>\n      <th>75%</th>\n      <td>1,640,137.00</td>\n      <td>0.00</td>\n      <td>14.00</td>\n      <td>21.80</td>\n      <td>793,501.50</td>\n      <td>0.00</td>\n      <td>50.00</td>\n      <td>0.00</td>\n      <td>519,882.00</td>\n      <td>360,406.25</td>\n      <td>23,818.00</td>\n      <td>743.00</td>\n      <td>1.00</td>\n    </tr>\n    <tr>\n      <th>max</th>\n      <td>10,149,344.00</td>\n      <td>7.00</td>\n      <td>43.00</td>\n      <td>57.70</td>\n      <td>1,304,726,170.00</td>\n      <td>7.00</td>\n      <td>118.00</td>\n      <td>4.00</td>\n      <td>99,999,999.00</td>\n      <td>6,506,797.00</td>\n      <td>136,679.00</td>\n      <td>7,510.00</td>\n      <td>1.00</td>\n    </tr>\n  </tbody>\n</table>\n</div>"
     },
     "metadata": {},
     "execution_count": 6
    }
   ],
   "source": [
    "df_train.describe()"
   ]
  },
  {
   "cell_type": "code",
   "execution_count": 7,
   "metadata": {},
   "outputs": [
    {
     "output_type": "stream",
     "name": "stdout",
     "text": [
      "Home Ownership\n\nHome Mortgage    3637\nRent             3204\nOwn Home          647\nHave Mortgage      12\nName: Home Ownership, dtype: int64\n****************************************************************************************************\n\nYears in current job\n\n10+ years    2332\n2 years       705\n3 years       620\n< 1 year      563\n5 years       516\n1 year        504\n4 years       469\n6 years       426\n7 years       396\n8 years       339\n9 years       259\nName: Years in current job, dtype: int64\n****************************************************************************************************\n\nPurpose\n\ndebt consolidation      5944\nother                    665\nhome improvements        412\nbusiness loan            129\nbuy a car                 96\nmedical bills             71\nmajor purchase            40\ntake a trip               37\nbuy house                 34\nsmall business            26\nwedding                   15\nmoving                    11\neducational expenses      10\nvacation                   8\nrenewable energy           2\nName: Purpose, dtype: int64\n****************************************************************************************************\n\nTerm\n\nShort Term    5556\nLong Term     1944\nName: Term, dtype: int64\n****************************************************************************************************\n\n"
     ]
    }
   ],
   "source": [
    "mlhp.get_object_value_counts(df_train)"
   ]
  },
  {
   "cell_type": "code",
   "execution_count": 8,
   "metadata": {},
   "outputs": [
    {
     "output_type": "stream",
     "name": "stdout",
     "text": [
      "<class 'pandas.core.frame.DataFrame'>\nRangeIndex: 7500 entries, 0 to 7499\nData columns (total 17 columns):\n #   Column                        Non-Null Count  Dtype  \n---  ------                        --------------  -----  \n 0   Home Ownership                7500 non-null   object \n 1   Annual Income                 5943 non-null   float64\n 2   Years in current job          7129 non-null   object \n 3   Tax Liens                     7500 non-null   float64\n 4   Number of Open Accounts       7500 non-null   float64\n 5   Years of Credit History       7500 non-null   float64\n 6   Maximum Open Credit           7500 non-null   float64\n 7   Number of Credit Problems     7500 non-null   float64\n 8   Months since last delinquent  3419 non-null   float64\n 9   Bankruptcies                  7486 non-null   float64\n 10  Purpose                       7500 non-null   object \n 11  Term                          7500 non-null   object \n 12  Current Loan Amount           7500 non-null   float64\n 13  Current Credit Balance        7500 non-null   float64\n 14  Monthly Debt                  7500 non-null   float64\n 15  Credit Score                  5943 non-null   float64\n 16  Credit Default                7500 non-null   int64  \ndtypes: float64(12), int64(1), object(4)\nmemory usage: 879.0+ KB\n"
     ]
    }
   ],
   "source": [
    "df_train.info()"
   ]
  },
  {
   "cell_type": "code",
   "execution_count": 9,
   "metadata": {},
   "outputs": [
    {
     "output_type": "stream",
     "name": "stdout",
     "text": [
      "Home Ownership                  0.00\nAnnual Income                  20.76\nYears in current job            4.95\nTax Liens                       0.00\nNumber of Open Accounts         0.00\nYears of Credit History         0.00\nMaximum Open Credit             0.00\nNumber of Credit Problems       0.00\nMonths since last delinquent   54.41\nBankruptcies                    0.19\nPurpose                         0.00\nTerm                            0.00\nCurrent Loan Amount             0.00\nCurrent Credit Balance          0.00\nMonthly Debt                    0.00\nCredit Score                   20.76\nCredit Default                  0.00\ndtype: float64\n"
     ]
    }
   ],
   "source": [
    "mlhp.get_nan_percent(df_train)"
   ]
  },
  {
   "source": [
    "### После анализа видим:\n",
    "По таблице корриляции видим зависимости целевой переменной с: \n",
    "- Credit Score 0.44\n",
    "- Current Loan Amount -0.23\n",
    "- Annual Income - 0.10\n",
    "\n",
    "Присутствуют пропущеные данные по:\n",
    "- Annual Income\n",
    "- Years in current job\n",
    "- Months since last delinquent \n",
    "- Bankruptcies\n",
    "- Credit Score"
   ],
   "cell_type": "markdown",
   "metadata": {}
  },
  {
   "source": [
    "## Проанализируем тестовый датасет"
   ],
   "cell_type": "markdown",
   "metadata": {}
  },
  {
   "cell_type": "code",
   "execution_count": 10,
   "metadata": {},
   "outputs": [
    {
     "output_type": "stream",
     "name": "stdout",
     "text": [
      "Home Ownership                  0.00\nAnnual Income                  20.52\nYears in current job            3.44\nTax Liens                       0.00\nNumber of Open Accounts         0.00\nYears of Credit History         0.00\nMaximum Open Credit             0.00\nNumber of Credit Problems       0.00\nMonths since last delinquent   54.32\nBankruptcies                    0.12\nPurpose                         0.00\nTerm                            0.00\nCurrent Loan Amount             0.00\nCurrent Credit Balance          0.00\nMonthly Debt                    0.00\nCredit Score                   20.52\ndtype: float64\n"
     ]
    }
   ],
   "source": [
    "mlhp.get_nan_percent(df_test)"
   ]
  },
  {
   "source": [
    "### Построение новых признаков"
   ],
   "cell_type": "markdown",
   "metadata": {}
  },
  {
   "cell_type": "code",
   "execution_count": 11,
   "metadata": {},
   "outputs": [],
   "source": [
    "# mlhp.add_id(df_train)\n",
    "# mlhp.add_id(df_test)"
   ]
  },
  {
   "cell_type": "code",
   "execution_count": 12,
   "metadata": {},
   "outputs": [],
   "source": [
    "def home_ownership_convert(df: pd.DataFrame):\n",
    "    df['Home Ownership'] = df['Home Ownership'].map({'Home Mortgage':'1','Rent':'2','Own Home':'3','Have Mortgage':'4'}).astype(int)\n",
    "        #.astype('category')\n"
   ]
  },
  {
   "cell_type": "code",
   "execution_count": 13,
   "metadata": {},
   "outputs": [],
   "source": [
    "def years_in_current_job_convert(df: pd.DataFrame):\n",
    "    df['Years in current job'] = df['Years in current job'].map({\n",
    "        '10+ years':'1', \n",
    "        '2 years':'2', \n",
    "        '3 years':'3', \n",
    "        '< 1 year':'4', \n",
    "        '5 years':'5', \n",
    "        '1 year':'6', \n",
    "        '4 years':'7', \n",
    "        '6 years':'8', \n",
    "        '7 years':'9', \n",
    "        '8 years':'10', \n",
    "        '9 years':'11' \n",
    "    }).astype(int)\n",
    "        # .astype('category')\n"
   ]
  },
  {
   "cell_type": "code",
   "execution_count": 14,
   "metadata": {},
   "outputs": [],
   "source": [
    "def purpose_convert(df: pd.DataFrame):\n",
    "    df['Purpose'] = df['Purpose'].map({\n",
    "        'debt consolidation':'1', \n",
    "        'other':'2', \n",
    "        'home improvements':'3', \n",
    "        'business loan':'4', \n",
    "        'buy a car':'5', \n",
    "        'medical bills':'6', \n",
    "        'major purchase':'7', \n",
    "        'take a trip':'8', \n",
    "        'buy house':'9', \n",
    "        'small business':'10', \n",
    "        'wedding':'11', \n",
    "        'moving':'12', \n",
    "        'educational expenses':'13', \n",
    "        'vacation':'14', \n",
    "        'renewable energy':'15' \n",
    "    }).astype(int)"
   ]
  },
  {
   "cell_type": "code",
   "execution_count": 15,
   "metadata": {},
   "outputs": [],
   "source": [
    "def term_convert(df: pd.DataFrame):\n",
    "    df['Term'] = df['Term'].map({\n",
    "        'Short Term':'1', \n",
    "        'Long Term':'2'\n",
    "    }).astype(int)"
   ]
  },
  {
   "cell_type": "code",
   "execution_count": 16,
   "metadata": {},
   "outputs": [],
   "source": [
    "mlhp.fillna_dummines_mode(df_train) \n",
    "mlhp.fillna_dummines_mode(df_test)"
   ]
  },
  {
   "cell_type": "code",
   "execution_count": 17,
   "metadata": {},
   "outputs": [],
   "source": [
    "# Home Ownership\n",
    "home_ownership_convert(df_train)\n",
    "home_ownership_convert(df_test)\n"
   ]
  },
  {
   "cell_type": "code",
   "execution_count": 18,
   "metadata": {},
   "outputs": [],
   "source": [
    "# Years in current job\n",
    "years_in_current_job_convert(df_train)\n",
    "years_in_current_job_convert(df_test)"
   ]
  },
  {
   "cell_type": "code",
   "execution_count": 19,
   "metadata": {},
   "outputs": [],
   "source": [
    "# Purpose\n",
    "purpose_convert(df_train)\n",
    "purpose_convert(df_test)\n"
   ]
  },
  {
   "cell_type": "code",
   "execution_count": 20,
   "metadata": {},
   "outputs": [],
   "source": [
    "# Term\n",
    "term_convert(df_train)\n",
    "term_convert(df_test)"
   ]
  },
  {
   "cell_type": "code",
   "execution_count": 21,
   "metadata": {},
   "outputs": [
    {
     "output_type": "stream",
     "name": "stdout",
     "text": [
      "Home Ownership                     0\nAnnual Income                   1557\nYears in current job               0\nTax Liens                          0\nNumber of Open Accounts            0\nYears of Credit History            0\nMaximum Open Credit                0\nNumber of Credit Problems          0\nMonths since last delinquent    4081\nBankruptcies                      14\nPurpose                            0\nTerm                               0\nCurrent Loan Amount                0\nCurrent Credit Balance             0\nMonthly Debt                       0\nCredit Score                    1557\nCredit Default                     0\ndtype: int64\n"
     ]
    }
   ],
   "source": [
    "mlhp.get_nan_count(df_train)"
   ]
  },
  {
   "cell_type": "code",
   "execution_count": 22,
   "metadata": {},
   "outputs": [],
   "source": [
    "mlhp.fillna_float64_median(df_train)\n",
    "mlhp.fillna_float64_median(df_test)"
   ]
  },
  {
   "cell_type": "code",
   "execution_count": 23,
   "metadata": {},
   "outputs": [
    {
     "output_type": "execute_result",
     "data": {
      "text/plain": [
       "1     2703\n",
       "2      705\n",
       "3      620\n",
       "4      563\n",
       "5      516\n",
       "6      504\n",
       "7      469\n",
       "8      426\n",
       "9      396\n",
       "10     339\n",
       "11     259\n",
       "Name: Years in current job, dtype: int64"
      ]
     },
     "metadata": {},
     "execution_count": 23
    }
   ],
   "source": [
    "df_train['Years in current job'].value_counts()"
   ]
  },
  {
   "cell_type": "code",
   "execution_count": 24,
   "metadata": {},
   "outputs": [
    {
     "output_type": "stream",
     "name": "stdout",
     "text": [
      "<class 'pandas.core.frame.DataFrame'>\nRangeIndex: 7500 entries, 0 to 7499\nData columns (total 17 columns):\n #   Column                        Non-Null Count  Dtype  \n---  ------                        --------------  -----  \n 0   Home Ownership                7500 non-null   int32  \n 1   Annual Income                 7500 non-null   float64\n 2   Years in current job          7500 non-null   int32  \n 3   Tax Liens                     7500 non-null   float64\n 4   Number of Open Accounts       7500 non-null   float64\n 5   Years of Credit History       7500 non-null   float64\n 6   Maximum Open Credit           7500 non-null   float64\n 7   Number of Credit Problems     7500 non-null   float64\n 8   Months since last delinquent  7500 non-null   float64\n 9   Bankruptcies                  7500 non-null   float64\n 10  Purpose                       7500 non-null   int32  \n 11  Term                          7500 non-null   int32  \n 12  Current Loan Amount           7500 non-null   float64\n 13  Current Credit Balance        7500 non-null   float64\n 14  Monthly Debt                  7500 non-null   float64\n 15  Credit Score                  7500 non-null   float64\n 16  Credit Default                7500 non-null   int64  \ndtypes: float64(12), int32(4), int64(1)\nmemory usage: 879.0 KB\n"
     ]
    }
   ],
   "source": [
    "df_train.info()"
   ]
  },
  {
   "cell_type": "code",
   "execution_count": 25,
   "metadata": {},
   "outputs": [
    {
     "output_type": "execute_result",
     "data": {
      "text/plain": [
       "<pandas.io.formats.style.Styler at 0x5f72e80>"
      ],
      "text/html": "<style  type=\"text/css\" >\n#T_96740d49_4219_11eb_a5dc_b0360e9c9af9row0_col0,#T_96740d49_4219_11eb_a5dc_b0360e9c9af9row1_col1,#T_96740d49_4219_11eb_a5dc_b0360e9c9af9row2_col2,#T_96740d49_4219_11eb_a5dc_b0360e9c9af9row3_col3,#T_96740d49_4219_11eb_a5dc_b0360e9c9af9row4_col4,#T_96740d49_4219_11eb_a5dc_b0360e9c9af9row5_col5,#T_96740d49_4219_11eb_a5dc_b0360e9c9af9row6_col6,#T_96740d49_4219_11eb_a5dc_b0360e9c9af9row7_col7,#T_96740d49_4219_11eb_a5dc_b0360e9c9af9row8_col8,#T_96740d49_4219_11eb_a5dc_b0360e9c9af9row9_col9,#T_96740d49_4219_11eb_a5dc_b0360e9c9af9row10_col10,#T_96740d49_4219_11eb_a5dc_b0360e9c9af9row11_col11,#T_96740d49_4219_11eb_a5dc_b0360e9c9af9row12_col12,#T_96740d49_4219_11eb_a5dc_b0360e9c9af9row13_col13,#T_96740d49_4219_11eb_a5dc_b0360e9c9af9row14_col14,#T_96740d49_4219_11eb_a5dc_b0360e9c9af9row15_col15,#T_96740d49_4219_11eb_a5dc_b0360e9c9af9row16_col16{\n            background-color:  #b40426;\n            color:  #f1f1f1;\n        }#T_96740d49_4219_11eb_a5dc_b0360e9c9af9row0_col1,#T_96740d49_4219_11eb_a5dc_b0360e9c9af9row0_col4,#T_96740d49_4219_11eb_a5dc_b0360e9c9af9row0_col11,#T_96740d49_4219_11eb_a5dc_b0360e9c9af9row0_col14,#T_96740d49_4219_11eb_a5dc_b0360e9c9af9row1_col0,#T_96740d49_4219_11eb_a5dc_b0360e9c9af9row1_col8,#T_96740d49_4219_11eb_a5dc_b0360e9c9af9row2_col3,#T_96740d49_4219_11eb_a5dc_b0360e9c9af9row2_col5,#T_96740d49_4219_11eb_a5dc_b0360e9c9af9row5_col2,#T_96740d49_4219_11eb_a5dc_b0360e9c9af9row9_col6,#T_96740d49_4219_11eb_a5dc_b0360e9c9af9row9_col13,#T_96740d49_4219_11eb_a5dc_b0360e9c9af9row12_col11,#T_96740d49_4219_11eb_a5dc_b0360e9c9af9row12_col15,#T_96740d49_4219_11eb_a5dc_b0360e9c9af9row12_col16,#T_96740d49_4219_11eb_a5dc_b0360e9c9af9row13_col7,#T_96740d49_4219_11eb_a5dc_b0360e9c9af9row13_col9,#T_96740d49_4219_11eb_a5dc_b0360e9c9af9row13_col10,#T_96740d49_4219_11eb_a5dc_b0360e9c9af9row14_col0,#T_96740d49_4219_11eb_a5dc_b0360e9c9af9row16_col6,#T_96740d49_4219_11eb_a5dc_b0360e9c9af9row16_col12{\n            background-color:  #3b4cc0;\n            color:  #f1f1f1;\n        }#T_96740d49_4219_11eb_a5dc_b0360e9c9af9row0_col2,#T_96740d49_4219_11eb_a5dc_b0360e9c9af9row6_col5,#T_96740d49_4219_11eb_a5dc_b0360e9c9af9row6_col14,#T_96740d49_4219_11eb_a5dc_b0360e9c9af9row9_col0,#T_96740d49_4219_11eb_a5dc_b0360e9c9af9row9_col8{\n            background-color:  #6c8ff1;\n            color:  #000000;\n        }#T_96740d49_4219_11eb_a5dc_b0360e9c9af9row0_col3,#T_96740d49_4219_11eb_a5dc_b0360e9c9af9row10_col3,#T_96740d49_4219_11eb_a5dc_b0360e9c9af9row13_col8{\n            background-color:  #4358cb;\n            color:  #f1f1f1;\n        }#T_96740d49_4219_11eb_a5dc_b0360e9c9af9row0_col5,#T_96740d49_4219_11eb_a5dc_b0360e9c9af9row7_col13{\n            background-color:  #3f53c6;\n            color:  #f1f1f1;\n        }#T_96740d49_4219_11eb_a5dc_b0360e9c9af9row0_col6,#T_96740d49_4219_11eb_a5dc_b0360e9c9af9row2_col6,#T_96740d49_4219_11eb_a5dc_b0360e9c9af9row13_col3{\n            background-color:  #3c4ec2;\n            color:  #f1f1f1;\n        }#T_96740d49_4219_11eb_a5dc_b0360e9c9af9row0_col7,#T_96740d49_4219_11eb_a5dc_b0360e9c9af9row3_col2,#T_96740d49_4219_11eb_a5dc_b0360e9c9af9row8_col14,#T_96740d49_4219_11eb_a5dc_b0360e9c9af9row10_col7,#T_96740d49_4219_11eb_a5dc_b0360e9c9af9row11_col15,#T_96740d49_4219_11eb_a5dc_b0360e9c9af9row12_col9,#T_96740d49_4219_11eb_a5dc_b0360e9c9af9row15_col5,#T_96740d49_4219_11eb_a5dc_b0360e9c9af9row15_col13{\n            background-color:  #5f7fe8;\n            color:  #000000;\n        }#T_96740d49_4219_11eb_a5dc_b0360e9c9af9row0_col8,#T_96740d49_4219_11eb_a5dc_b0360e9c9af9row2_col10,#T_96740d49_4219_11eb_a5dc_b0360e9c9af9row2_col15,#T_96740d49_4219_11eb_a5dc_b0360e9c9af9row6_col10,#T_96740d49_4219_11eb_a5dc_b0360e9c9af9row7_col10,#T_96740d49_4219_11eb_a5dc_b0360e9c9af9row8_col11{\n            background-color:  #536edd;\n            color:  #000000;\n        }#T_96740d49_4219_11eb_a5dc_b0360e9c9af9row0_col9,#T_96740d49_4219_11eb_a5dc_b0360e9c9af9row16_col7,#T_96740d49_4219_11eb_a5dc_b0360e9c9af9row16_col9{\n            background-color:  #6282ea;\n            color:  #000000;\n        }#T_96740d49_4219_11eb_a5dc_b0360e9c9af9row0_col10,#T_96740d49_4219_11eb_a5dc_b0360e9c9af9row3_col13,#T_96740d49_4219_11eb_a5dc_b0360e9c9af9row5_col11,#T_96740d49_4219_11eb_a5dc_b0360e9c9af9row6_col9,#T_96740d49_4219_11eb_a5dc_b0360e9c9af9row7_col14,#T_96740d49_4219_11eb_a5dc_b0360e9c9af9row11_col2,#T_96740d49_4219_11eb_a5dc_b0360e9c9af9row15_col12,#T_96740d49_4219_11eb_a5dc_b0360e9c9af9row16_col4,#T_96740d49_4219_11eb_a5dc_b0360e9c9af9row16_col5{\n            background-color:  #5e7de7;\n            color:  #000000;\n        }#T_96740d49_4219_11eb_a5dc_b0360e9c9af9row0_col12,#T_96740d49_4219_11eb_a5dc_b0360e9c9af9row3_col9,#T_96740d49_4219_11eb_a5dc_b0360e9c9af9row3_col14,#T_96740d49_4219_11eb_a5dc_b0360e9c9af9row5_col7,#T_96740d49_4219_11eb_a5dc_b0360e9c9af9row6_col16,#T_96740d49_4219_11eb_a5dc_b0360e9c9af9row13_col11{\n            background-color:  #7295f4;\n            color:  #000000;\n        }#T_96740d49_4219_11eb_a5dc_b0360e9c9af9row0_col13,#T_96740d49_4219_11eb_a5dc_b0360e9c9af9row3_col6,#T_96740d49_4219_11eb_a5dc_b0360e9c9af9row4_col3,#T_96740d49_4219_11eb_a5dc_b0360e9c9af9row7_col6,#T_96740d49_4219_11eb_a5dc_b0360e9c9af9row11_col6,#T_96740d49_4219_11eb_a5dc_b0360e9c9af9row12_col3,#T_96740d49_4219_11eb_a5dc_b0360e9c9af9row14_col10,#T_96740d49_4219_11eb_a5dc_b0360e9c9af9row15_col6{\n            background-color:  #3d50c3;\n            color:  #f1f1f1;\n        }#T_96740d49_4219_11eb_a5dc_b0360e9c9af9row0_col15,#T_96740d49_4219_11eb_a5dc_b0360e9c9af9row1_col10,#T_96740d49_4219_11eb_a5dc_b0360e9c9af9row3_col8,#T_96740d49_4219_11eb_a5dc_b0360e9c9af9row8_col1,#T_96740d49_4219_11eb_a5dc_b0360e9c9af9row8_col13,#T_96740d49_4219_11eb_a5dc_b0360e9c9af9row9_col1,#T_96740d49_4219_11eb_a5dc_b0360e9c9af9row12_col7,#T_96740d49_4219_11eb_a5dc_b0360e9c9af9row15_col9{\n            background-color:  #5a78e4;\n            color:  #000000;\n        }#T_96740d49_4219_11eb_a5dc_b0360e9c9af9row0_col16,#T_96740d49_4219_11eb_a5dc_b0360e9c9af9row11_col1{\n            background-color:  #85a8fc;\n            color:  #000000;\n        }#T_96740d49_4219_11eb_a5dc_b0360e9c9af9row1_col2,#T_96740d49_4219_11eb_a5dc_b0360e9c9af9row15_col11{\n            background-color:  #5d7ce6;\n            color:  #000000;\n        }#T_96740d49_4219_11eb_a5dc_b0360e9c9af9row1_col3,#T_96740d49_4219_11eb_a5dc_b0360e9c9af9row1_col9,#T_96740d49_4219_11eb_a5dc_b0360e9c9af9row4_col0,#T_96740d49_4219_11eb_a5dc_b0360e9c9af9row5_col10,#T_96740d49_4219_11eb_a5dc_b0360e9c9af9row6_col15,#T_96740d49_4219_11eb_a5dc_b0360e9c9af9row7_col4,#T_96740d49_4219_11eb_a5dc_b0360e9c9af9row8_col4,#T_96740d49_4219_11eb_a5dc_b0360e9c9af9row9_col3,#T_96740d49_4219_11eb_a5dc_b0360e9c9af9row13_col15,#T_96740d49_4219_11eb_a5dc_b0360e9c9af9row14_col7,#T_96740d49_4219_11eb_a5dc_b0360e9c9af9row16_col1{\n            background-color:  #506bda;\n            color:  #000000;\n        }#T_96740d49_4219_11eb_a5dc_b0360e9c9af9row1_col4,#T_96740d49_4219_11eb_a5dc_b0360e9c9af9row16_col11{\n            background-color:  #89acfd;\n            color:  #000000;\n        }#T_96740d49_4219_11eb_a5dc_b0360e9c9af9row1_col5{\n            background-color:  #96b7ff;\n            color:  #000000;\n        }#T_96740d49_4219_11eb_a5dc_b0360e9c9af9row1_col6{\n            background-color:  #445acc;\n            color:  #f1f1f1;\n        }#T_96740d49_4219_11eb_a5dc_b0360e9c9af9row1_col7,#T_96740d49_4219_11eb_a5dc_b0360e9c9af9row13_col2,#T_96740d49_4219_11eb_a5dc_b0360e9c9af9row13_col6,#T_96740d49_4219_11eb_a5dc_b0360e9c9af9row15_col4{\n            background-color:  #5977e3;\n            color:  #000000;\n        }#T_96740d49_4219_11eb_a5dc_b0360e9c9af9row1_col11{\n            background-color:  #6b8df0;\n            color:  #000000;\n        }#T_96740d49_4219_11eb_a5dc_b0360e9c9af9row1_col12{\n            background-color:  #84a7fc;\n            color:  #000000;\n        }#T_96740d49_4219_11eb_a5dc_b0360e9c9af9row1_col13{\n            background-color:  #c9d7f0;\n            color:  #000000;\n        }#T_96740d49_4219_11eb_a5dc_b0360e9c9af9row1_col14,#T_96740d49_4219_11eb_a5dc_b0360e9c9af9row14_col1{\n            background-color:  #f0cdbb;\n            color:  #000000;\n        }#T_96740d49_4219_11eb_a5dc_b0360e9c9af9row1_col15,#T_96740d49_4219_11eb_a5dc_b0360e9c9af9row2_col11,#T_96740d49_4219_11eb_a5dc_b0360e9c9af9row6_col8,#T_96740d49_4219_11eb_a5dc_b0360e9c9af9row7_col11,#T_96740d49_4219_11eb_a5dc_b0360e9c9af9row9_col10,#T_96740d49_4219_11eb_a5dc_b0360e9c9af9row12_col8,#T_96740d49_4219_11eb_a5dc_b0360e9c9af9row15_col8{\n            background-color:  #4a63d3;\n            color:  #f1f1f1;\n        }#T_96740d49_4219_11eb_a5dc_b0360e9c9af9row1_col16,#T_96740d49_4219_11eb_a5dc_b0360e9c9af9row4_col9,#T_96740d49_4219_11eb_a5dc_b0360e9c9af9row6_col4,#T_96740d49_4219_11eb_a5dc_b0360e9c9af9row6_col7,#T_96740d49_4219_11eb_a5dc_b0360e9c9af9row10_col9,#T_96740d49_4219_11eb_a5dc_b0360e9c9af9row16_col13{\n            background-color:  #5b7ae5;\n            color:  #000000;\n        }#T_96740d49_4219_11eb_a5dc_b0360e9c9af9row2_col0,#T_96740d49_4219_11eb_a5dc_b0360e9c9af9row2_col16,#T_96740d49_4219_11eb_a5dc_b0360e9c9af9row3_col12,#T_96740d49_4219_11eb_a5dc_b0360e9c9af9row7_col12,#T_96740d49_4219_11eb_a5dc_b0360e9c9af9row8_col0,#T_96740d49_4219_11eb_a5dc_b0360e9c9af9row9_col12,#T_96740d49_4219_11eb_a5dc_b0360e9c9af9row14_col12,#T_96740d49_4219_11eb_a5dc_b0360e9c9af9row15_col0{\n            background-color:  #7396f5;\n            color:  #000000;\n        }#T_96740d49_4219_11eb_a5dc_b0360e9c9af9row2_col1{\n            background-color:  #6384eb;\n            color:  #000000;\n        }#T_96740d49_4219_11eb_a5dc_b0360e9c9af9row2_col4,#T_96740d49_4219_11eb_a5dc_b0360e9c9af9row2_col13,#T_96740d49_4219_11eb_a5dc_b0360e9c9af9row4_col15,#T_96740d49_4219_11eb_a5dc_b0360e9c9af9row7_col2,#T_96740d49_4219_11eb_a5dc_b0360e9c9af9row9_col2,#T_96740d49_4219_11eb_a5dc_b0360e9c9af9row11_col7{\n            background-color:  #5673e0;\n            color:  #000000;\n        }#T_96740d49_4219_11eb_a5dc_b0360e9c9af9row2_col7,#T_96740d49_4219_11eb_a5dc_b0360e9c9af9row6_col11,#T_96740d49_4219_11eb_a5dc_b0360e9c9af9row8_col3,#T_96740d49_4219_11eb_a5dc_b0360e9c9af9row9_col4,#T_96740d49_4219_11eb_a5dc_b0360e9c9af9row10_col15{\n            background-color:  #4f69d9;\n            color:  #000000;\n        }#T_96740d49_4219_11eb_a5dc_b0360e9c9af9row2_col8,#T_96740d49_4219_11eb_a5dc_b0360e9c9af9row7_col15{\n            background-color:  #4c66d6;\n            color:  #000000;\n        }#T_96740d49_4219_11eb_a5dc_b0360e9c9af9row2_col9,#T_96740d49_4219_11eb_a5dc_b0360e9c9af9row3_col4,#T_96740d49_4219_11eb_a5dc_b0360e9c9af9row3_col10,#T_96740d49_4219_11eb_a5dc_b0360e9c9af9row3_col15,#T_96740d49_4219_11eb_a5dc_b0360e9c9af9row9_col14,#T_96740d49_4219_11eb_a5dc_b0360e9c9af9row12_col10,#T_96740d49_4219_11eb_a5dc_b0360e9c9af9row16_col10{\n            background-color:  #5470de;\n            color:  #000000;\n        }#T_96740d49_4219_11eb_a5dc_b0360e9c9af9row2_col12,#T_96740d49_4219_11eb_a5dc_b0360e9c9af9row5_col12,#T_96740d49_4219_11eb_a5dc_b0360e9c9af9row7_col5,#T_96740d49_4219_11eb_a5dc_b0360e9c9af9row10_col16{\n            background-color:  #799cf8;\n            color:  #000000;\n        }#T_96740d49_4219_11eb_a5dc_b0360e9c9af9row2_col14,#T_96740d49_4219_11eb_a5dc_b0360e9c9af9row4_col2,#T_96740d49_4219_11eb_a5dc_b0360e9c9af9row4_col11,#T_96740d49_4219_11eb_a5dc_b0360e9c9af9row8_col2,#T_96740d49_4219_11eb_a5dc_b0360e9c9af9row10_col2,#T_96740d49_4219_11eb_a5dc_b0360e9c9af9row12_col13{\n            background-color:  #6687ed;\n            color:  #000000;\n        }#T_96740d49_4219_11eb_a5dc_b0360e9c9af9row3_col0,#T_96740d49_4219_11eb_a5dc_b0360e9c9af9row5_col16,#T_96740d49_4219_11eb_a5dc_b0360e9c9af9row16_col14{\n            background-color:  #6f92f3;\n            color:  #000000;\n        }#T_96740d49_4219_11eb_a5dc_b0360e9c9af9row3_col1,#T_96740d49_4219_11eb_a5dc_b0360e9c9af9row5_col9,#T_96740d49_4219_11eb_a5dc_b0360e9c9af9row6_col13,#T_96740d49_4219_11eb_a5dc_b0360e9c9af9row7_col16,#T_96740d49_4219_11eb_a5dc_b0360e9c9af9row14_col16{\n            background-color:  #7b9ff9;\n            color:  #000000;\n        }#T_96740d49_4219_11eb_a5dc_b0360e9c9af9row3_col5,#T_96740d49_4219_11eb_a5dc_b0360e9c9af9row7_col1,#T_96740d49_4219_11eb_a5dc_b0360e9c9af9row12_col0,#T_96740d49_4219_11eb_a5dc_b0360e9c9af9row12_col2,#T_96740d49_4219_11eb_a5dc_b0360e9c9af9row12_col5,#T_96740d49_4219_11eb_a5dc_b0360e9c9af9row12_col14{\n            background-color:  #6788ee;\n            color:  #000000;\n        }#T_96740d49_4219_11eb_a5dc_b0360e9c9af9row3_col7{\n            background-color:  #f5c0a7;\n            color:  #000000;\n        }#T_96740d49_4219_11eb_a5dc_b0360e9c9af9row3_col11,#T_96740d49_4219_11eb_a5dc_b0360e9c9af9row8_col15,#T_96740d49_4219_11eb_a5dc_b0360e9c9af9row14_col15{\n            background-color:  #516ddb;\n            color:  #000000;\n        }#T_96740d49_4219_11eb_a5dc_b0360e9c9af9row3_col16,#T_96740d49_4219_11eb_a5dc_b0360e9c9af9row14_col11{\n            background-color:  #7da0f9;\n            color:  #000000;\n        }#T_96740d49_4219_11eb_a5dc_b0360e9c9af9row4_col1,#T_96740d49_4219_11eb_a5dc_b0360e9c9af9row5_col1{\n            background-color:  #9dbdff;\n            color:  #000000;\n        }#T_96740d49_4219_11eb_a5dc_b0360e9c9af9row4_col5{\n            background-color:  #90b2fe;\n            color:  #000000;\n        }#T_96740d49_4219_11eb_a5dc_b0360e9c9af9row4_col6{\n            background-color:  #455cce;\n            color:  #f1f1f1;\n        }#T_96740d49_4219_11eb_a5dc_b0360e9c9af9row4_col7,#T_96740d49_4219_11eb_a5dc_b0360e9c9af9row10_col14,#T_96740d49_4219_11eb_a5dc_b0360e9c9af9row11_col9,#T_96740d49_4219_11eb_a5dc_b0360e9c9af9row15_col7{\n            background-color:  #5875e1;\n            color:  #000000;\n        }#T_96740d49_4219_11eb_a5dc_b0360e9c9af9row4_col8,#T_96740d49_4219_11eb_a5dc_b0360e9c9af9row5_col0,#T_96740d49_4219_11eb_a5dc_b0360e9c9af9row5_col6,#T_96740d49_4219_11eb_a5dc_b0360e9c9af9row10_col4,#T_96740d49_4219_11eb_a5dc_b0360e9c9af9row10_col8,#T_96740d49_4219_11eb_a5dc_b0360e9c9af9row14_col3,#T_96740d49_4219_11eb_a5dc_b0360e9c9af9row16_col3{\n            background-color:  #465ecf;\n            color:  #f1f1f1;\n        }#T_96740d49_4219_11eb_a5dc_b0360e9c9af9row4_col10,#T_96740d49_4219_11eb_a5dc_b0360e9c9af9row5_col3,#T_96740d49_4219_11eb_a5dc_b0360e9c9af9row14_col6,#T_96740d49_4219_11eb_a5dc_b0360e9c9af9row15_col3{\n            background-color:  #4257c9;\n            color:  #f1f1f1;\n        }#T_96740d49_4219_11eb_a5dc_b0360e9c9af9row4_col12,#T_96740d49_4219_11eb_a5dc_b0360e9c9af9row8_col16,#T_96740d49_4219_11eb_a5dc_b0360e9c9af9row9_col16,#T_96740d49_4219_11eb_a5dc_b0360e9c9af9row10_col1{\n            background-color:  #7699f6;\n            color:  #000000;\n        }#T_96740d49_4219_11eb_a5dc_b0360e9c9af9row4_col13{\n            background-color:  #b2ccfb;\n            color:  #000000;\n        }#T_96740d49_4219_11eb_a5dc_b0360e9c9af9row4_col14{\n            background-color:  #dddcdc;\n            color:  #000000;\n        }#T_96740d49_4219_11eb_a5dc_b0360e9c9af9row4_col16,#T_96740d49_4219_11eb_a5dc_b0360e9c9af9row9_col5{\n            background-color:  #7ea1fa;\n            color:  #000000;\n        }#T_96740d49_4219_11eb_a5dc_b0360e9c9af9row5_col4,#T_96740d49_4219_11eb_a5dc_b0360e9c9af9row8_col9,#T_96740d49_4219_11eb_a5dc_b0360e9c9af9row11_col13{\n            background-color:  #82a6fb;\n            color:  #000000;\n        }#T_96740d49_4219_11eb_a5dc_b0360e9c9af9row5_col8,#T_96740d49_4219_11eb_a5dc_b0360e9c9af9row8_col10,#T_96740d49_4219_11eb_a5dc_b0360e9c9af9row9_col15,#T_96740d49_4219_11eb_a5dc_b0360e9c9af9row10_col13,#T_96740d49_4219_11eb_a5dc_b0360e9c9af9row14_col9,#T_96740d49_4219_11eb_a5dc_b0360e9c9af9row16_col8{\n            background-color:  #4b64d5;\n            color:  #f1f1f1;\n        }#T_96740d49_4219_11eb_a5dc_b0360e9c9af9row5_col13,#T_96740d49_4219_11eb_a5dc_b0360e9c9af9row5_col14{\n            background-color:  #a3c2fe;\n            color:  #000000;\n        }#T_96740d49_4219_11eb_a5dc_b0360e9c9af9row5_col15,#T_96740d49_4219_11eb_a5dc_b0360e9c9af9row10_col11,#T_96740d49_4219_11eb_a5dc_b0360e9c9af9row11_col8,#T_96740d49_4219_11eb_a5dc_b0360e9c9af9row11_col10,#T_96740d49_4219_11eb_a5dc_b0360e9c9af9row15_col10{\n            background-color:  #4e68d8;\n            color:  #000000;\n        }#T_96740d49_4219_11eb_a5dc_b0360e9c9af9row6_col0{\n            background-color:  #688aef;\n            color:  #000000;\n        }#T_96740d49_4219_11eb_a5dc_b0360e9c9af9row6_col1,#T_96740d49_4219_11eb_a5dc_b0360e9c9af9row11_col5,#T_96740d49_4219_11eb_a5dc_b0360e9c9af9row13_col16{\n            background-color:  #7093f3;\n            color:  #000000;\n        }#T_96740d49_4219_11eb_a5dc_b0360e9c9af9row6_col2,#T_96740d49_4219_11eb_a5dc_b0360e9c9af9row11_col12,#T_96740d49_4219_11eb_a5dc_b0360e9c9af9row14_col2,#T_96740d49_4219_11eb_a5dc_b0360e9c9af9row16_col2{\n            background-color:  #6180e9;\n            color:  #000000;\n        }#T_96740d49_4219_11eb_a5dc_b0360e9c9af9row6_col3,#T_96740d49_4219_11eb_a5dc_b0360e9c9af9row8_col6,#T_96740d49_4219_11eb_a5dc_b0360e9c9af9row12_col6{\n            background-color:  #3e51c5;\n            color:  #f1f1f1;\n        }#T_96740d49_4219_11eb_a5dc_b0360e9c9af9row6_col12,#T_96740d49_4219_11eb_a5dc_b0360e9c9af9row8_col12{\n            background-color:  #7597f6;\n            color:  #000000;\n        }#T_96740d49_4219_11eb_a5dc_b0360e9c9af9row7_col0,#T_96740d49_4219_11eb_a5dc_b0360e9c9af9row7_col8{\n            background-color:  #6e90f2;\n            color:  #000000;\n        }#T_96740d49_4219_11eb_a5dc_b0360e9c9af9row7_col3{\n            background-color:  #f2cab5;\n            color:  #000000;\n        }#T_96740d49_4219_11eb_a5dc_b0360e9c9af9row7_col9{\n            background-color:  #f39475;\n            color:  #000000;\n        }#T_96740d49_4219_11eb_a5dc_b0360e9c9af9row8_col5,#T_96740d49_4219_11eb_a5dc_b0360e9c9af9row10_col5,#T_96740d49_4219_11eb_a5dc_b0360e9c9af9row15_col1,#T_96740d49_4219_11eb_a5dc_b0360e9c9af9row15_col2{\n            background-color:  #6485ec;\n            color:  #000000;\n        }#T_96740d49_4219_11eb_a5dc_b0360e9c9af9row8_col7{\n            background-color:  #80a3fa;\n            color:  #000000;\n        }#T_96740d49_4219_11eb_a5dc_b0360e9c9af9row9_col7{\n            background-color:  #f39577;\n            color:  #000000;\n        }#T_96740d49_4219_11eb_a5dc_b0360e9c9af9row9_col11,#T_96740d49_4219_11eb_a5dc_b0360e9c9af9row13_col0{\n            background-color:  #485fd1;\n            color:  #f1f1f1;\n        }#T_96740d49_4219_11eb_a5dc_b0360e9c9af9row10_col0,#T_96740d49_4219_11eb_a5dc_b0360e9c9af9row10_col12,#T_96740d49_4219_11eb_a5dc_b0360e9c9af9row12_col1,#T_96740d49_4219_11eb_a5dc_b0360e9c9af9row13_col12,#T_96740d49_4219_11eb_a5dc_b0360e9c9af9row16_col0{\n            background-color:  #7a9df8;\n            color:  #000000;\n        }#T_96740d49_4219_11eb_a5dc_b0360e9c9af9row10_col6,#T_96740d49_4219_11eb_a5dc_b0360e9c9af9row11_col3,#T_96740d49_4219_11eb_a5dc_b0360e9c9af9row14_col8{\n            background-color:  #4055c8;\n            color:  #f1f1f1;\n        }#T_96740d49_4219_11eb_a5dc_b0360e9c9af9row11_col0,#T_96740d49_4219_11eb_a5dc_b0360e9c9af9row12_col4{\n            background-color:  #5572df;\n            color:  #000000;\n        }#T_96740d49_4219_11eb_a5dc_b0360e9c9af9row11_col4,#T_96740d49_4219_11eb_a5dc_b0360e9c9af9row15_col14{\n            background-color:  #6a8bef;\n            color:  #000000;\n        }#T_96740d49_4219_11eb_a5dc_b0360e9c9af9row11_col14{\n            background-color:  #94b6ff;\n            color:  #000000;\n        }#T_96740d49_4219_11eb_a5dc_b0360e9c9af9row11_col16{\n            background-color:  #aac7fd;\n            color:  #000000;\n        }#T_96740d49_4219_11eb_a5dc_b0360e9c9af9row13_col1{\n            background-color:  #cedaeb;\n            color:  #000000;\n        }#T_96740d49_4219_11eb_a5dc_b0360e9c9af9row13_col4{\n            background-color:  #a9c6fd;\n            color:  #000000;\n        }#T_96740d49_4219_11eb_a5dc_b0360e9c9af9row13_col5{\n            background-color:  #a6c4fe;\n            color:  #000000;\n        }#T_96740d49_4219_11eb_a5dc_b0360e9c9af9row13_col14{\n            background-color:  #efcfbf;\n            color:  #000000;\n        }#T_96740d49_4219_11eb_a5dc_b0360e9c9af9row14_col4{\n            background-color:  #d4dbe6;\n            color:  #000000;\n        }#T_96740d49_4219_11eb_a5dc_b0360e9c9af9row14_col5{\n            background-color:  #9ebeff;\n            color:  #000000;\n        }#T_96740d49_4219_11eb_a5dc_b0360e9c9af9row14_col13{\n            background-color:  #edd2c3;\n            color:  #000000;\n        }#T_96740d49_4219_11eb_a5dc_b0360e9c9af9row15_col16{\n            background-color:  #dadce0;\n            color:  #000000;\n        }#T_96740d49_4219_11eb_a5dc_b0360e9c9af9row16_col15{\n            background-color:  #c7d7f0;\n            color:  #000000;\n        }</style><table id=\"T_96740d49_4219_11eb_a5dc_b0360e9c9af9\" ><thead>    <tr>        <th class=\"blank level0\" ></th>        <th class=\"col_heading level0 col0\" >Home Ownership</th>        <th class=\"col_heading level0 col1\" >Annual Income</th>        <th class=\"col_heading level0 col2\" >Years in current job</th>        <th class=\"col_heading level0 col3\" >Tax Liens</th>        <th class=\"col_heading level0 col4\" >Number of Open Accounts</th>        <th class=\"col_heading level0 col5\" >Years of Credit History</th>        <th class=\"col_heading level0 col6\" >Maximum Open Credit</th>        <th class=\"col_heading level0 col7\" >Number of Credit Problems</th>        <th class=\"col_heading level0 col8\" >Months since last delinquent</th>        <th class=\"col_heading level0 col9\" >Bankruptcies</th>        <th class=\"col_heading level0 col10\" >Purpose</th>        <th class=\"col_heading level0 col11\" >Term</th>        <th class=\"col_heading level0 col12\" >Current Loan Amount</th>        <th class=\"col_heading level0 col13\" >Current Credit Balance</th>        <th class=\"col_heading level0 col14\" >Monthly Debt</th>        <th class=\"col_heading level0 col15\" >Credit Score</th>        <th class=\"col_heading level0 col16\" >Credit Default</th>    </tr></thead><tbody>\n                <tr>\n                        <th id=\"T_96740d49_4219_11eb_a5dc_b0360e9c9af9level0_row0\" class=\"row_heading level0 row0\" >Home Ownership</th>\n                        <td id=\"T_96740d49_4219_11eb_a5dc_b0360e9c9af9row0_col0\" class=\"data row0 col0\" >1.00</td>\n                        <td id=\"T_96740d49_4219_11eb_a5dc_b0360e9c9af9row0_col1\" class=\"data row0 col1\" >-0.18</td>\n                        <td id=\"T_96740d49_4219_11eb_a5dc_b0360e9c9af9row0_col2\" class=\"data row0 col2\" >0.03</td>\n                        <td id=\"T_96740d49_4219_11eb_a5dc_b0360e9c9af9row0_col3\" class=\"data row0 col3\" >0.01</td>\n                        <td id=\"T_96740d49_4219_11eb_a5dc_b0360e9c9af9row0_col4\" class=\"data row0 col4\" >-0.10</td>\n                        <td id=\"T_96740d49_4219_11eb_a5dc_b0360e9c9af9row0_col5\" class=\"data row0 col5\" >-0.14</td>\n                        <td id=\"T_96740d49_4219_11eb_a5dc_b0360e9c9af9row0_col6\" class=\"data row0 col6\" >-0.01</td>\n                        <td id=\"T_96740d49_4219_11eb_a5dc_b0360e9c9af9row0_col7\" class=\"data row0 col7\" >0.01</td>\n                        <td id=\"T_96740d49_4219_11eb_a5dc_b0360e9c9af9row0_col8\" class=\"data row0 col8\" >0.03</td>\n                        <td id=\"T_96740d49_4219_11eb_a5dc_b0360e9c9af9row0_col9\" class=\"data row0 col9\" >0.00</td>\n                        <td id=\"T_96740d49_4219_11eb_a5dc_b0360e9c9af9row0_col10\" class=\"data row0 col10\" >0.05</td>\n                        <td id=\"T_96740d49_4219_11eb_a5dc_b0360e9c9af9row0_col11\" class=\"data row0 col11\" >-0.08</td>\n                        <td id=\"T_96740d49_4219_11eb_a5dc_b0360e9c9af9row0_col12\" class=\"data row0 col12\" >-0.01</td>\n                        <td id=\"T_96740d49_4219_11eb_a5dc_b0360e9c9af9row0_col13\" class=\"data row0 col13\" >-0.13</td>\n                        <td id=\"T_96740d49_4219_11eb_a5dc_b0360e9c9af9row0_col14\" class=\"data row0 col14\" >-0.18</td>\n                        <td id=\"T_96740d49_4219_11eb_a5dc_b0360e9c9af9row0_col15\" class=\"data row0 col15\" >0.03</td>\n                        <td id=\"T_96740d49_4219_11eb_a5dc_b0360e9c9af9row0_col16\" class=\"data row0 col16\" >0.05</td>\n            </tr>\n            <tr>\n                        <th id=\"T_96740d49_4219_11eb_a5dc_b0360e9c9af9level0_row1\" class=\"row_heading level0 row1\" >Annual Income</th>\n                        <td id=\"T_96740d49_4219_11eb_a5dc_b0360e9c9af9row1_col0\" class=\"data row1 col0\" >-0.18</td>\n                        <td id=\"T_96740d49_4219_11eb_a5dc_b0360e9c9af9row1_col1\" class=\"data row1 col1\" >1.00</td>\n                        <td id=\"T_96740d49_4219_11eb_a5dc_b0360e9c9af9row1_col2\" class=\"data row1 col2\" >-0.02</td>\n                        <td id=\"T_96740d49_4219_11eb_a5dc_b0360e9c9af9row1_col3\" class=\"data row1 col3\" >0.06</td>\n                        <td id=\"T_96740d49_4219_11eb_a5dc_b0360e9c9af9row1_col4\" class=\"data row1 col4\" >0.17</td>\n                        <td id=\"T_96740d49_4219_11eb_a5dc_b0360e9c9af9row1_col5\" class=\"data row1 col5\" >0.16</td>\n                        <td id=\"T_96740d49_4219_11eb_a5dc_b0360e9c9af9row1_col6\" class=\"data row1 col6\" >0.02</td>\n                        <td id=\"T_96740d49_4219_11eb_a5dc_b0360e9c9af9row1_col7\" class=\"data row1 col7\" >-0.01</td>\n                        <td id=\"T_96740d49_4219_11eb_a5dc_b0360e9c9af9row1_col8\" class=\"data row1 col8\" >-0.06</td>\n                        <td id=\"T_96740d49_4219_11eb_a5dc_b0360e9c9af9row1_col9\" class=\"data row1 col9\" >-0.06</td>\n                        <td id=\"T_96740d49_4219_11eb_a5dc_b0360e9c9af9row1_col10\" class=\"data row1 col10\" >0.04</td>\n                        <td id=\"T_96740d49_4219_11eb_a5dc_b0360e9c9af9row1_col11\" class=\"data row1 col11\" >0.09</td>\n                        <td id=\"T_96740d49_4219_11eb_a5dc_b0360e9c9af9row1_col12\" class=\"data row1 col12\" >0.05</td>\n                        <td id=\"T_96740d49_4219_11eb_a5dc_b0360e9c9af9row1_col13\" class=\"data row1 col13\" >0.35</td>\n                        <td id=\"T_96740d49_4219_11eb_a5dc_b0360e9c9af9row1_col14\" class=\"data row1 col14\" >0.52</td>\n                        <td id=\"T_96740d49_4219_11eb_a5dc_b0360e9c9af9row1_col15\" class=\"data row1 col15\" >-0.02</td>\n                        <td id=\"T_96740d49_4219_11eb_a5dc_b0360e9c9af9row1_col16\" class=\"data row1 col16\" >-0.10</td>\n            </tr>\n            <tr>\n                        <th id=\"T_96740d49_4219_11eb_a5dc_b0360e9c9af9level0_row2\" class=\"row_heading level0 row2\" >Years in current job</th>\n                        <td id=\"T_96740d49_4219_11eb_a5dc_b0360e9c9af9row2_col0\" class=\"data row2 col0\" >0.03</td>\n                        <td id=\"T_96740d49_4219_11eb_a5dc_b0360e9c9af9row2_col1\" class=\"data row2 col1\" >-0.02</td>\n                        <td id=\"T_96740d49_4219_11eb_a5dc_b0360e9c9af9row2_col2\" class=\"data row2 col2\" >1.00</td>\n                        <td id=\"T_96740d49_4219_11eb_a5dc_b0360e9c9af9row2_col3\" class=\"data row2 col3\" >-0.02</td>\n                        <td id=\"T_96740d49_4219_11eb_a5dc_b0360e9c9af9row2_col4\" class=\"data row2 col4\" >0.01</td>\n                        <td id=\"T_96740d49_4219_11eb_a5dc_b0360e9c9af9row2_col5\" class=\"data row2 col5\" >-0.15</td>\n                        <td id=\"T_96740d49_4219_11eb_a5dc_b0360e9c9af9row2_col6\" class=\"data row2 col6\" >-0.01</td>\n                        <td id=\"T_96740d49_4219_11eb_a5dc_b0360e9c9af9row2_col7\" class=\"data row2 col7\" >-0.05</td>\n                        <td id=\"T_96740d49_4219_11eb_a5dc_b0360e9c9af9row2_col8\" class=\"data row2 col8\" >0.01</td>\n                        <td id=\"T_96740d49_4219_11eb_a5dc_b0360e9c9af9row2_col9\" class=\"data row2 col9\" >-0.05</td>\n                        <td id=\"T_96740d49_4219_11eb_a5dc_b0360e9c9af9row2_col10\" class=\"data row2 col10\" >0.01</td>\n                        <td id=\"T_96740d49_4219_11eb_a5dc_b0360e9c9af9row2_col11\" class=\"data row2 col11\" >-0.02</td>\n                        <td id=\"T_96740d49_4219_11eb_a5dc_b0360e9c9af9row2_col12\" class=\"data row2 col12\" >0.01</td>\n                        <td id=\"T_96740d49_4219_11eb_a5dc_b0360e9c9af9row2_col13\" class=\"data row2 col13\" >-0.04</td>\n                        <td id=\"T_96740d49_4219_11eb_a5dc_b0360e9c9af9row2_col14\" class=\"data row2 col14\" >-0.01</td>\n                        <td id=\"T_96740d49_4219_11eb_a5dc_b0360e9c9af9row2_col15\" class=\"data row2 col15\" >0.00</td>\n                        <td id=\"T_96740d49_4219_11eb_a5dc_b0360e9c9af9row2_col16\" class=\"data row2 col16\" >-0.01</td>\n            </tr>\n            <tr>\n                        <th id=\"T_96740d49_4219_11eb_a5dc_b0360e9c9af9level0_row3\" class=\"row_heading level0 row3\" >Tax Liens</th>\n                        <td id=\"T_96740d49_4219_11eb_a5dc_b0360e9c9af9row3_col0\" class=\"data row3 col0\" >0.01</td>\n                        <td id=\"T_96740d49_4219_11eb_a5dc_b0360e9c9af9row3_col1\" class=\"data row3 col1\" >0.06</td>\n                        <td id=\"T_96740d49_4219_11eb_a5dc_b0360e9c9af9row3_col2\" class=\"data row3 col2\" >-0.02</td>\n                        <td id=\"T_96740d49_4219_11eb_a5dc_b0360e9c9af9row3_col3\" class=\"data row3 col3\" >1.00</td>\n                        <td id=\"T_96740d49_4219_11eb_a5dc_b0360e9c9af9row3_col4\" class=\"data row3 col4\" >-0.01</td>\n                        <td id=\"T_96740d49_4219_11eb_a5dc_b0360e9c9af9row3_col5\" class=\"data row3 col5\" >0.01</td>\n                        <td id=\"T_96740d49_4219_11eb_a5dc_b0360e9c9af9row3_col6\" class=\"data row3 col6\" >-0.00</td>\n                        <td id=\"T_96740d49_4219_11eb_a5dc_b0360e9c9af9row3_col7\" class=\"data row3 col7\" >0.60</td>\n                        <td id=\"T_96740d49_4219_11eb_a5dc_b0360e9c9af9row3_col8\" class=\"data row3 col8\" >0.05</td>\n                        <td id=\"T_96740d49_4219_11eb_a5dc_b0360e9c9af9row3_col9\" class=\"data row3 col9\" >0.06</td>\n                        <td id=\"T_96740d49_4219_11eb_a5dc_b0360e9c9af9row3_col10\" class=\"data row3 col10\" >0.01</td>\n                        <td id=\"T_96740d49_4219_11eb_a5dc_b0360e9c9af9row3_col11\" class=\"data row3 col11\" >0.00</td>\n                        <td id=\"T_96740d49_4219_11eb_a5dc_b0360e9c9af9row3_col12\" class=\"data row3 col12\" >-0.01</td>\n                        <td id=\"T_96740d49_4219_11eb_a5dc_b0360e9c9af9row3_col13\" class=\"data row3 col13\" >-0.01</td>\n                        <td id=\"T_96740d49_4219_11eb_a5dc_b0360e9c9af9row3_col14\" class=\"data row3 col14\" >0.03</td>\n                        <td id=\"T_96740d49_4219_11eb_a5dc_b0360e9c9af9row3_col15\" class=\"data row3 col15\" >0.01</td>\n                        <td id=\"T_96740d49_4219_11eb_a5dc_b0360e9c9af9row3_col16\" class=\"data row3 col16\" >0.02</td>\n            </tr>\n            <tr>\n                        <th id=\"T_96740d49_4219_11eb_a5dc_b0360e9c9af9level0_row4\" class=\"row_heading level0 row4\" >Number of Open Accounts</th>\n                        <td id=\"T_96740d49_4219_11eb_a5dc_b0360e9c9af9row4_col0\" class=\"data row4 col0\" >-0.10</td>\n                        <td id=\"T_96740d49_4219_11eb_a5dc_b0360e9c9af9row4_col1\" class=\"data row4 col1\" >0.17</td>\n                        <td id=\"T_96740d49_4219_11eb_a5dc_b0360e9c9af9row4_col2\" class=\"data row4 col2\" >0.01</td>\n                        <td id=\"T_96740d49_4219_11eb_a5dc_b0360e9c9af9row4_col3\" class=\"data row4 col3\" >-0.01</td>\n                        <td id=\"T_96740d49_4219_11eb_a5dc_b0360e9c9af9row4_col4\" class=\"data row4 col4\" >1.00</td>\n                        <td id=\"T_96740d49_4219_11eb_a5dc_b0360e9c9af9row4_col5\" class=\"data row4 col5\" >0.14</td>\n                        <td id=\"T_96740d49_4219_11eb_a5dc_b0360e9c9af9row4_col6\" class=\"data row4 col6\" >0.02</td>\n                        <td id=\"T_96740d49_4219_11eb_a5dc_b0360e9c9af9row4_col7\" class=\"data row4 col7\" >-0.02</td>\n                        <td id=\"T_96740d49_4219_11eb_a5dc_b0360e9c9af9row4_col8\" class=\"data row4 col8\" >-0.02</td>\n                        <td id=\"T_96740d49_4219_11eb_a5dc_b0360e9c9af9row4_col9\" class=\"data row4 col9\" >-0.02</td>\n                        <td id=\"T_96740d49_4219_11eb_a5dc_b0360e9c9af9row4_col10\" class=\"data row4 col10\" >-0.05</td>\n                        <td id=\"T_96740d49_4219_11eb_a5dc_b0360e9c9af9row4_col11\" class=\"data row4 col11\" >0.07</td>\n                        <td id=\"T_96740d49_4219_11eb_a5dc_b0360e9c9af9row4_col12\" class=\"data row4 col12\" >0.00</td>\n                        <td id=\"T_96740d49_4219_11eb_a5dc_b0360e9c9af9row4_col13\" class=\"data row4 col13\" >0.27</td>\n                        <td id=\"T_96740d49_4219_11eb_a5dc_b0360e9c9af9row4_col14\" class=\"data row4 col14\" >0.41</td>\n                        <td id=\"T_96740d49_4219_11eb_a5dc_b0360e9c9af9row4_col15\" class=\"data row4 col15\" >0.01</td>\n                        <td id=\"T_96740d49_4219_11eb_a5dc_b0360e9c9af9row4_col16\" class=\"data row4 col16\" >0.03</td>\n            </tr>\n            <tr>\n                        <th id=\"T_96740d49_4219_11eb_a5dc_b0360e9c9af9level0_row5\" class=\"row_heading level0 row5\" >Years of Credit History</th>\n                        <td id=\"T_96740d49_4219_11eb_a5dc_b0360e9c9af9row5_col0\" class=\"data row5 col0\" >-0.14</td>\n                        <td id=\"T_96740d49_4219_11eb_a5dc_b0360e9c9af9row5_col1\" class=\"data row5 col1\" >0.16</td>\n                        <td id=\"T_96740d49_4219_11eb_a5dc_b0360e9c9af9row5_col2\" class=\"data row5 col2\" >-0.15</td>\n                        <td id=\"T_96740d49_4219_11eb_a5dc_b0360e9c9af9row5_col3\" class=\"data row5 col3\" >0.01</td>\n                        <td id=\"T_96740d49_4219_11eb_a5dc_b0360e9c9af9row5_col4\" class=\"data row5 col4\" >0.14</td>\n                        <td id=\"T_96740d49_4219_11eb_a5dc_b0360e9c9af9row5_col5\" class=\"data row5 col5\" >1.00</td>\n                        <td id=\"T_96740d49_4219_11eb_a5dc_b0360e9c9af9row5_col6\" class=\"data row5 col6\" >0.03</td>\n                        <td id=\"T_96740d49_4219_11eb_a5dc_b0360e9c9af9row5_col7\" class=\"data row5 col7\" >0.07</td>\n                        <td id=\"T_96740d49_4219_11eb_a5dc_b0360e9c9af9row5_col8\" class=\"data row5 col8\" >0.00</td>\n                        <td id=\"T_96740d49_4219_11eb_a5dc_b0360e9c9af9row5_col9\" class=\"data row5 col9\" >0.09</td>\n                        <td id=\"T_96740d49_4219_11eb_a5dc_b0360e9c9af9row5_col10\" class=\"data row5 col10\" >-0.00</td>\n                        <td id=\"T_96740d49_4219_11eb_a5dc_b0360e9c9af9row5_col11\" class=\"data row5 col11\" >0.04</td>\n                        <td id=\"T_96740d49_4219_11eb_a5dc_b0360e9c9af9row5_col12\" class=\"data row5 col12\" >0.01</td>\n                        <td id=\"T_96740d49_4219_11eb_a5dc_b0360e9c9af9row5_col13\" class=\"data row5 col13\" >0.22</td>\n                        <td id=\"T_96740d49_4219_11eb_a5dc_b0360e9c9af9row5_col14\" class=\"data row5 col14\" >0.19</td>\n                        <td id=\"T_96740d49_4219_11eb_a5dc_b0360e9c9af9row5_col15\" class=\"data row5 col15\" >-0.01</td>\n                        <td id=\"T_96740d49_4219_11eb_a5dc_b0360e9c9af9row5_col16\" class=\"data row5 col16\" >-0.02</td>\n            </tr>\n            <tr>\n                        <th id=\"T_96740d49_4219_11eb_a5dc_b0360e9c9af9level0_row6\" class=\"row_heading level0 row6\" >Maximum Open Credit</th>\n                        <td id=\"T_96740d49_4219_11eb_a5dc_b0360e9c9af9row6_col0\" class=\"data row6 col0\" >-0.01</td>\n                        <td id=\"T_96740d49_4219_11eb_a5dc_b0360e9c9af9row6_col1\" class=\"data row6 col1\" >0.02</td>\n                        <td id=\"T_96740d49_4219_11eb_a5dc_b0360e9c9af9row6_col2\" class=\"data row6 col2\" >-0.01</td>\n                        <td id=\"T_96740d49_4219_11eb_a5dc_b0360e9c9af9row6_col3\" class=\"data row6 col3\" >-0.00</td>\n                        <td id=\"T_96740d49_4219_11eb_a5dc_b0360e9c9af9row6_col4\" class=\"data row6 col4\" >0.02</td>\n                        <td id=\"T_96740d49_4219_11eb_a5dc_b0360e9c9af9row6_col5\" class=\"data row6 col5\" >0.03</td>\n                        <td id=\"T_96740d49_4219_11eb_a5dc_b0360e9c9af9row6_col6\" class=\"data row6 col6\" >1.00</td>\n                        <td id=\"T_96740d49_4219_11eb_a5dc_b0360e9c9af9row6_col7\" class=\"data row6 col7\" >-0.00</td>\n                        <td id=\"T_96740d49_4219_11eb_a5dc_b0360e9c9af9row6_col8\" class=\"data row6 col8\" >-0.00</td>\n                        <td id=\"T_96740d49_4219_11eb_a5dc_b0360e9c9af9row6_col9\" class=\"data row6 col9\" >-0.01</td>\n                        <td id=\"T_96740d49_4219_11eb_a5dc_b0360e9c9af9row6_col10\" class=\"data row6 col10\" >0.01</td>\n                        <td id=\"T_96740d49_4219_11eb_a5dc_b0360e9c9af9row6_col11\" class=\"data row6 col11\" >-0.01</td>\n                        <td id=\"T_96740d49_4219_11eb_a5dc_b0360e9c9af9row6_col12\" class=\"data row6 col12\" >-0.00</td>\n                        <td id=\"T_96740d49_4219_11eb_a5dc_b0360e9c9af9row6_col13\" class=\"data row6 col13\" >0.09</td>\n                        <td id=\"T_96740d49_4219_11eb_a5dc_b0360e9c9af9row6_col14\" class=\"data row6 col14\" >0.01</td>\n                        <td id=\"T_96740d49_4219_11eb_a5dc_b0360e9c9af9row6_col15\" class=\"data row6 col15\" >-0.01</td>\n                        <td id=\"T_96740d49_4219_11eb_a5dc_b0360e9c9af9row6_col16\" class=\"data row6 col16\" >-0.01</td>\n            </tr>\n            <tr>\n                        <th id=\"T_96740d49_4219_11eb_a5dc_b0360e9c9af9level0_row7\" class=\"row_heading level0 row7\" >Number of Credit Problems</th>\n                        <td id=\"T_96740d49_4219_11eb_a5dc_b0360e9c9af9row7_col0\" class=\"data row7 col0\" >0.01</td>\n                        <td id=\"T_96740d49_4219_11eb_a5dc_b0360e9c9af9row7_col1\" class=\"data row7 col1\" >-0.01</td>\n                        <td id=\"T_96740d49_4219_11eb_a5dc_b0360e9c9af9row7_col2\" class=\"data row7 col2\" >-0.05</td>\n                        <td id=\"T_96740d49_4219_11eb_a5dc_b0360e9c9af9row7_col3\" class=\"data row7 col3\" >0.60</td>\n                        <td id=\"T_96740d49_4219_11eb_a5dc_b0360e9c9af9row7_col4\" class=\"data row7 col4\" >-0.02</td>\n                        <td id=\"T_96740d49_4219_11eb_a5dc_b0360e9c9af9row7_col5\" class=\"data row7 col5\" >0.07</td>\n                        <td id=\"T_96740d49_4219_11eb_a5dc_b0360e9c9af9row7_col6\" class=\"data row7 col6\" >-0.00</td>\n                        <td id=\"T_96740d49_4219_11eb_a5dc_b0360e9c9af9row7_col7\" class=\"data row7 col7\" >1.00</td>\n                        <td id=\"T_96740d49_4219_11eb_a5dc_b0360e9c9af9row7_col8\" class=\"data row7 col8\" >0.11</td>\n                        <td id=\"T_96740d49_4219_11eb_a5dc_b0360e9c9af9row7_col9\" class=\"data row7 col9\" >0.73</td>\n                        <td id=\"T_96740d49_4219_11eb_a5dc_b0360e9c9af9row7_col10\" class=\"data row7 col10\" >0.01</td>\n                        <td id=\"T_96740d49_4219_11eb_a5dc_b0360e9c9af9row7_col11\" class=\"data row7 col11\" >-0.02</td>\n                        <td id=\"T_96740d49_4219_11eb_a5dc_b0360e9c9af9row7_col12\" class=\"data row7 col12\" >-0.01</td>\n                        <td id=\"T_96740d49_4219_11eb_a5dc_b0360e9c9af9row7_col13\" class=\"data row7 col13\" >-0.12</td>\n                        <td id=\"T_96740d49_4219_11eb_a5dc_b0360e9c9af9row7_col14\" class=\"data row7 col14\" >-0.04</td>\n                        <td id=\"T_96740d49_4219_11eb_a5dc_b0360e9c9af9row7_col15\" class=\"data row7 col15\" >-0.02</td>\n                        <td id=\"T_96740d49_4219_11eb_a5dc_b0360e9c9af9row7_col16\" class=\"data row7 col16\" >0.02</td>\n            </tr>\n            <tr>\n                        <th id=\"T_96740d49_4219_11eb_a5dc_b0360e9c9af9level0_row8\" class=\"row_heading level0 row8\" >Months since last delinquent</th>\n                        <td id=\"T_96740d49_4219_11eb_a5dc_b0360e9c9af9row8_col0\" class=\"data row8 col0\" >0.03</td>\n                        <td id=\"T_96740d49_4219_11eb_a5dc_b0360e9c9af9row8_col1\" class=\"data row8 col1\" >-0.06</td>\n                        <td id=\"T_96740d49_4219_11eb_a5dc_b0360e9c9af9row8_col2\" class=\"data row8 col2\" >0.01</td>\n                        <td id=\"T_96740d49_4219_11eb_a5dc_b0360e9c9af9row8_col3\" class=\"data row8 col3\" >0.05</td>\n                        <td id=\"T_96740d49_4219_11eb_a5dc_b0360e9c9af9row8_col4\" class=\"data row8 col4\" >-0.02</td>\n                        <td id=\"T_96740d49_4219_11eb_a5dc_b0360e9c9af9row8_col5\" class=\"data row8 col5\" >0.00</td>\n                        <td id=\"T_96740d49_4219_11eb_a5dc_b0360e9c9af9row8_col6\" class=\"data row8 col6\" >-0.00</td>\n                        <td id=\"T_96740d49_4219_11eb_a5dc_b0360e9c9af9row8_col7\" class=\"data row8 col7\" >0.11</td>\n                        <td id=\"T_96740d49_4219_11eb_a5dc_b0360e9c9af9row8_col8\" class=\"data row8 col8\" >1.00</td>\n                        <td id=\"T_96740d49_4219_11eb_a5dc_b0360e9c9af9row8_col9\" class=\"data row8 col9\" >0.11</td>\n                        <td id=\"T_96740d49_4219_11eb_a5dc_b0360e9c9af9row8_col10\" class=\"data row8 col10\" >-0.01</td>\n                        <td id=\"T_96740d49_4219_11eb_a5dc_b0360e9c9af9row8_col11\" class=\"data row8 col11\" >0.01</td>\n                        <td id=\"T_96740d49_4219_11eb_a5dc_b0360e9c9af9row8_col12\" class=\"data row8 col12\" >-0.00</td>\n                        <td id=\"T_96740d49_4219_11eb_a5dc_b0360e9c9af9row8_col13\" class=\"data row8 col13\" >-0.03</td>\n                        <td id=\"T_96740d49_4219_11eb_a5dc_b0360e9c9af9row8_col14\" class=\"data row8 col14\" >-0.04</td>\n                        <td id=\"T_96740d49_4219_11eb_a5dc_b0360e9c9af9row8_col15\" class=\"data row8 col15\" >-0.00</td>\n                        <td id=\"T_96740d49_4219_11eb_a5dc_b0360e9c9af9row8_col16\" class=\"data row8 col16\" >0.00</td>\n            </tr>\n            <tr>\n                        <th id=\"T_96740d49_4219_11eb_a5dc_b0360e9c9af9level0_row9\" class=\"row_heading level0 row9\" >Bankruptcies</th>\n                        <td id=\"T_96740d49_4219_11eb_a5dc_b0360e9c9af9row9_col0\" class=\"data row9 col0\" >0.00</td>\n                        <td id=\"T_96740d49_4219_11eb_a5dc_b0360e9c9af9row9_col1\" class=\"data row9 col1\" >-0.06</td>\n                        <td id=\"T_96740d49_4219_11eb_a5dc_b0360e9c9af9row9_col2\" class=\"data row9 col2\" >-0.05</td>\n                        <td id=\"T_96740d49_4219_11eb_a5dc_b0360e9c9af9row9_col3\" class=\"data row9 col3\" >0.06</td>\n                        <td id=\"T_96740d49_4219_11eb_a5dc_b0360e9c9af9row9_col4\" class=\"data row9 col4\" >-0.02</td>\n                        <td id=\"T_96740d49_4219_11eb_a5dc_b0360e9c9af9row9_col5\" class=\"data row9 col5\" >0.09</td>\n                        <td id=\"T_96740d49_4219_11eb_a5dc_b0360e9c9af9row9_col6\" class=\"data row9 col6\" >-0.01</td>\n                        <td id=\"T_96740d49_4219_11eb_a5dc_b0360e9c9af9row9_col7\" class=\"data row9 col7\" >0.73</td>\n                        <td id=\"T_96740d49_4219_11eb_a5dc_b0360e9c9af9row9_col8\" class=\"data row9 col8\" >0.11</td>\n                        <td id=\"T_96740d49_4219_11eb_a5dc_b0360e9c9af9row9_col9\" class=\"data row9 col9\" >1.00</td>\n                        <td id=\"T_96740d49_4219_11eb_a5dc_b0360e9c9af9row9_col10\" class=\"data row9 col10\" >-0.02</td>\n                        <td id=\"T_96740d49_4219_11eb_a5dc_b0360e9c9af9row9_col11\" class=\"data row9 col11\" >-0.03</td>\n                        <td id=\"T_96740d49_4219_11eb_a5dc_b0360e9c9af9row9_col12\" class=\"data row9 col12\" >-0.01</td>\n                        <td id=\"T_96740d49_4219_11eb_a5dc_b0360e9c9af9row9_col13\" class=\"data row9 col13\" >-0.14</td>\n                        <td id=\"T_96740d49_4219_11eb_a5dc_b0360e9c9af9row9_col14\" class=\"data row9 col14\" >-0.08</td>\n                        <td id=\"T_96740d49_4219_11eb_a5dc_b0360e9c9af9row9_col15\" class=\"data row9 col15\" >-0.02</td>\n                        <td id=\"T_96740d49_4219_11eb_a5dc_b0360e9c9af9row9_col16\" class=\"data row9 col16\" >0.00</td>\n            </tr>\n            <tr>\n                        <th id=\"T_96740d49_4219_11eb_a5dc_b0360e9c9af9level0_row10\" class=\"row_heading level0 row10\" >Purpose</th>\n                        <td id=\"T_96740d49_4219_11eb_a5dc_b0360e9c9af9row10_col0\" class=\"data row10 col0\" >0.05</td>\n                        <td id=\"T_96740d49_4219_11eb_a5dc_b0360e9c9af9row10_col1\" class=\"data row10 col1\" >0.04</td>\n                        <td id=\"T_96740d49_4219_11eb_a5dc_b0360e9c9af9row10_col2\" class=\"data row10 col2\" >0.01</td>\n                        <td id=\"T_96740d49_4219_11eb_a5dc_b0360e9c9af9row10_col3\" class=\"data row10 col3\" >0.01</td>\n                        <td id=\"T_96740d49_4219_11eb_a5dc_b0360e9c9af9row10_col4\" class=\"data row10 col4\" >-0.05</td>\n                        <td id=\"T_96740d49_4219_11eb_a5dc_b0360e9c9af9row10_col5\" class=\"data row10 col5\" >-0.00</td>\n                        <td id=\"T_96740d49_4219_11eb_a5dc_b0360e9c9af9row10_col6\" class=\"data row10 col6\" >0.01</td>\n                        <td id=\"T_96740d49_4219_11eb_a5dc_b0360e9c9af9row10_col7\" class=\"data row10 col7\" >0.01</td>\n                        <td id=\"T_96740d49_4219_11eb_a5dc_b0360e9c9af9row10_col8\" class=\"data row10 col8\" >-0.01</td>\n                        <td id=\"T_96740d49_4219_11eb_a5dc_b0360e9c9af9row10_col9\" class=\"data row10 col9\" >-0.02</td>\n                        <td id=\"T_96740d49_4219_11eb_a5dc_b0360e9c9af9row10_col10\" class=\"data row10 col10\" >1.00</td>\n                        <td id=\"T_96740d49_4219_11eb_a5dc_b0360e9c9af9row10_col11\" class=\"data row10 col11\" >-0.01</td>\n                        <td id=\"T_96740d49_4219_11eb_a5dc_b0360e9c9af9row10_col12\" class=\"data row10 col12\" >0.02</td>\n                        <td id=\"T_96740d49_4219_11eb_a5dc_b0360e9c9af9row10_col13\" class=\"data row10 col13\" >-0.08</td>\n                        <td id=\"T_96740d49_4219_11eb_a5dc_b0360e9c9af9row10_col14\" class=\"data row10 col14\" >-0.06</td>\n                        <td id=\"T_96740d49_4219_11eb_a5dc_b0360e9c9af9row10_col15\" class=\"data row10 col15\" >-0.01</td>\n                        <td id=\"T_96740d49_4219_11eb_a5dc_b0360e9c9af9row10_col16\" class=\"data row10 col16\" >0.01</td>\n            </tr>\n            <tr>\n                        <th id=\"T_96740d49_4219_11eb_a5dc_b0360e9c9af9level0_row11\" class=\"row_heading level0 row11\" >Term</th>\n                        <td id=\"T_96740d49_4219_11eb_a5dc_b0360e9c9af9row11_col0\" class=\"data row11 col0\" >-0.08</td>\n                        <td id=\"T_96740d49_4219_11eb_a5dc_b0360e9c9af9row11_col1\" class=\"data row11 col1\" >0.09</td>\n                        <td id=\"T_96740d49_4219_11eb_a5dc_b0360e9c9af9row11_col2\" class=\"data row11 col2\" >-0.02</td>\n                        <td id=\"T_96740d49_4219_11eb_a5dc_b0360e9c9af9row11_col3\" class=\"data row11 col3\" >0.00</td>\n                        <td id=\"T_96740d49_4219_11eb_a5dc_b0360e9c9af9row11_col4\" class=\"data row11 col4\" >0.07</td>\n                        <td id=\"T_96740d49_4219_11eb_a5dc_b0360e9c9af9row11_col5\" class=\"data row11 col5\" >0.04</td>\n                        <td id=\"T_96740d49_4219_11eb_a5dc_b0360e9c9af9row11_col6\" class=\"data row11 col6\" >-0.01</td>\n                        <td id=\"T_96740d49_4219_11eb_a5dc_b0360e9c9af9row11_col7\" class=\"data row11 col7\" >-0.02</td>\n                        <td id=\"T_96740d49_4219_11eb_a5dc_b0360e9c9af9row11_col8\" class=\"data row11 col8\" >0.01</td>\n                        <td id=\"T_96740d49_4219_11eb_a5dc_b0360e9c9af9row11_col9\" class=\"data row11 col9\" >-0.03</td>\n                        <td id=\"T_96740d49_4219_11eb_a5dc_b0360e9c9af9row11_col10\" class=\"data row11 col10\" >-0.01</td>\n                        <td id=\"T_96740d49_4219_11eb_a5dc_b0360e9c9af9row11_col11\" class=\"data row11 col11\" >1.00</td>\n                        <td id=\"T_96740d49_4219_11eb_a5dc_b0360e9c9af9row11_col12\" class=\"data row11 col12\" >-0.08</td>\n                        <td id=\"T_96740d49_4219_11eb_a5dc_b0360e9c9af9row11_col13\" class=\"data row11 col13\" >0.11</td>\n                        <td id=\"T_96740d49_4219_11eb_a5dc_b0360e9c9af9row11_col14\" class=\"data row11 col14\" >0.14</td>\n                        <td id=\"T_96740d49_4219_11eb_a5dc_b0360e9c9af9row11_col15\" class=\"data row11 col15\" >0.04</td>\n                        <td id=\"T_96740d49_4219_11eb_a5dc_b0360e9c9af9row11_col16\" class=\"data row11 col16\" >0.18</td>\n            </tr>\n            <tr>\n                        <th id=\"T_96740d49_4219_11eb_a5dc_b0360e9c9af9level0_row12\" class=\"row_heading level0 row12\" >Current Loan Amount</th>\n                        <td id=\"T_96740d49_4219_11eb_a5dc_b0360e9c9af9row12_col0\" class=\"data row12 col0\" >-0.01</td>\n                        <td id=\"T_96740d49_4219_11eb_a5dc_b0360e9c9af9row12_col1\" class=\"data row12 col1\" >0.05</td>\n                        <td id=\"T_96740d49_4219_11eb_a5dc_b0360e9c9af9row12_col2\" class=\"data row12 col2\" >0.01</td>\n                        <td id=\"T_96740d49_4219_11eb_a5dc_b0360e9c9af9row12_col3\" class=\"data row12 col3\" >-0.01</td>\n                        <td id=\"T_96740d49_4219_11eb_a5dc_b0360e9c9af9row12_col4\" class=\"data row12 col4\" >0.00</td>\n                        <td id=\"T_96740d49_4219_11eb_a5dc_b0360e9c9af9row12_col5\" class=\"data row12 col5\" >0.01</td>\n                        <td id=\"T_96740d49_4219_11eb_a5dc_b0360e9c9af9row12_col6\" class=\"data row12 col6\" >-0.00</td>\n                        <td id=\"T_96740d49_4219_11eb_a5dc_b0360e9c9af9row12_col7\" class=\"data row12 col7\" >-0.01</td>\n                        <td id=\"T_96740d49_4219_11eb_a5dc_b0360e9c9af9row12_col8\" class=\"data row12 col8\" >-0.00</td>\n                        <td id=\"T_96740d49_4219_11eb_a5dc_b0360e9c9af9row12_col9\" class=\"data row12 col9\" >-0.01</td>\n                        <td id=\"T_96740d49_4219_11eb_a5dc_b0360e9c9af9row12_col10\" class=\"data row12 col10\" >0.02</td>\n                        <td id=\"T_96740d49_4219_11eb_a5dc_b0360e9c9af9row12_col11\" class=\"data row12 col11\" >-0.08</td>\n                        <td id=\"T_96740d49_4219_11eb_a5dc_b0360e9c9af9row12_col12\" class=\"data row12 col12\" >1.00</td>\n                        <td id=\"T_96740d49_4219_11eb_a5dc_b0360e9c9af9row12_col13\" class=\"data row12 col13\" >0.02</td>\n                        <td id=\"T_96740d49_4219_11eb_a5dc_b0360e9c9af9row12_col14\" class=\"data row12 col14\" >-0.01</td>\n                        <td id=\"T_96740d49_4219_11eb_a5dc_b0360e9c9af9row12_col15\" class=\"data row12 col15\" >-0.08</td>\n                        <td id=\"T_96740d49_4219_11eb_a5dc_b0360e9c9af9row12_col16\" class=\"data row12 col16\" >-0.23</td>\n            </tr>\n            <tr>\n                        <th id=\"T_96740d49_4219_11eb_a5dc_b0360e9c9af9level0_row13\" class=\"row_heading level0 row13\" >Current Credit Balance</th>\n                        <td id=\"T_96740d49_4219_11eb_a5dc_b0360e9c9af9row13_col0\" class=\"data row13 col0\" >-0.13</td>\n                        <td id=\"T_96740d49_4219_11eb_a5dc_b0360e9c9af9row13_col1\" class=\"data row13 col1\" >0.35</td>\n                        <td id=\"T_96740d49_4219_11eb_a5dc_b0360e9c9af9row13_col2\" class=\"data row13 col2\" >-0.04</td>\n                        <td id=\"T_96740d49_4219_11eb_a5dc_b0360e9c9af9row13_col3\" class=\"data row13 col3\" >-0.01</td>\n                        <td id=\"T_96740d49_4219_11eb_a5dc_b0360e9c9af9row13_col4\" class=\"data row13 col4\" >0.27</td>\n                        <td id=\"T_96740d49_4219_11eb_a5dc_b0360e9c9af9row13_col5\" class=\"data row13 col5\" >0.22</td>\n                        <td id=\"T_96740d49_4219_11eb_a5dc_b0360e9c9af9row13_col6\" class=\"data row13 col6\" >0.09</td>\n                        <td id=\"T_96740d49_4219_11eb_a5dc_b0360e9c9af9row13_col7\" class=\"data row13 col7\" >-0.12</td>\n                        <td id=\"T_96740d49_4219_11eb_a5dc_b0360e9c9af9row13_col8\" class=\"data row13 col8\" >-0.03</td>\n                        <td id=\"T_96740d49_4219_11eb_a5dc_b0360e9c9af9row13_col9\" class=\"data row13 col9\" >-0.14</td>\n                        <td id=\"T_96740d49_4219_11eb_a5dc_b0360e9c9af9row13_col10\" class=\"data row13 col10\" >-0.08</td>\n                        <td id=\"T_96740d49_4219_11eb_a5dc_b0360e9c9af9row13_col11\" class=\"data row13 col11\" >0.11</td>\n                        <td id=\"T_96740d49_4219_11eb_a5dc_b0360e9c9af9row13_col12\" class=\"data row13 col12\" >0.02</td>\n                        <td id=\"T_96740d49_4219_11eb_a5dc_b0360e9c9af9row13_col13\" class=\"data row13 col13\" >1.00</td>\n                        <td id=\"T_96740d49_4219_11eb_a5dc_b0360e9c9af9row13_col14\" class=\"data row13 col14\" >0.50</td>\n                        <td id=\"T_96740d49_4219_11eb_a5dc_b0360e9c9af9row13_col15\" class=\"data row13 col15\" >-0.00</td>\n                        <td id=\"T_96740d49_4219_11eb_a5dc_b0360e9c9af9row13_col16\" class=\"data row13 col16\" >-0.02</td>\n            </tr>\n            <tr>\n                        <th id=\"T_96740d49_4219_11eb_a5dc_b0360e9c9af9level0_row14\" class=\"row_heading level0 row14\" >Monthly Debt</th>\n                        <td id=\"T_96740d49_4219_11eb_a5dc_b0360e9c9af9row14_col0\" class=\"data row14 col0\" >-0.18</td>\n                        <td id=\"T_96740d49_4219_11eb_a5dc_b0360e9c9af9row14_col1\" class=\"data row14 col1\" >0.52</td>\n                        <td id=\"T_96740d49_4219_11eb_a5dc_b0360e9c9af9row14_col2\" class=\"data row14 col2\" >-0.01</td>\n                        <td id=\"T_96740d49_4219_11eb_a5dc_b0360e9c9af9row14_col3\" class=\"data row14 col3\" >0.03</td>\n                        <td id=\"T_96740d49_4219_11eb_a5dc_b0360e9c9af9row14_col4\" class=\"data row14 col4\" >0.41</td>\n                        <td id=\"T_96740d49_4219_11eb_a5dc_b0360e9c9af9row14_col5\" class=\"data row14 col5\" >0.19</td>\n                        <td id=\"T_96740d49_4219_11eb_a5dc_b0360e9c9af9row14_col6\" class=\"data row14 col6\" >0.01</td>\n                        <td id=\"T_96740d49_4219_11eb_a5dc_b0360e9c9af9row14_col7\" class=\"data row14 col7\" >-0.04</td>\n                        <td id=\"T_96740d49_4219_11eb_a5dc_b0360e9c9af9row14_col8\" class=\"data row14 col8\" >-0.04</td>\n                        <td id=\"T_96740d49_4219_11eb_a5dc_b0360e9c9af9row14_col9\" class=\"data row14 col9\" >-0.08</td>\n                        <td id=\"T_96740d49_4219_11eb_a5dc_b0360e9c9af9row14_col10\" class=\"data row14 col10\" >-0.06</td>\n                        <td id=\"T_96740d49_4219_11eb_a5dc_b0360e9c9af9row14_col11\" class=\"data row14 col11\" >0.14</td>\n                        <td id=\"T_96740d49_4219_11eb_a5dc_b0360e9c9af9row14_col12\" class=\"data row14 col12\" >-0.01</td>\n                        <td id=\"T_96740d49_4219_11eb_a5dc_b0360e9c9af9row14_col13\" class=\"data row14 col13\" >0.50</td>\n                        <td id=\"T_96740d49_4219_11eb_a5dc_b0360e9c9af9row14_col14\" class=\"data row14 col14\" >1.00</td>\n                        <td id=\"T_96740d49_4219_11eb_a5dc_b0360e9c9af9row14_col15\" class=\"data row14 col15\" >-0.00</td>\n                        <td id=\"T_96740d49_4219_11eb_a5dc_b0360e9c9af9row14_col16\" class=\"data row14 col16\" >0.02</td>\n            </tr>\n            <tr>\n                        <th id=\"T_96740d49_4219_11eb_a5dc_b0360e9c9af9level0_row15\" class=\"row_heading level0 row15\" >Credit Score</th>\n                        <td id=\"T_96740d49_4219_11eb_a5dc_b0360e9c9af9row15_col0\" class=\"data row15 col0\" >0.03</td>\n                        <td id=\"T_96740d49_4219_11eb_a5dc_b0360e9c9af9row15_col1\" class=\"data row15 col1\" >-0.02</td>\n                        <td id=\"T_96740d49_4219_11eb_a5dc_b0360e9c9af9row15_col2\" class=\"data row15 col2\" >0.00</td>\n                        <td id=\"T_96740d49_4219_11eb_a5dc_b0360e9c9af9row15_col3\" class=\"data row15 col3\" >0.01</td>\n                        <td id=\"T_96740d49_4219_11eb_a5dc_b0360e9c9af9row15_col4\" class=\"data row15 col4\" >0.01</td>\n                        <td id=\"T_96740d49_4219_11eb_a5dc_b0360e9c9af9row15_col5\" class=\"data row15 col5\" >-0.01</td>\n                        <td id=\"T_96740d49_4219_11eb_a5dc_b0360e9c9af9row15_col6\" class=\"data row15 col6\" >-0.01</td>\n                        <td id=\"T_96740d49_4219_11eb_a5dc_b0360e9c9af9row15_col7\" class=\"data row15 col7\" >-0.02</td>\n                        <td id=\"T_96740d49_4219_11eb_a5dc_b0360e9c9af9row15_col8\" class=\"data row15 col8\" >-0.00</td>\n                        <td id=\"T_96740d49_4219_11eb_a5dc_b0360e9c9af9row15_col9\" class=\"data row15 col9\" >-0.02</td>\n                        <td id=\"T_96740d49_4219_11eb_a5dc_b0360e9c9af9row15_col10\" class=\"data row15 col10\" >-0.01</td>\n                        <td id=\"T_96740d49_4219_11eb_a5dc_b0360e9c9af9row15_col11\" class=\"data row15 col11\" >0.04</td>\n                        <td id=\"T_96740d49_4219_11eb_a5dc_b0360e9c9af9row15_col12\" class=\"data row15 col12\" >-0.08</td>\n                        <td id=\"T_96740d49_4219_11eb_a5dc_b0360e9c9af9row15_col13\" class=\"data row15 col13\" >-0.00</td>\n                        <td id=\"T_96740d49_4219_11eb_a5dc_b0360e9c9af9row15_col14\" class=\"data row15 col14\" >-0.00</td>\n                        <td id=\"T_96740d49_4219_11eb_a5dc_b0360e9c9af9row15_col15\" class=\"data row15 col15\" >1.00</td>\n                        <td id=\"T_96740d49_4219_11eb_a5dc_b0360e9c9af9row15_col16\" class=\"data row15 col16\" >0.38</td>\n            </tr>\n            <tr>\n                        <th id=\"T_96740d49_4219_11eb_a5dc_b0360e9c9af9level0_row16\" class=\"row_heading level0 row16\" >Credit Default</th>\n                        <td id=\"T_96740d49_4219_11eb_a5dc_b0360e9c9af9row16_col0\" class=\"data row16 col0\" >0.05</td>\n                        <td id=\"T_96740d49_4219_11eb_a5dc_b0360e9c9af9row16_col1\" class=\"data row16 col1\" >-0.10</td>\n                        <td id=\"T_96740d49_4219_11eb_a5dc_b0360e9c9af9row16_col2\" class=\"data row16 col2\" >-0.01</td>\n                        <td id=\"T_96740d49_4219_11eb_a5dc_b0360e9c9af9row16_col3\" class=\"data row16 col3\" >0.02</td>\n                        <td id=\"T_96740d49_4219_11eb_a5dc_b0360e9c9af9row16_col4\" class=\"data row16 col4\" >0.03</td>\n                        <td id=\"T_96740d49_4219_11eb_a5dc_b0360e9c9af9row16_col5\" class=\"data row16 col5\" >-0.02</td>\n                        <td id=\"T_96740d49_4219_11eb_a5dc_b0360e9c9af9row16_col6\" class=\"data row16 col6\" >-0.01</td>\n                        <td id=\"T_96740d49_4219_11eb_a5dc_b0360e9c9af9row16_col7\" class=\"data row16 col7\" >0.02</td>\n                        <td id=\"T_96740d49_4219_11eb_a5dc_b0360e9c9af9row16_col8\" class=\"data row16 col8\" >0.00</td>\n                        <td id=\"T_96740d49_4219_11eb_a5dc_b0360e9c9af9row16_col9\" class=\"data row16 col9\" >0.00</td>\n                        <td id=\"T_96740d49_4219_11eb_a5dc_b0360e9c9af9row16_col10\" class=\"data row16 col10\" >0.01</td>\n                        <td id=\"T_96740d49_4219_11eb_a5dc_b0360e9c9af9row16_col11\" class=\"data row16 col11\" >0.18</td>\n                        <td id=\"T_96740d49_4219_11eb_a5dc_b0360e9c9af9row16_col12\" class=\"data row16 col12\" >-0.23</td>\n                        <td id=\"T_96740d49_4219_11eb_a5dc_b0360e9c9af9row16_col13\" class=\"data row16 col13\" >-0.02</td>\n                        <td id=\"T_96740d49_4219_11eb_a5dc_b0360e9c9af9row16_col14\" class=\"data row16 col14\" >0.02</td>\n                        <td id=\"T_96740d49_4219_11eb_a5dc_b0360e9c9af9row16_col15\" class=\"data row16 col15\" >0.38</td>\n                        <td id=\"T_96740d49_4219_11eb_a5dc_b0360e9c9af9row16_col16\" class=\"data row16 col16\" >1.00</td>\n            </tr>\n    </tbody></table>"
     },
     "metadata": {},
     "execution_count": 25
    }
   ],
   "source": [
    "df_train.corr().style.background_gradient(cmap='coolwarm').set_precision(2)"
   ]
  },
  {
   "source": [
    "После обработки значений object, влиять на целевую переменную начал параметр Term. Обработаем еще немногокатегориальные переменные"
   ],
   "cell_type": "markdown",
   "metadata": {}
  },
  {
   "cell_type": "code",
   "execution_count": 26,
   "metadata": {},
   "outputs": [],
   "source": [
    "def create_category_columns(df: pd.DataFrame) -> pd.DataFrame:\n",
    "    df['Term'] = df['Term'].astype('category')\n",
    "    df['Home Ownership'] = df['Home Ownership'].astype('category')\n",
    "    return pd.get_dummies(df)\n",
    "    "
   ]
  },
  {
   "cell_type": "code",
   "execution_count": 27,
   "metadata": {},
   "outputs": [],
   "source": [
    "# df_train = create_category_columns(df_train)\n",
    "# df_test = create_category_columns(df_test)"
   ]
  },
  {
   "cell_type": "code",
   "execution_count": 28,
   "metadata": {},
   "outputs": [
    {
     "output_type": "stream",
     "name": "stdout",
     "text": [
      "<class 'pandas.core.frame.DataFrame'>\nRangeIndex: 7500 entries, 0 to 7499\nData columns (total 17 columns):\n #   Column                        Non-Null Count  Dtype  \n---  ------                        --------------  -----  \n 0   Home Ownership                7500 non-null   int32  \n 1   Annual Income                 7500 non-null   float64\n 2   Years in current job          7500 non-null   int32  \n 3   Tax Liens                     7500 non-null   float64\n 4   Number of Open Accounts       7500 non-null   float64\n 5   Years of Credit History       7500 non-null   float64\n 6   Maximum Open Credit           7500 non-null   float64\n 7   Number of Credit Problems     7500 non-null   float64\n 8   Months since last delinquent  7500 non-null   float64\n 9   Bankruptcies                  7500 non-null   float64\n 10  Purpose                       7500 non-null   int32  \n 11  Term                          7500 non-null   int32  \n 12  Current Loan Amount           7500 non-null   float64\n 13  Current Credit Balance        7500 non-null   float64\n 14  Monthly Debt                  7500 non-null   float64\n 15  Credit Score                  7500 non-null   float64\n 16  Credit Default                7500 non-null   int64  \ndtypes: float64(12), int32(4), int64(1)\nmemory usage: 879.0 KB\n"
     ]
    }
   ],
   "source": [
    "df_train.info()"
   ]
  },
  {
   "source": [
    "## Классификация"
   ],
   "cell_type": "markdown",
   "metadata": {}
  },
  {
   "cell_type": "code",
   "execution_count": 29,
   "metadata": {},
   "outputs": [],
   "source": [
    "import pickle\n",
    "import random\n",
    "\n",
    "from sklearn.preprocessing import StandardScaler, MinMaxScaler\n",
    "from sklearn.model_selection import train_test_split, ShuffleSplit, cross_val_score, learning_curve\n",
    "from sklearn.model_selection import KFold, GridSearchCV, RandomizedSearchCV\n",
    "from sklearn.metrics import classification_report, f1_score, precision_score, recall_score\n",
    "\n",
    "from sklearn.linear_model import LogisticRegression\n",
    "from sklearn.neighbors import KNeighborsClassifier\n",
    "#import xgboost as xgb, lightgbm as lgbm, catboost as catb"
   ]
  },
  {
   "cell_type": "code",
   "execution_count": 30,
   "metadata": {},
   "outputs": [],
   "source": [
    "def get_classification_report(y_train_true, y_train_pred, y_test_true, y_test_pred):\n",
    "    print('TRAIN\\n\\n' + classification_report(y_train_true, y_train_pred))\n",
    "    print('TEST\\n\\n' + classification_report(y_test_true, y_test_pred))\n",
    "    print('CONFUSION MATRIX\\n')\n",
    "    print(pd.crosstab(y_test_true, y_test_pred))"
   ]
  },
  {
   "source": [
    "Разбиение на train и test"
   ],
   "cell_type": "markdown",
   "metadata": {}
  },
  {
   "cell_type": "code",
   "execution_count": 31,
   "metadata": {},
   "outputs": [],
   "source": [
    "target = \"Credit Default\"\n",
    "\n",
    "X = df_train.drop(target, axis=1)\n",
    "y = df_train[target]\n",
    "\n",
    "X_train, X_test, y_train, y_test = train_test_split(X, y, shuffle=True, test_size=0.30, random_state=21)"
   ]
  },
  {
   "source": [],
   "cell_type": "markdown",
   "metadata": {}
  },
  {
   "cell_type": "code",
   "execution_count": 32,
   "metadata": {},
   "outputs": [
    {
     "output_type": "stream",
     "name": "stdout",
     "text": [
      "TRAIN\n\n              precision    recall  f1-score   support\n\n           0       0.76      0.98      0.86      3771\n           1       0.81      0.21      0.33      1479\n\n    accuracy                           0.76      5250\n   macro avg       0.78      0.59      0.59      5250\nweighted avg       0.77      0.76      0.71      5250\n\nTEST\n\n              precision    recall  f1-score   support\n\n           0       0.76      0.98      0.85      1616\n           1       0.77      0.21      0.33       634\n\n    accuracy                           0.76      2250\n   macro avg       0.77      0.59      0.59      2250\nweighted avg       0.76      0.76      0.71      2250\n\nCONFUSION MATRIX\n\ncol_0              0    1\nCredit Default           \n0               1577   39\n1                501  133\n"
     ]
    }
   ],
   "source": [
    "model_lr = LogisticRegression()\n",
    "model_lr.fit(X_train, y_train)\n",
    "\n",
    "y_train_pred = model_lr.predict(X_train)\n",
    "y_test_pred = model_lr.predict(X_test)\n",
    "\n",
    "get_classification_report(y_train, y_train_pred, y_test, y_test_pred)"
   ]
  },
  {
   "cell_type": "code",
   "execution_count": null,
   "metadata": {},
   "outputs": [],
   "source": []
  }
 ]
}