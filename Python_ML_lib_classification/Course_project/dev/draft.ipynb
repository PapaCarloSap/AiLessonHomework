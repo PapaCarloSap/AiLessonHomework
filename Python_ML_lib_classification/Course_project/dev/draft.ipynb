{
 "metadata": {
  "language_info": {
   "codemirror_mode": {
    "name": "ipython",
    "version": 3
   },
   "file_extension": ".py",
   "mimetype": "text/x-python",
   "name": "python",
   "nbconvert_exporter": "python",
   "pygments_lexer": "ipython3",
   "version": 3
  },
  "orig_nbformat": 2
 },
 "nbformat": 4,
 "nbformat_minor": 2,
 "cells": [
  {
   "cell_type": "code",
   "execution_count": null,
   "metadata": {},
   "outputs": [],
   "source": [
    "import numpy as np\n",
    "import pandas as pd\n",
    "import matplotlib.pyplot as plt\n",
    "from sklearn.model_selection import train_test_split\n",
    "from sklearn.ensemble import RandomForestRegressor\n",
    "from sklearn.metrics import r2_score\n",
    "\n",
    "%matplotlib inline\n",
    "%config InlineBackend.figure_format = 'svg'\n",
    "pd.options.display.float_format = '{:,.2f}'.format"
   ]
  },
  {
   "source": [
    "## Обзор данных\n",
    "\n",
    "### Описание датасета\n",
    "\n",
    "    Home Ownership - домовладение\n",
    "    Annual Income - годовой доход\n",
    "    Years in current job - количество лет на текущем месте работы\n",
    "    Tax Liens - налоговые обременения\n",
    "    Number of Open Accounts - количество открытых счетов\n",
    "    Years of Credit History - количество лет кредитной истории\n",
    "    Maximum Open Credit - наибольший открытый кредит\n",
    "    Number of Credit Problems - количество проблем с кредитом\n",
    "    Months since last delinquent - количество месяцев с последней просрочки платежа\n",
    "    Bankruptcies - банкротства\n",
    "    Purpose - цель кредита\n",
    "    Term - срок кредита\n",
    "    Current Loan Amount - текущая сумма кредита\n",
    "    Current Credit Balance - текущий кредитный баланс\n",
    "    Monthly Debt - ежемесячный долг\n",
    "    Credit Default - факт невыполнения кредитных обязательств (0 - погашен вовремя, 1 - просрочка)\n",
    "\n",
    "### Пути к директориям и файлам\n"
   ],
   "cell_type": "markdown",
   "metadata": {}
  },
  {
   "cell_type": "code",
   "execution_count": null,
   "metadata": {},
   "outputs": [],
   "source": [
    "TRAIN_DATASET_PATH = '../course_project_train.csv'\n",
    "TEST_DATASET_PATH = '../course_project_test.csv'\n",
    "\n",
    "df = pd.read_csv(TRAIN_DATASET_PATH, index_col='Id')\n",
    "test_df = pd.read_csv(TEST_DATASET_PATH, index_col='Id')"
   ]
  }
 ]
}