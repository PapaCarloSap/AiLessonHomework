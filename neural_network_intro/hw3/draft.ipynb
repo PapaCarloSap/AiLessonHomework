{
 "cells": [
  {
   "cell_type": "code",
   "execution_count": 1,
   "source": [
    "import tensorflow as tf"
   ],
   "outputs": [],
   "metadata": {}
  },
  {
   "cell_type": "code",
   "execution_count": 2,
   "source": [
    "w = tf.Variable(tf.random.normal((3,2)))\r\n",
    "b = tf.Variable(tf.zeros(2, dtype=tf.float32))\r\n",
    "x = tf.Variable([[-2.0, 1.0, 3.0]])"
   ],
   "outputs": [],
   "metadata": {}
  },
  {
   "cell_type": "code",
   "execution_count": 3,
   "source": [
    "with tf.GradientTape() as tape:\r\n",
    "    y = x @ w + b\r\n",
    "    loss = tf.reduce_mean(y**2)\r\n",
    "\r\n",
    "df = tape.gradient(loss, [w, b])\r\n",
    "print(df[0], df[1], sep='\\n')"
   ],
   "outputs": [
    {
     "output_type": "stream",
     "name": "stdout",
     "text": [
      "tf.Tensor(\n",
      "[[ 2.5981586 -3.5357833]\n",
      " [-1.2990793  1.7678916]\n",
      " [-3.8972378  5.3036747]], shape=(3, 2), dtype=float32)\n",
      "tf.Tensor([-1.2990793  1.7678916], shape=(2,), dtype=float32)\n"
     ]
    }
   ],
   "metadata": {}
  }
 ],
 "metadata": {
  "orig_nbformat": 4,
  "language_info": {
   "name": "python",
   "version": "3.9.7",
   "mimetype": "text/x-python",
   "codemirror_mode": {
    "name": "ipython",
    "version": 3
   },
   "pygments_lexer": "ipython3",
   "nbconvert_exporter": "python",
   "file_extension": ".py"
  },
  "kernelspec": {
   "name": "python3",
   "display_name": "Python 3.9.7 64-bit ('.venv': pipenv)"
  },
  "interpreter": {
   "hash": "c2f68de744632234e37bc00971cb2314658b23e5a1be1c28c2cd3eff232ffafa"
  }
 },
 "nbformat": 4,
 "nbformat_minor": 2
}